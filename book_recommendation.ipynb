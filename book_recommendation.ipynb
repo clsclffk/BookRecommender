{
 "cells": [
  {
   "cell_type": "markdown",
   "id": "58c1087a",
   "metadata": {},
   "source": [
    "## 라이브러리 설치 및 로드"
   ]
  },
  {
   "cell_type": "code",
   "execution_count": 13,
   "id": "bc8ef08a",
   "metadata": {
    "scrolled": true
   },
   "outputs": [
    {
     "name": "stdout",
     "output_type": "stream",
     "text": [
      "Collecting missingno\n",
      "  Downloading missingno-0.5.2-py3-none-any.whl.metadata (639 bytes)\n",
      "Requirement already satisfied: numpy in /home/ubuntu/anaconda3/envs/spark_start/lib/python3.8/site-packages (from missingno) (1.24.4)\n",
      "Requirement already satisfied: matplotlib in /home/ubuntu/anaconda3/envs/spark_start/lib/python3.8/site-packages (from missingno) (3.7.5)\n",
      "Collecting scipy (from missingno)\n",
      "  Downloading scipy-1.10.1-cp38-cp38-manylinux_2_17_x86_64.manylinux2014_x86_64.whl.metadata (58 kB)\n",
      "Collecting seaborn (from missingno)\n",
      "  Downloading seaborn-0.13.2-py3-none-any.whl.metadata (5.4 kB)\n",
      "Requirement already satisfied: contourpy>=1.0.1 in /home/ubuntu/anaconda3/envs/spark_start/lib/python3.8/site-packages (from matplotlib->missingno) (1.1.1)\n",
      "Requirement already satisfied: cycler>=0.10 in /home/ubuntu/anaconda3/envs/spark_start/lib/python3.8/site-packages (from matplotlib->missingno) (0.12.1)\n",
      "Requirement already satisfied: fonttools>=4.22.0 in /home/ubuntu/anaconda3/envs/spark_start/lib/python3.8/site-packages (from matplotlib->missingno) (4.55.2)\n",
      "Requirement already satisfied: kiwisolver>=1.0.1 in /home/ubuntu/anaconda3/envs/spark_start/lib/python3.8/site-packages (from matplotlib->missingno) (1.4.7)\n",
      "Requirement already satisfied: packaging>=20.0 in /home/ubuntu/anaconda3/envs/spark_start/lib/python3.8/site-packages (from matplotlib->missingno) (24.2)\n",
      "Requirement already satisfied: pillow>=6.2.0 in /home/ubuntu/anaconda3/envs/spark_start/lib/python3.8/site-packages (from matplotlib->missingno) (10.4.0)\n",
      "Requirement already satisfied: pyparsing>=2.3.1 in /home/ubuntu/anaconda3/envs/spark_start/lib/python3.8/site-packages (from matplotlib->missingno) (3.1.4)\n",
      "Requirement already satisfied: python-dateutil>=2.7 in /home/ubuntu/anaconda3/envs/spark_start/lib/python3.8/site-packages (from matplotlib->missingno) (2.9.0.post0)\n",
      "Requirement already satisfied: importlib-resources>=3.2.0 in /home/ubuntu/anaconda3/envs/spark_start/lib/python3.8/site-packages (from matplotlib->missingno) (6.4.5)\n",
      "Requirement already satisfied: pandas>=1.2 in /home/ubuntu/anaconda3/envs/spark_start/lib/python3.8/site-packages (from seaborn->missingno) (2.0.3)\n",
      "Requirement already satisfied: zipp>=3.1.0 in /home/ubuntu/anaconda3/envs/spark_start/lib/python3.8/site-packages (from importlib-resources>=3.2.0->matplotlib->missingno) (3.20.2)\n",
      "Requirement already satisfied: pytz>=2020.1 in /home/ubuntu/anaconda3/envs/spark_start/lib/python3.8/site-packages (from pandas>=1.2->seaborn->missingno) (2024.2)\n",
      "Requirement already satisfied: tzdata>=2022.1 in /home/ubuntu/anaconda3/envs/spark_start/lib/python3.8/site-packages (from pandas>=1.2->seaborn->missingno) (2024.2)\n",
      "Requirement already satisfied: six>=1.5 in /home/ubuntu/anaconda3/envs/spark_start/lib/python3.8/site-packages (from python-dateutil>=2.7->matplotlib->missingno) (1.16.0)\n",
      "Downloading missingno-0.5.2-py3-none-any.whl (8.7 kB)\n",
      "Downloading scipy-1.10.1-cp38-cp38-manylinux_2_17_x86_64.manylinux2014_x86_64.whl (34.5 MB)\n",
      "\u001b[2K   \u001b[90m━━━━━━━━━━━━━━━━━━━━━━━━━━━━━━━━━━━━━━━━\u001b[0m \u001b[32m34.5/34.5 MB\u001b[0m \u001b[31m162.1 MB/s\u001b[0m eta \u001b[36m0:00:00\u001b[0m00:01\u001b[0m\n",
      "\u001b[?25hDownloading seaborn-0.13.2-py3-none-any.whl (294 kB)\n",
      "Installing collected packages: scipy, seaborn, missingno\n",
      "Successfully installed missingno-0.5.2 scipy-1.10.1 seaborn-0.13.2\n"
     ]
    }
   ],
   "source": [
    "!pip install missingno"
   ]
  },
  {
   "cell_type": "code",
   "execution_count": 2,
   "id": "d37795a7",
   "metadata": {},
   "outputs": [],
   "source": [
    "import pandas as pd\n",
    "import missingno as msno\n",
    "import matplotlib.pyplot as plt\n",
    "import seaborn as sns\n",
    "\n",
    "# 문자열 길이 제한 없애기\n",
    "pd.set_option('display.max_colwidth', None)"
   ]
  },
  {
   "cell_type": "markdown",
   "id": "824c27e2",
   "metadata": {},
   "source": [
    "## 데이터 로드"
   ]
  },
  {
   "cell_type": "code",
   "execution_count": 3,
   "id": "06a577b8",
   "metadata": {},
   "outputs": [
    {
     "data": {
      "text/html": [
       "<div>\n",
       "<style scoped>\n",
       "    .dataframe tbody tr th:only-of-type {\n",
       "        vertical-align: middle;\n",
       "    }\n",
       "\n",
       "    .dataframe tbody tr th {\n",
       "        vertical-align: top;\n",
       "    }\n",
       "\n",
       "    .dataframe thead th {\n",
       "        text-align: right;\n",
       "    }\n",
       "</style>\n",
       "<table border=\"1\" class=\"dataframe\">\n",
       "  <thead>\n",
       "    <tr style=\"text-align: right;\">\n",
       "      <th></th>\n",
       "      <th>goodreads_book_id</th>\n",
       "      <th>tag_id</th>\n",
       "      <th>count</th>\n",
       "    </tr>\n",
       "  </thead>\n",
       "  <tbody>\n",
       "    <tr>\n",
       "      <th>0</th>\n",
       "      <td>1</td>\n",
       "      <td>30574</td>\n",
       "      <td>167697</td>\n",
       "    </tr>\n",
       "    <tr>\n",
       "      <th>1</th>\n",
       "      <td>1</td>\n",
       "      <td>11305</td>\n",
       "      <td>37174</td>\n",
       "    </tr>\n",
       "    <tr>\n",
       "      <th>2</th>\n",
       "      <td>1</td>\n",
       "      <td>11557</td>\n",
       "      <td>34173</td>\n",
       "    </tr>\n",
       "    <tr>\n",
       "      <th>3</th>\n",
       "      <td>1</td>\n",
       "      <td>8717</td>\n",
       "      <td>12986</td>\n",
       "    </tr>\n",
       "    <tr>\n",
       "      <th>4</th>\n",
       "      <td>1</td>\n",
       "      <td>33114</td>\n",
       "      <td>12716</td>\n",
       "    </tr>\n",
       "    <tr>\n",
       "      <th>...</th>\n",
       "      <td>...</td>\n",
       "      <td>...</td>\n",
       "      <td>...</td>\n",
       "    </tr>\n",
       "    <tr>\n",
       "      <th>999907</th>\n",
       "      <td>33288638</td>\n",
       "      <td>21303</td>\n",
       "      <td>7</td>\n",
       "    </tr>\n",
       "    <tr>\n",
       "      <th>999908</th>\n",
       "      <td>33288638</td>\n",
       "      <td>17271</td>\n",
       "      <td>7</td>\n",
       "    </tr>\n",
       "    <tr>\n",
       "      <th>999909</th>\n",
       "      <td>33288638</td>\n",
       "      <td>1126</td>\n",
       "      <td>7</td>\n",
       "    </tr>\n",
       "    <tr>\n",
       "      <th>999910</th>\n",
       "      <td>33288638</td>\n",
       "      <td>11478</td>\n",
       "      <td>7</td>\n",
       "    </tr>\n",
       "    <tr>\n",
       "      <th>999911</th>\n",
       "      <td>33288638</td>\n",
       "      <td>27939</td>\n",
       "      <td>7</td>\n",
       "    </tr>\n",
       "  </tbody>\n",
       "</table>\n",
       "<p>999912 rows × 3 columns</p>\n",
       "</div>"
      ],
      "text/plain": [
       "        goodreads_book_id  tag_id   count\n",
       "0                       1   30574  167697\n",
       "1                       1   11305   37174\n",
       "2                       1   11557   34173\n",
       "3                       1    8717   12986\n",
       "4                       1   33114   12716\n",
       "...                   ...     ...     ...\n",
       "999907           33288638   21303       7\n",
       "999908           33288638   17271       7\n",
       "999909           33288638    1126       7\n",
       "999910           33288638   11478       7\n",
       "999911           33288638   27939       7\n",
       "\n",
       "[999912 rows x 3 columns]"
      ]
     },
     "execution_count": 3,
     "metadata": {},
     "output_type": "execute_result"
    }
   ],
   "source": [
    "book_tags = pd.read_csv('data/GoodBooks/book_tags.csv')\n",
    "book_tags"
   ]
  },
  {
   "cell_type": "code",
   "execution_count": 4,
   "id": "4e341c65",
   "metadata": {
    "scrolled": true
   },
   "outputs": [
    {
     "data": {
      "text/html": [
       "<div>\n",
       "<style scoped>\n",
       "    .dataframe tbody tr th:only-of-type {\n",
       "        vertical-align: middle;\n",
       "    }\n",
       "\n",
       "    .dataframe tbody tr th {\n",
       "        vertical-align: top;\n",
       "    }\n",
       "\n",
       "    .dataframe thead th {\n",
       "        text-align: right;\n",
       "    }\n",
       "</style>\n",
       "<table border=\"1\" class=\"dataframe\">\n",
       "  <thead>\n",
       "    <tr style=\"text-align: right;\">\n",
       "      <th></th>\n",
       "      <th>book_id</th>\n",
       "      <th>goodreads_book_id</th>\n",
       "      <th>best_book_id</th>\n",
       "      <th>work_id</th>\n",
       "      <th>books_count</th>\n",
       "      <th>isbn</th>\n",
       "      <th>isbn13</th>\n",
       "      <th>authors</th>\n",
       "      <th>original_publication_year</th>\n",
       "      <th>original_title</th>\n",
       "      <th>...</th>\n",
       "      <th>ratings_count</th>\n",
       "      <th>work_ratings_count</th>\n",
       "      <th>work_text_reviews_count</th>\n",
       "      <th>ratings_1</th>\n",
       "      <th>ratings_2</th>\n",
       "      <th>ratings_3</th>\n",
       "      <th>ratings_4</th>\n",
       "      <th>ratings_5</th>\n",
       "      <th>image_url</th>\n",
       "      <th>small_image_url</th>\n",
       "    </tr>\n",
       "  </thead>\n",
       "  <tbody>\n",
       "    <tr>\n",
       "      <th>0</th>\n",
       "      <td>1</td>\n",
       "      <td>2767052</td>\n",
       "      <td>2767052</td>\n",
       "      <td>2792775</td>\n",
       "      <td>272</td>\n",
       "      <td>439023483</td>\n",
       "      <td>9.780439e+12</td>\n",
       "      <td>Suzanne Collins</td>\n",
       "      <td>2008.0</td>\n",
       "      <td>The Hunger Games</td>\n",
       "      <td>...</td>\n",
       "      <td>4780653</td>\n",
       "      <td>4942365</td>\n",
       "      <td>155254</td>\n",
       "      <td>66715</td>\n",
       "      <td>127936</td>\n",
       "      <td>560092</td>\n",
       "      <td>1481305</td>\n",
       "      <td>2706317</td>\n",
       "      <td>https://images.gr-assets.com/books/1447303603m/2767052.jpg</td>\n",
       "      <td>https://images.gr-assets.com/books/1447303603s/2767052.jpg</td>\n",
       "    </tr>\n",
       "    <tr>\n",
       "      <th>1</th>\n",
       "      <td>2</td>\n",
       "      <td>3</td>\n",
       "      <td>3</td>\n",
       "      <td>4640799</td>\n",
       "      <td>491</td>\n",
       "      <td>439554934</td>\n",
       "      <td>9.780440e+12</td>\n",
       "      <td>J.K. Rowling, Mary GrandPré</td>\n",
       "      <td>1997.0</td>\n",
       "      <td>Harry Potter and the Philosopher's Stone</td>\n",
       "      <td>...</td>\n",
       "      <td>4602479</td>\n",
       "      <td>4800065</td>\n",
       "      <td>75867</td>\n",
       "      <td>75504</td>\n",
       "      <td>101676</td>\n",
       "      <td>455024</td>\n",
       "      <td>1156318</td>\n",
       "      <td>3011543</td>\n",
       "      <td>https://images.gr-assets.com/books/1474154022m/3.jpg</td>\n",
       "      <td>https://images.gr-assets.com/books/1474154022s/3.jpg</td>\n",
       "    </tr>\n",
       "    <tr>\n",
       "      <th>2</th>\n",
       "      <td>3</td>\n",
       "      <td>41865</td>\n",
       "      <td>41865</td>\n",
       "      <td>3212258</td>\n",
       "      <td>226</td>\n",
       "      <td>316015849</td>\n",
       "      <td>9.780316e+12</td>\n",
       "      <td>Stephenie Meyer</td>\n",
       "      <td>2005.0</td>\n",
       "      <td>Twilight</td>\n",
       "      <td>...</td>\n",
       "      <td>3866839</td>\n",
       "      <td>3916824</td>\n",
       "      <td>95009</td>\n",
       "      <td>456191</td>\n",
       "      <td>436802</td>\n",
       "      <td>793319</td>\n",
       "      <td>875073</td>\n",
       "      <td>1355439</td>\n",
       "      <td>https://images.gr-assets.com/books/1361039443m/41865.jpg</td>\n",
       "      <td>https://images.gr-assets.com/books/1361039443s/41865.jpg</td>\n",
       "    </tr>\n",
       "    <tr>\n",
       "      <th>3</th>\n",
       "      <td>4</td>\n",
       "      <td>2657</td>\n",
       "      <td>2657</td>\n",
       "      <td>3275794</td>\n",
       "      <td>487</td>\n",
       "      <td>61120081</td>\n",
       "      <td>9.780061e+12</td>\n",
       "      <td>Harper Lee</td>\n",
       "      <td>1960.0</td>\n",
       "      <td>To Kill a Mockingbird</td>\n",
       "      <td>...</td>\n",
       "      <td>3198671</td>\n",
       "      <td>3340896</td>\n",
       "      <td>72586</td>\n",
       "      <td>60427</td>\n",
       "      <td>117415</td>\n",
       "      <td>446835</td>\n",
       "      <td>1001952</td>\n",
       "      <td>1714267</td>\n",
       "      <td>https://images.gr-assets.com/books/1361975680m/2657.jpg</td>\n",
       "      <td>https://images.gr-assets.com/books/1361975680s/2657.jpg</td>\n",
       "    </tr>\n",
       "    <tr>\n",
       "      <th>4</th>\n",
       "      <td>5</td>\n",
       "      <td>4671</td>\n",
       "      <td>4671</td>\n",
       "      <td>245494</td>\n",
       "      <td>1356</td>\n",
       "      <td>743273567</td>\n",
       "      <td>9.780743e+12</td>\n",
       "      <td>F. Scott Fitzgerald</td>\n",
       "      <td>1925.0</td>\n",
       "      <td>The Great Gatsby</td>\n",
       "      <td>...</td>\n",
       "      <td>2683664</td>\n",
       "      <td>2773745</td>\n",
       "      <td>51992</td>\n",
       "      <td>86236</td>\n",
       "      <td>197621</td>\n",
       "      <td>606158</td>\n",
       "      <td>936012</td>\n",
       "      <td>947718</td>\n",
       "      <td>https://images.gr-assets.com/books/1490528560m/4671.jpg</td>\n",
       "      <td>https://images.gr-assets.com/books/1490528560s/4671.jpg</td>\n",
       "    </tr>\n",
       "    <tr>\n",
       "      <th>...</th>\n",
       "      <td>...</td>\n",
       "      <td>...</td>\n",
       "      <td>...</td>\n",
       "      <td>...</td>\n",
       "      <td>...</td>\n",
       "      <td>...</td>\n",
       "      <td>...</td>\n",
       "      <td>...</td>\n",
       "      <td>...</td>\n",
       "      <td>...</td>\n",
       "      <td>...</td>\n",
       "      <td>...</td>\n",
       "      <td>...</td>\n",
       "      <td>...</td>\n",
       "      <td>...</td>\n",
       "      <td>...</td>\n",
       "      <td>...</td>\n",
       "      <td>...</td>\n",
       "      <td>...</td>\n",
       "      <td>...</td>\n",
       "      <td>...</td>\n",
       "    </tr>\n",
       "    <tr>\n",
       "      <th>9995</th>\n",
       "      <td>9996</td>\n",
       "      <td>7130616</td>\n",
       "      <td>7130616</td>\n",
       "      <td>7392860</td>\n",
       "      <td>19</td>\n",
       "      <td>441019455</td>\n",
       "      <td>9.780441e+12</td>\n",
       "      <td>Ilona Andrews</td>\n",
       "      <td>2010.0</td>\n",
       "      <td>Bayou Moon</td>\n",
       "      <td>...</td>\n",
       "      <td>17204</td>\n",
       "      <td>18856</td>\n",
       "      <td>1180</td>\n",
       "      <td>105</td>\n",
       "      <td>575</td>\n",
       "      <td>3538</td>\n",
       "      <td>7860</td>\n",
       "      <td>6778</td>\n",
       "      <td>https://images.gr-assets.com/books/1307445460m/7130616.jpg</td>\n",
       "      <td>https://images.gr-assets.com/books/1307445460s/7130616.jpg</td>\n",
       "    </tr>\n",
       "    <tr>\n",
       "      <th>9996</th>\n",
       "      <td>9997</td>\n",
       "      <td>208324</td>\n",
       "      <td>208324</td>\n",
       "      <td>1084709</td>\n",
       "      <td>19</td>\n",
       "      <td>067973371X</td>\n",
       "      <td>9.780680e+12</td>\n",
       "      <td>Robert A. Caro</td>\n",
       "      <td>1990.0</td>\n",
       "      <td>Means of Ascent</td>\n",
       "      <td>...</td>\n",
       "      <td>12582</td>\n",
       "      <td>12952</td>\n",
       "      <td>395</td>\n",
       "      <td>303</td>\n",
       "      <td>551</td>\n",
       "      <td>1737</td>\n",
       "      <td>3389</td>\n",
       "      <td>6972</td>\n",
       "      <td>https://s.gr-assets.com/assets/nophoto/book/111x148-bcc042a9c91a29c1d680899eff700a03.png</td>\n",
       "      <td>https://s.gr-assets.com/assets/nophoto/book/50x75-a91bf249278a81aabab721ef782c4a74.png</td>\n",
       "    </tr>\n",
       "    <tr>\n",
       "      <th>9997</th>\n",
       "      <td>9998</td>\n",
       "      <td>77431</td>\n",
       "      <td>77431</td>\n",
       "      <td>2393986</td>\n",
       "      <td>60</td>\n",
       "      <td>039330762X</td>\n",
       "      <td>9.780393e+12</td>\n",
       "      <td>Patrick O'Brian</td>\n",
       "      <td>1977.0</td>\n",
       "      <td>The Mauritius Command</td>\n",
       "      <td>...</td>\n",
       "      <td>9421</td>\n",
       "      <td>10733</td>\n",
       "      <td>374</td>\n",
       "      <td>11</td>\n",
       "      <td>111</td>\n",
       "      <td>1191</td>\n",
       "      <td>4240</td>\n",
       "      <td>5180</td>\n",
       "      <td>https://images.gr-assets.com/books/1455373531m/77431.jpg</td>\n",
       "      <td>https://images.gr-assets.com/books/1455373531s/77431.jpg</td>\n",
       "    </tr>\n",
       "    <tr>\n",
       "      <th>9998</th>\n",
       "      <td>9999</td>\n",
       "      <td>8565083</td>\n",
       "      <td>8565083</td>\n",
       "      <td>13433613</td>\n",
       "      <td>7</td>\n",
       "      <td>61711527</td>\n",
       "      <td>9.780062e+12</td>\n",
       "      <td>Peggy Orenstein</td>\n",
       "      <td>2011.0</td>\n",
       "      <td>Cinderella Ate My Daughter: Dispatches from the Frontlines of the New Girlie-Girl Culture</td>\n",
       "      <td>...</td>\n",
       "      <td>11279</td>\n",
       "      <td>11994</td>\n",
       "      <td>1988</td>\n",
       "      <td>275</td>\n",
       "      <td>1002</td>\n",
       "      <td>3765</td>\n",
       "      <td>4577</td>\n",
       "      <td>2375</td>\n",
       "      <td>https://images.gr-assets.com/books/1279214118m/8565083.jpg</td>\n",
       "      <td>https://images.gr-assets.com/books/1279214118s/8565083.jpg</td>\n",
       "    </tr>\n",
       "    <tr>\n",
       "      <th>9999</th>\n",
       "      <td>10000</td>\n",
       "      <td>8914</td>\n",
       "      <td>8914</td>\n",
       "      <td>11817</td>\n",
       "      <td>31</td>\n",
       "      <td>375700455</td>\n",
       "      <td>9.780376e+12</td>\n",
       "      <td>John Keegan</td>\n",
       "      <td>1998.0</td>\n",
       "      <td>The First World War</td>\n",
       "      <td>...</td>\n",
       "      <td>9162</td>\n",
       "      <td>9700</td>\n",
       "      <td>364</td>\n",
       "      <td>117</td>\n",
       "      <td>345</td>\n",
       "      <td>2031</td>\n",
       "      <td>4138</td>\n",
       "      <td>3069</td>\n",
       "      <td>https://images.gr-assets.com/books/1403194704m/8914.jpg</td>\n",
       "      <td>https://images.gr-assets.com/books/1403194704s/8914.jpg</td>\n",
       "    </tr>\n",
       "  </tbody>\n",
       "</table>\n",
       "<p>10000 rows × 23 columns</p>\n",
       "</div>"
      ],
      "text/plain": [
       "      book_id  goodreads_book_id  best_book_id   work_id  books_count  \\\n",
       "0           1            2767052       2767052   2792775          272   \n",
       "1           2                  3             3   4640799          491   \n",
       "2           3              41865         41865   3212258          226   \n",
       "3           4               2657          2657   3275794          487   \n",
       "4           5               4671          4671    245494         1356   \n",
       "...       ...                ...           ...       ...          ...   \n",
       "9995     9996            7130616       7130616   7392860           19   \n",
       "9996     9997             208324        208324   1084709           19   \n",
       "9997     9998              77431         77431   2393986           60   \n",
       "9998     9999            8565083       8565083  13433613            7   \n",
       "9999    10000               8914          8914     11817           31   \n",
       "\n",
       "            isbn        isbn13                      authors  \\\n",
       "0      439023483  9.780439e+12              Suzanne Collins   \n",
       "1      439554934  9.780440e+12  J.K. Rowling, Mary GrandPré   \n",
       "2      316015849  9.780316e+12              Stephenie Meyer   \n",
       "3       61120081  9.780061e+12                   Harper Lee   \n",
       "4      743273567  9.780743e+12          F. Scott Fitzgerald   \n",
       "...          ...           ...                          ...   \n",
       "9995   441019455  9.780441e+12                Ilona Andrews   \n",
       "9996  067973371X  9.780680e+12               Robert A. Caro   \n",
       "9997  039330762X  9.780393e+12              Patrick O'Brian   \n",
       "9998    61711527  9.780062e+12              Peggy Orenstein   \n",
       "9999   375700455  9.780376e+12                  John Keegan   \n",
       "\n",
       "      original_publication_year  \\\n",
       "0                        2008.0   \n",
       "1                        1997.0   \n",
       "2                        2005.0   \n",
       "3                        1960.0   \n",
       "4                        1925.0   \n",
       "...                         ...   \n",
       "9995                     2010.0   \n",
       "9996                     1990.0   \n",
       "9997                     1977.0   \n",
       "9998                     2011.0   \n",
       "9999                     1998.0   \n",
       "\n",
       "                                                                                 original_title  \\\n",
       "0                                                                              The Hunger Games   \n",
       "1                                                      Harry Potter and the Philosopher's Stone   \n",
       "2                                                                                      Twilight   \n",
       "3                                                                         To Kill a Mockingbird   \n",
       "4                                                                              The Great Gatsby   \n",
       "...                                                                                         ...   \n",
       "9995                                                                                 Bayou Moon   \n",
       "9996                                                                           Means of Ascent    \n",
       "9997                                                                      The Mauritius Command   \n",
       "9998  Cinderella Ate My Daughter: Dispatches from the Frontlines of the New Girlie-Girl Culture   \n",
       "9999                                                                        The First World War   \n",
       "\n",
       "      ... ratings_count work_ratings_count  work_text_reviews_count  \\\n",
       "0     ...       4780653            4942365                   155254   \n",
       "1     ...       4602479            4800065                    75867   \n",
       "2     ...       3866839            3916824                    95009   \n",
       "3     ...       3198671            3340896                    72586   \n",
       "4     ...       2683664            2773745                    51992   \n",
       "...   ...           ...                ...                      ...   \n",
       "9995  ...         17204              18856                     1180   \n",
       "9996  ...         12582              12952                      395   \n",
       "9997  ...          9421              10733                      374   \n",
       "9998  ...         11279              11994                     1988   \n",
       "9999  ...          9162               9700                      364   \n",
       "\n",
       "      ratings_1  ratings_2  ratings_3  ratings_4  ratings_5  \\\n",
       "0         66715     127936     560092    1481305    2706317   \n",
       "1         75504     101676     455024    1156318    3011543   \n",
       "2        456191     436802     793319     875073    1355439   \n",
       "3         60427     117415     446835    1001952    1714267   \n",
       "4         86236     197621     606158     936012     947718   \n",
       "...         ...        ...        ...        ...        ...   \n",
       "9995        105        575       3538       7860       6778   \n",
       "9996        303        551       1737       3389       6972   \n",
       "9997         11        111       1191       4240       5180   \n",
       "9998        275       1002       3765       4577       2375   \n",
       "9999        117        345       2031       4138       3069   \n",
       "\n",
       "                                                                                     image_url  \\\n",
       "0                                   https://images.gr-assets.com/books/1447303603m/2767052.jpg   \n",
       "1                                         https://images.gr-assets.com/books/1474154022m/3.jpg   \n",
       "2                                     https://images.gr-assets.com/books/1361039443m/41865.jpg   \n",
       "3                                      https://images.gr-assets.com/books/1361975680m/2657.jpg   \n",
       "4                                      https://images.gr-assets.com/books/1490528560m/4671.jpg   \n",
       "...                                                                                        ...   \n",
       "9995                                https://images.gr-assets.com/books/1307445460m/7130616.jpg   \n",
       "9996  https://s.gr-assets.com/assets/nophoto/book/111x148-bcc042a9c91a29c1d680899eff700a03.png   \n",
       "9997                                  https://images.gr-assets.com/books/1455373531m/77431.jpg   \n",
       "9998                                https://images.gr-assets.com/books/1279214118m/8565083.jpg   \n",
       "9999                                   https://images.gr-assets.com/books/1403194704m/8914.jpg   \n",
       "\n",
       "                                                                             small_image_url  \n",
       "0                                 https://images.gr-assets.com/books/1447303603s/2767052.jpg  \n",
       "1                                       https://images.gr-assets.com/books/1474154022s/3.jpg  \n",
       "2                                   https://images.gr-assets.com/books/1361039443s/41865.jpg  \n",
       "3                                    https://images.gr-assets.com/books/1361975680s/2657.jpg  \n",
       "4                                    https://images.gr-assets.com/books/1490528560s/4671.jpg  \n",
       "...                                                                                      ...  \n",
       "9995                              https://images.gr-assets.com/books/1307445460s/7130616.jpg  \n",
       "9996  https://s.gr-assets.com/assets/nophoto/book/50x75-a91bf249278a81aabab721ef782c4a74.png  \n",
       "9997                                https://images.gr-assets.com/books/1455373531s/77431.jpg  \n",
       "9998                              https://images.gr-assets.com/books/1279214118s/8565083.jpg  \n",
       "9999                                 https://images.gr-assets.com/books/1403194704s/8914.jpg  \n",
       "\n",
       "[10000 rows x 23 columns]"
      ]
     },
     "execution_count": 4,
     "metadata": {},
     "output_type": "execute_result"
    }
   ],
   "source": [
    "books = pd.read_csv('data/GoodBooks/books.csv')\n",
    "books"
   ]
  },
  {
   "cell_type": "code",
   "execution_count": 4,
   "id": "2d75e270",
   "metadata": {},
   "outputs": [
    {
     "data": {
      "text/plain": [
       "0    https://images.gr-assets.com/books/1447303603m/2767052.jpg\n",
       "1          https://images.gr-assets.com/books/1474154022m/3.jpg\n",
       "2      https://images.gr-assets.com/books/1361039443m/41865.jpg\n",
       "3       https://images.gr-assets.com/books/1361975680m/2657.jpg\n",
       "4       https://images.gr-assets.com/books/1490528560m/4671.jpg\n",
       "Name: image_url, dtype: object"
      ]
     },
     "execution_count": 4,
     "metadata": {},
     "output_type": "execute_result"
    }
   ],
   "source": [
    "books['image_url'].head()"
   ]
  },
  {
   "cell_type": "code",
   "execution_count": 5,
   "id": "095b922a",
   "metadata": {
    "scrolled": true
   },
   "outputs": [
    {
     "name": "stdout",
     "output_type": "stream",
     "text": [
      "Index(['book_id', 'goodreads_book_id', 'best_book_id', 'work_id',\n",
      "       'books_count', 'isbn', 'isbn13', 'authors', 'original_publication_year',\n",
      "       'original_title', 'title', 'language_code', 'average_rating',\n",
      "       'ratings_count', 'work_ratings_count', 'work_text_reviews_count',\n",
      "       'ratings_1', 'ratings_2', 'ratings_3', 'ratings_4', 'ratings_5',\n",
      "       'image_url', 'small_image_url'],\n",
      "      dtype='object')\n"
     ]
    }
   ],
   "source": [
    "print(books.columns)"
   ]
  },
  {
   "cell_type": "code",
   "execution_count": 5,
   "id": "4f90eb63",
   "metadata": {},
   "outputs": [
    {
     "data": {
      "text/html": [
       "<div>\n",
       "<style scoped>\n",
       "    .dataframe tbody tr th:only-of-type {\n",
       "        vertical-align: middle;\n",
       "    }\n",
       "\n",
       "    .dataframe tbody tr th {\n",
       "        vertical-align: top;\n",
       "    }\n",
       "\n",
       "    .dataframe thead th {\n",
       "        text-align: right;\n",
       "    }\n",
       "</style>\n",
       "<table border=\"1\" class=\"dataframe\">\n",
       "  <thead>\n",
       "    <tr style=\"text-align: right;\">\n",
       "      <th></th>\n",
       "      <th>user_id</th>\n",
       "      <th>book_id</th>\n",
       "      <th>rating</th>\n",
       "    </tr>\n",
       "  </thead>\n",
       "  <tbody>\n",
       "    <tr>\n",
       "      <th>0</th>\n",
       "      <td>1</td>\n",
       "      <td>258</td>\n",
       "      <td>5</td>\n",
       "    </tr>\n",
       "    <tr>\n",
       "      <th>1</th>\n",
       "      <td>2</td>\n",
       "      <td>4081</td>\n",
       "      <td>4</td>\n",
       "    </tr>\n",
       "    <tr>\n",
       "      <th>2</th>\n",
       "      <td>2</td>\n",
       "      <td>260</td>\n",
       "      <td>5</td>\n",
       "    </tr>\n",
       "    <tr>\n",
       "      <th>3</th>\n",
       "      <td>2</td>\n",
       "      <td>9296</td>\n",
       "      <td>5</td>\n",
       "    </tr>\n",
       "    <tr>\n",
       "      <th>4</th>\n",
       "      <td>2</td>\n",
       "      <td>2318</td>\n",
       "      <td>3</td>\n",
       "    </tr>\n",
       "    <tr>\n",
       "      <th>...</th>\n",
       "      <td>...</td>\n",
       "      <td>...</td>\n",
       "      <td>...</td>\n",
       "    </tr>\n",
       "    <tr>\n",
       "      <th>5976474</th>\n",
       "      <td>49925</td>\n",
       "      <td>510</td>\n",
       "      <td>5</td>\n",
       "    </tr>\n",
       "    <tr>\n",
       "      <th>5976475</th>\n",
       "      <td>49925</td>\n",
       "      <td>528</td>\n",
       "      <td>4</td>\n",
       "    </tr>\n",
       "    <tr>\n",
       "      <th>5976476</th>\n",
       "      <td>49925</td>\n",
       "      <td>722</td>\n",
       "      <td>4</td>\n",
       "    </tr>\n",
       "    <tr>\n",
       "      <th>5976477</th>\n",
       "      <td>49925</td>\n",
       "      <td>949</td>\n",
       "      <td>5</td>\n",
       "    </tr>\n",
       "    <tr>\n",
       "      <th>5976478</th>\n",
       "      <td>49925</td>\n",
       "      <td>1023</td>\n",
       "      <td>4</td>\n",
       "    </tr>\n",
       "  </tbody>\n",
       "</table>\n",
       "<p>5976479 rows × 3 columns</p>\n",
       "</div>"
      ],
      "text/plain": [
       "         user_id  book_id  rating\n",
       "0              1      258       5\n",
       "1              2     4081       4\n",
       "2              2      260       5\n",
       "3              2     9296       5\n",
       "4              2     2318       3\n",
       "...          ...      ...     ...\n",
       "5976474    49925      510       5\n",
       "5976475    49925      528       4\n",
       "5976476    49925      722       4\n",
       "5976477    49925      949       5\n",
       "5976478    49925     1023       4\n",
       "\n",
       "[5976479 rows x 3 columns]"
      ]
     },
     "execution_count": 5,
     "metadata": {},
     "output_type": "execute_result"
    }
   ],
   "source": [
    "ratings = pd.read_csv('data/GoodBooks/ratings.csv')\n",
    "ratings"
   ]
  },
  {
   "cell_type": "code",
   "execution_count": 6,
   "id": "6b2bcfb9",
   "metadata": {},
   "outputs": [
    {
     "data": {
      "text/html": [
       "<div>\n",
       "<style scoped>\n",
       "    .dataframe tbody tr th:only-of-type {\n",
       "        vertical-align: middle;\n",
       "    }\n",
       "\n",
       "    .dataframe tbody tr th {\n",
       "        vertical-align: top;\n",
       "    }\n",
       "\n",
       "    .dataframe thead th {\n",
       "        text-align: right;\n",
       "    }\n",
       "</style>\n",
       "<table border=\"1\" class=\"dataframe\">\n",
       "  <thead>\n",
       "    <tr style=\"text-align: right;\">\n",
       "      <th></th>\n",
       "      <th>tag_id</th>\n",
       "      <th>tag_name</th>\n",
       "    </tr>\n",
       "  </thead>\n",
       "  <tbody>\n",
       "    <tr>\n",
       "      <th>0</th>\n",
       "      <td>0</td>\n",
       "      <td>-</td>\n",
       "    </tr>\n",
       "    <tr>\n",
       "      <th>1</th>\n",
       "      <td>1</td>\n",
       "      <td>--1-</td>\n",
       "    </tr>\n",
       "    <tr>\n",
       "      <th>2</th>\n",
       "      <td>2</td>\n",
       "      <td>--10-</td>\n",
       "    </tr>\n",
       "    <tr>\n",
       "      <th>3</th>\n",
       "      <td>3</td>\n",
       "      <td>--12-</td>\n",
       "    </tr>\n",
       "    <tr>\n",
       "      <th>4</th>\n",
       "      <td>4</td>\n",
       "      <td>--122-</td>\n",
       "    </tr>\n",
       "    <tr>\n",
       "      <th>...</th>\n",
       "      <td>...</td>\n",
       "      <td>...</td>\n",
       "    </tr>\n",
       "    <tr>\n",
       "      <th>34247</th>\n",
       "      <td>34247</td>\n",
       "      <td>Ｃhildrens</td>\n",
       "    </tr>\n",
       "    <tr>\n",
       "      <th>34248</th>\n",
       "      <td>34248</td>\n",
       "      <td>Ｆａｖｏｒｉｔｅｓ</td>\n",
       "    </tr>\n",
       "    <tr>\n",
       "      <th>34249</th>\n",
       "      <td>34249</td>\n",
       "      <td>Ｍａｎｇａ</td>\n",
       "    </tr>\n",
       "    <tr>\n",
       "      <th>34250</th>\n",
       "      <td>34250</td>\n",
       "      <td>ＳＥＲＩＥＳ</td>\n",
       "    </tr>\n",
       "    <tr>\n",
       "      <th>34251</th>\n",
       "      <td>34251</td>\n",
       "      <td>ｆａｖｏｕｒｉｔｅｓ</td>\n",
       "    </tr>\n",
       "  </tbody>\n",
       "</table>\n",
       "<p>34252 rows × 2 columns</p>\n",
       "</div>"
      ],
      "text/plain": [
       "       tag_id    tag_name\n",
       "0           0           -\n",
       "1           1        --1-\n",
       "2           2       --10-\n",
       "3           3       --12-\n",
       "4           4      --122-\n",
       "...       ...         ...\n",
       "34247   34247   Ｃhildrens\n",
       "34248   34248   Ｆａｖｏｒｉｔｅｓ\n",
       "34249   34249       Ｍａｎｇａ\n",
       "34250   34250      ＳＥＲＩＥＳ\n",
       "34251   34251  ｆａｖｏｕｒｉｔｅｓ\n",
       "\n",
       "[34252 rows x 2 columns]"
      ]
     },
     "execution_count": 6,
     "metadata": {},
     "output_type": "execute_result"
    }
   ],
   "source": [
    "tags = pd.read_csv('data/GoodBooks/tags.csv')\n",
    "tags"
   ]
  },
  {
   "cell_type": "code",
   "execution_count": 7,
   "id": "d6d840af",
   "metadata": {},
   "outputs": [
    {
     "data": {
      "text/html": [
       "<div>\n",
       "<style scoped>\n",
       "    .dataframe tbody tr th:only-of-type {\n",
       "        vertical-align: middle;\n",
       "    }\n",
       "\n",
       "    .dataframe tbody tr th {\n",
       "        vertical-align: top;\n",
       "    }\n",
       "\n",
       "    .dataframe thead th {\n",
       "        text-align: right;\n",
       "    }\n",
       "</style>\n",
       "<table border=\"1\" class=\"dataframe\">\n",
       "  <thead>\n",
       "    <tr style=\"text-align: right;\">\n",
       "      <th></th>\n",
       "      <th>user_id</th>\n",
       "      <th>book_id</th>\n",
       "    </tr>\n",
       "  </thead>\n",
       "  <tbody>\n",
       "    <tr>\n",
       "      <th>0</th>\n",
       "      <td>9</td>\n",
       "      <td>8</td>\n",
       "    </tr>\n",
       "    <tr>\n",
       "      <th>1</th>\n",
       "      <td>15</td>\n",
       "      <td>398</td>\n",
       "    </tr>\n",
       "    <tr>\n",
       "      <th>2</th>\n",
       "      <td>15</td>\n",
       "      <td>275</td>\n",
       "    </tr>\n",
       "    <tr>\n",
       "      <th>3</th>\n",
       "      <td>37</td>\n",
       "      <td>7173</td>\n",
       "    </tr>\n",
       "    <tr>\n",
       "      <th>4</th>\n",
       "      <td>34</td>\n",
       "      <td>380</td>\n",
       "    </tr>\n",
       "    <tr>\n",
       "      <th>...</th>\n",
       "      <td>...</td>\n",
       "      <td>...</td>\n",
       "    </tr>\n",
       "    <tr>\n",
       "      <th>912700</th>\n",
       "      <td>39374</td>\n",
       "      <td>1049</td>\n",
       "    </tr>\n",
       "    <tr>\n",
       "      <th>912701</th>\n",
       "      <td>10492</td>\n",
       "      <td>5180</td>\n",
       "    </tr>\n",
       "    <tr>\n",
       "      <th>912702</th>\n",
       "      <td>21879</td>\n",
       "      <td>4827</td>\n",
       "    </tr>\n",
       "    <tr>\n",
       "      <th>912703</th>\n",
       "      <td>21879</td>\n",
       "      <td>6642</td>\n",
       "    </tr>\n",
       "    <tr>\n",
       "      <th>912704</th>\n",
       "      <td>48192</td>\n",
       "      <td>7773</td>\n",
       "    </tr>\n",
       "  </tbody>\n",
       "</table>\n",
       "<p>912705 rows × 2 columns</p>\n",
       "</div>"
      ],
      "text/plain": [
       "        user_id  book_id\n",
       "0             9        8\n",
       "1            15      398\n",
       "2            15      275\n",
       "3            37     7173\n",
       "4            34      380\n",
       "...         ...      ...\n",
       "912700    39374     1049\n",
       "912701    10492     5180\n",
       "912702    21879     4827\n",
       "912703    21879     6642\n",
       "912704    48192     7773\n",
       "\n",
       "[912705 rows x 2 columns]"
      ]
     },
     "execution_count": 7,
     "metadata": {},
     "output_type": "execute_result"
    }
   ],
   "source": [
    "to_read = pd.read_csv('data/GoodBooks/to_read.csv')\n",
    "to_read"
   ]
  },
  {
   "cell_type": "markdown",
   "id": "1e60ee7b",
   "metadata": {},
   "source": [
    "## 기초 통계"
   ]
  },
  {
   "cell_type": "code",
   "execution_count": 18,
   "id": "4eb4c72f",
   "metadata": {},
   "outputs": [
    {
     "name": "stdout",
     "output_type": "stream",
     "text": [
      "<class 'pandas.core.frame.DataFrame'>\n",
      "RangeIndex: 999912 entries, 0 to 999911\n",
      "Data columns (total 3 columns):\n",
      " #   Column             Non-Null Count   Dtype\n",
      "---  ------             --------------   -----\n",
      " 0   goodreads_book_id  999912 non-null  int64\n",
      " 1   tag_id             999912 non-null  int64\n",
      " 2   count              999912 non-null  int64\n",
      "dtypes: int64(3)\n",
      "memory usage: 22.9 MB\n"
     ]
    }
   ],
   "source": [
    "book_tags.info()"
   ]
  },
  {
   "cell_type": "code",
   "execution_count": 19,
   "id": "31b8acc8",
   "metadata": {},
   "outputs": [
    {
     "data": {
      "text/html": [
       "<div>\n",
       "<style scoped>\n",
       "    .dataframe tbody tr th:only-of-type {\n",
       "        vertical-align: middle;\n",
       "    }\n",
       "\n",
       "    .dataframe tbody tr th {\n",
       "        vertical-align: top;\n",
       "    }\n",
       "\n",
       "    .dataframe thead th {\n",
       "        text-align: right;\n",
       "    }\n",
       "</style>\n",
       "<table border=\"1\" class=\"dataframe\">\n",
       "  <thead>\n",
       "    <tr style=\"text-align: right;\">\n",
       "      <th></th>\n",
       "      <th>goodreads_book_id</th>\n",
       "      <th>tag_id</th>\n",
       "      <th>count</th>\n",
       "    </tr>\n",
       "  </thead>\n",
       "  <tbody>\n",
       "    <tr>\n",
       "      <th>count</th>\n",
       "      <td>9.999120e+05</td>\n",
       "      <td>999912.000000</td>\n",
       "      <td>999912.000000</td>\n",
       "    </tr>\n",
       "    <tr>\n",
       "      <th>mean</th>\n",
       "      <td>5.263442e+06</td>\n",
       "      <td>16324.527073</td>\n",
       "      <td>208.869633</td>\n",
       "    </tr>\n",
       "    <tr>\n",
       "      <th>std</th>\n",
       "      <td>7.574057e+06</td>\n",
       "      <td>9647.846196</td>\n",
       "      <td>3501.265173</td>\n",
       "    </tr>\n",
       "    <tr>\n",
       "      <th>min</th>\n",
       "      <td>1.000000e+00</td>\n",
       "      <td>0.000000</td>\n",
       "      <td>-1.000000</td>\n",
       "    </tr>\n",
       "    <tr>\n",
       "      <th>25%</th>\n",
       "      <td>4.622700e+04</td>\n",
       "      <td>8067.000000</td>\n",
       "      <td>7.000000</td>\n",
       "    </tr>\n",
       "    <tr>\n",
       "      <th>50%</th>\n",
       "      <td>3.948410e+05</td>\n",
       "      <td>15808.000000</td>\n",
       "      <td>15.000000</td>\n",
       "    </tr>\n",
       "    <tr>\n",
       "      <th>75%</th>\n",
       "      <td>9.378297e+06</td>\n",
       "      <td>24997.000000</td>\n",
       "      <td>40.000000</td>\n",
       "    </tr>\n",
       "    <tr>\n",
       "      <th>max</th>\n",
       "      <td>3.328864e+07</td>\n",
       "      <td>34251.000000</td>\n",
       "      <td>596234.000000</td>\n",
       "    </tr>\n",
       "  </tbody>\n",
       "</table>\n",
       "</div>"
      ],
      "text/plain": [
       "       goodreads_book_id         tag_id          count\n",
       "count       9.999120e+05  999912.000000  999912.000000\n",
       "mean        5.263442e+06   16324.527073     208.869633\n",
       "std         7.574057e+06    9647.846196    3501.265173\n",
       "min         1.000000e+00       0.000000      -1.000000\n",
       "25%         4.622700e+04    8067.000000       7.000000\n",
       "50%         3.948410e+05   15808.000000      15.000000\n",
       "75%         9.378297e+06   24997.000000      40.000000\n",
       "max         3.328864e+07   34251.000000  596234.000000"
      ]
     },
     "execution_count": 19,
     "metadata": {},
     "output_type": "execute_result"
    }
   ],
   "source": [
    "book_tags.describe()"
   ]
  },
  {
   "cell_type": "code",
   "execution_count": 20,
   "id": "78b338d6",
   "metadata": {},
   "outputs": [
    {
     "name": "stdout",
     "output_type": "stream",
     "text": [
      "<class 'pandas.core.frame.DataFrame'>\n",
      "RangeIndex: 5976479 entries, 0 to 5976478\n",
      "Data columns (total 3 columns):\n",
      " #   Column   Dtype\n",
      "---  ------   -----\n",
      " 0   user_id  int64\n",
      " 1   book_id  int64\n",
      " 2   rating   int64\n",
      "dtypes: int64(3)\n",
      "memory usage: 136.8 MB\n"
     ]
    }
   ],
   "source": [
    "ratings.info()"
   ]
  },
  {
   "cell_type": "code",
   "execution_count": 21,
   "id": "9cfdd472",
   "metadata": {},
   "outputs": [
    {
     "data": {
      "text/html": [
       "<div>\n",
       "<style scoped>\n",
       "    .dataframe tbody tr th:only-of-type {\n",
       "        vertical-align: middle;\n",
       "    }\n",
       "\n",
       "    .dataframe tbody tr th {\n",
       "        vertical-align: top;\n",
       "    }\n",
       "\n",
       "    .dataframe thead th {\n",
       "        text-align: right;\n",
       "    }\n",
       "</style>\n",
       "<table border=\"1\" class=\"dataframe\">\n",
       "  <thead>\n",
       "    <tr style=\"text-align: right;\">\n",
       "      <th></th>\n",
       "      <th>user_id</th>\n",
       "      <th>book_id</th>\n",
       "      <th>rating</th>\n",
       "    </tr>\n",
       "  </thead>\n",
       "  <tbody>\n",
       "    <tr>\n",
       "      <th>count</th>\n",
       "      <td>5.976479e+06</td>\n",
       "      <td>5.976479e+06</td>\n",
       "      <td>5.976479e+06</td>\n",
       "    </tr>\n",
       "    <tr>\n",
       "      <th>mean</th>\n",
       "      <td>2.622446e+04</td>\n",
       "      <td>2.006477e+03</td>\n",
       "      <td>3.919866e+00</td>\n",
       "    </tr>\n",
       "    <tr>\n",
       "      <th>std</th>\n",
       "      <td>1.541323e+04</td>\n",
       "      <td>2.468499e+03</td>\n",
       "      <td>9.910868e-01</td>\n",
       "    </tr>\n",
       "    <tr>\n",
       "      <th>min</th>\n",
       "      <td>1.000000e+00</td>\n",
       "      <td>1.000000e+00</td>\n",
       "      <td>1.000000e+00</td>\n",
       "    </tr>\n",
       "    <tr>\n",
       "      <th>25%</th>\n",
       "      <td>1.281300e+04</td>\n",
       "      <td>1.980000e+02</td>\n",
       "      <td>3.000000e+00</td>\n",
       "    </tr>\n",
       "    <tr>\n",
       "      <th>50%</th>\n",
       "      <td>2.593800e+04</td>\n",
       "      <td>8.850000e+02</td>\n",
       "      <td>4.000000e+00</td>\n",
       "    </tr>\n",
       "    <tr>\n",
       "      <th>75%</th>\n",
       "      <td>3.950900e+04</td>\n",
       "      <td>2.973000e+03</td>\n",
       "      <td>5.000000e+00</td>\n",
       "    </tr>\n",
       "    <tr>\n",
       "      <th>max</th>\n",
       "      <td>5.342400e+04</td>\n",
       "      <td>1.000000e+04</td>\n",
       "      <td>5.000000e+00</td>\n",
       "    </tr>\n",
       "  </tbody>\n",
       "</table>\n",
       "</div>"
      ],
      "text/plain": [
       "            user_id       book_id        rating\n",
       "count  5.976479e+06  5.976479e+06  5.976479e+06\n",
       "mean   2.622446e+04  2.006477e+03  3.919866e+00\n",
       "std    1.541323e+04  2.468499e+03  9.910868e-01\n",
       "min    1.000000e+00  1.000000e+00  1.000000e+00\n",
       "25%    1.281300e+04  1.980000e+02  3.000000e+00\n",
       "50%    2.593800e+04  8.850000e+02  4.000000e+00\n",
       "75%    3.950900e+04  2.973000e+03  5.000000e+00\n",
       "max    5.342400e+04  1.000000e+04  5.000000e+00"
      ]
     },
     "execution_count": 21,
     "metadata": {},
     "output_type": "execute_result"
    }
   ],
   "source": [
    "ratings.describe()"
   ]
  },
  {
   "cell_type": "code",
   "execution_count": 22,
   "id": "c0a61a94",
   "metadata": {},
   "outputs": [
    {
     "name": "stdout",
     "output_type": "stream",
     "text": [
      "<class 'pandas.core.frame.DataFrame'>\n",
      "RangeIndex: 34252 entries, 0 to 34251\n",
      "Data columns (total 2 columns):\n",
      " #   Column    Non-Null Count  Dtype \n",
      "---  ------    --------------  ----- \n",
      " 0   tag_id    34252 non-null  int64 \n",
      " 1   tag_name  34252 non-null  object\n",
      "dtypes: int64(1), object(1)\n",
      "memory usage: 535.3+ KB\n"
     ]
    }
   ],
   "source": [
    "tags.info()"
   ]
  },
  {
   "cell_type": "code",
   "execution_count": 23,
   "id": "2c2d4f72",
   "metadata": {},
   "outputs": [
    {
     "data": {
      "text/html": [
       "<div>\n",
       "<style scoped>\n",
       "    .dataframe tbody tr th:only-of-type {\n",
       "        vertical-align: middle;\n",
       "    }\n",
       "\n",
       "    .dataframe tbody tr th {\n",
       "        vertical-align: top;\n",
       "    }\n",
       "\n",
       "    .dataframe thead th {\n",
       "        text-align: right;\n",
       "    }\n",
       "</style>\n",
       "<table border=\"1\" class=\"dataframe\">\n",
       "  <thead>\n",
       "    <tr style=\"text-align: right;\">\n",
       "      <th></th>\n",
       "      <th>tag_id</th>\n",
       "    </tr>\n",
       "  </thead>\n",
       "  <tbody>\n",
       "    <tr>\n",
       "      <th>count</th>\n",
       "      <td>34252.000000</td>\n",
       "    </tr>\n",
       "    <tr>\n",
       "      <th>mean</th>\n",
       "      <td>17125.500000</td>\n",
       "    </tr>\n",
       "    <tr>\n",
       "      <th>std</th>\n",
       "      <td>9887.845047</td>\n",
       "    </tr>\n",
       "    <tr>\n",
       "      <th>min</th>\n",
       "      <td>0.000000</td>\n",
       "    </tr>\n",
       "    <tr>\n",
       "      <th>25%</th>\n",
       "      <td>8562.750000</td>\n",
       "    </tr>\n",
       "    <tr>\n",
       "      <th>50%</th>\n",
       "      <td>17125.500000</td>\n",
       "    </tr>\n",
       "    <tr>\n",
       "      <th>75%</th>\n",
       "      <td>25688.250000</td>\n",
       "    </tr>\n",
       "    <tr>\n",
       "      <th>max</th>\n",
       "      <td>34251.000000</td>\n",
       "    </tr>\n",
       "  </tbody>\n",
       "</table>\n",
       "</div>"
      ],
      "text/plain": [
       "             tag_id\n",
       "count  34252.000000\n",
       "mean   17125.500000\n",
       "std     9887.845047\n",
       "min        0.000000\n",
       "25%     8562.750000\n",
       "50%    17125.500000\n",
       "75%    25688.250000\n",
       "max    34251.000000"
      ]
     },
     "execution_count": 23,
     "metadata": {},
     "output_type": "execute_result"
    }
   ],
   "source": [
    "tags.describe()"
   ]
  },
  {
   "cell_type": "code",
   "execution_count": 24,
   "id": "fe220834",
   "metadata": {},
   "outputs": [
    {
     "name": "stdout",
     "output_type": "stream",
     "text": [
      "<class 'pandas.core.frame.DataFrame'>\n",
      "RangeIndex: 912705 entries, 0 to 912704\n",
      "Data columns (total 2 columns):\n",
      " #   Column   Non-Null Count   Dtype\n",
      "---  ------   --------------   -----\n",
      " 0   user_id  912705 non-null  int64\n",
      " 1   book_id  912705 non-null  int64\n",
      "dtypes: int64(2)\n",
      "memory usage: 13.9 MB\n"
     ]
    }
   ],
   "source": [
    "to_read.info()"
   ]
  },
  {
   "cell_type": "code",
   "execution_count": 25,
   "id": "b3549a2a",
   "metadata": {},
   "outputs": [
    {
     "data": {
      "text/html": [
       "<div>\n",
       "<style scoped>\n",
       "    .dataframe tbody tr th:only-of-type {\n",
       "        vertical-align: middle;\n",
       "    }\n",
       "\n",
       "    .dataframe tbody tr th {\n",
       "        vertical-align: top;\n",
       "    }\n",
       "\n",
       "    .dataframe thead th {\n",
       "        text-align: right;\n",
       "    }\n",
       "</style>\n",
       "<table border=\"1\" class=\"dataframe\">\n",
       "  <thead>\n",
       "    <tr style=\"text-align: right;\">\n",
       "      <th></th>\n",
       "      <th>user_id</th>\n",
       "      <th>book_id</th>\n",
       "    </tr>\n",
       "  </thead>\n",
       "  <tbody>\n",
       "    <tr>\n",
       "      <th>count</th>\n",
       "      <td>912705.000000</td>\n",
       "      <td>912705.000000</td>\n",
       "    </tr>\n",
       "    <tr>\n",
       "      <th>mean</th>\n",
       "      <td>27668.980115</td>\n",
       "      <td>2454.739538</td>\n",
       "    </tr>\n",
       "    <tr>\n",
       "      <th>std</th>\n",
       "      <td>14775.096388</td>\n",
       "      <td>2626.359921</td>\n",
       "    </tr>\n",
       "    <tr>\n",
       "      <th>min</th>\n",
       "      <td>1.000000</td>\n",
       "      <td>1.000000</td>\n",
       "    </tr>\n",
       "    <tr>\n",
       "      <th>25%</th>\n",
       "      <td>15507.000000</td>\n",
       "      <td>360.000000</td>\n",
       "    </tr>\n",
       "    <tr>\n",
       "      <th>50%</th>\n",
       "      <td>27799.000000</td>\n",
       "      <td>1381.000000</td>\n",
       "    </tr>\n",
       "    <tr>\n",
       "      <th>75%</th>\n",
       "      <td>40220.000000</td>\n",
       "      <td>3843.000000</td>\n",
       "    </tr>\n",
       "    <tr>\n",
       "      <th>max</th>\n",
       "      <td>53424.000000</td>\n",
       "      <td>10000.000000</td>\n",
       "    </tr>\n",
       "  </tbody>\n",
       "</table>\n",
       "</div>"
      ],
      "text/plain": [
       "             user_id        book_id\n",
       "count  912705.000000  912705.000000\n",
       "mean    27668.980115    2454.739538\n",
       "std     14775.096388    2626.359921\n",
       "min         1.000000       1.000000\n",
       "25%     15507.000000     360.000000\n",
       "50%     27799.000000    1381.000000\n",
       "75%     40220.000000    3843.000000\n",
       "max     53424.000000   10000.000000"
      ]
     },
     "execution_count": 25,
     "metadata": {},
     "output_type": "execute_result"
    }
   ],
   "source": [
    "to_read.describe()"
   ]
  },
  {
   "cell_type": "code",
   "execution_count": 26,
   "id": "7e5e701f",
   "metadata": {},
   "outputs": [
    {
     "name": "stdout",
     "output_type": "stream",
     "text": [
      "<class 'pandas.core.frame.DataFrame'>\n",
      "RangeIndex: 10000 entries, 0 to 9999\n",
      "Data columns (total 23 columns):\n",
      " #   Column                     Non-Null Count  Dtype  \n",
      "---  ------                     --------------  -----  \n",
      " 0   book_id                    10000 non-null  int64  \n",
      " 1   goodreads_book_id          10000 non-null  int64  \n",
      " 2   best_book_id               10000 non-null  int64  \n",
      " 3   work_id                    10000 non-null  int64  \n",
      " 4   books_count                10000 non-null  int64  \n",
      " 5   isbn                       9300 non-null   object \n",
      " 6   isbn13                     9415 non-null   float64\n",
      " 7   authors                    10000 non-null  object \n",
      " 8   original_publication_year  9979 non-null   float64\n",
      " 9   original_title             9415 non-null   object \n",
      " 10  title                      10000 non-null  object \n",
      " 11  language_code              8916 non-null   object \n",
      " 12  average_rating             10000 non-null  float64\n",
      " 13  ratings_count              10000 non-null  int64  \n",
      " 14  work_ratings_count         10000 non-null  int64  \n",
      " 15  work_text_reviews_count    10000 non-null  int64  \n",
      " 16  ratings_1                  10000 non-null  int64  \n",
      " 17  ratings_2                  10000 non-null  int64  \n",
      " 18  ratings_3                  10000 non-null  int64  \n",
      " 19  ratings_4                  10000 non-null  int64  \n",
      " 20  ratings_5                  10000 non-null  int64  \n",
      " 21  image_url                  10000 non-null  object \n",
      " 22  small_image_url            10000 non-null  object \n",
      "dtypes: float64(3), int64(13), object(7)\n",
      "memory usage: 1.8+ MB\n"
     ]
    }
   ],
   "source": [
    "books.info()"
   ]
  },
  {
   "cell_type": "code",
   "execution_count": 27,
   "id": "5f2e7f04",
   "metadata": {},
   "outputs": [
    {
     "data": {
      "text/html": [
       "<div>\n",
       "<style scoped>\n",
       "    .dataframe tbody tr th:only-of-type {\n",
       "        vertical-align: middle;\n",
       "    }\n",
       "\n",
       "    .dataframe tbody tr th {\n",
       "        vertical-align: top;\n",
       "    }\n",
       "\n",
       "    .dataframe thead th {\n",
       "        text-align: right;\n",
       "    }\n",
       "</style>\n",
       "<table border=\"1\" class=\"dataframe\">\n",
       "  <thead>\n",
       "    <tr style=\"text-align: right;\">\n",
       "      <th></th>\n",
       "      <th>book_id</th>\n",
       "      <th>goodreads_book_id</th>\n",
       "      <th>best_book_id</th>\n",
       "      <th>work_id</th>\n",
       "      <th>books_count</th>\n",
       "      <th>isbn13</th>\n",
       "      <th>original_publication_year</th>\n",
       "      <th>average_rating</th>\n",
       "      <th>ratings_count</th>\n",
       "      <th>work_ratings_count</th>\n",
       "      <th>work_text_reviews_count</th>\n",
       "      <th>ratings_1</th>\n",
       "      <th>ratings_2</th>\n",
       "      <th>ratings_3</th>\n",
       "      <th>ratings_4</th>\n",
       "      <th>ratings_5</th>\n",
       "    </tr>\n",
       "  </thead>\n",
       "  <tbody>\n",
       "    <tr>\n",
       "      <th>count</th>\n",
       "      <td>10000.00000</td>\n",
       "      <td>1.000000e+04</td>\n",
       "      <td>1.000000e+04</td>\n",
       "      <td>1.000000e+04</td>\n",
       "      <td>10000.000000</td>\n",
       "      <td>9.415000e+03</td>\n",
       "      <td>9979.000000</td>\n",
       "      <td>10000.000000</td>\n",
       "      <td>1.000000e+04</td>\n",
       "      <td>1.000000e+04</td>\n",
       "      <td>10000.000000</td>\n",
       "      <td>10000.000000</td>\n",
       "      <td>10000.000000</td>\n",
       "      <td>10000.000000</td>\n",
       "      <td>1.000000e+04</td>\n",
       "      <td>1.000000e+04</td>\n",
       "    </tr>\n",
       "    <tr>\n",
       "      <th>mean</th>\n",
       "      <td>5000.50000</td>\n",
       "      <td>5.264697e+06</td>\n",
       "      <td>5.471214e+06</td>\n",
       "      <td>8.646183e+06</td>\n",
       "      <td>75.712700</td>\n",
       "      <td>9.755044e+12</td>\n",
       "      <td>1981.987674</td>\n",
       "      <td>4.002191</td>\n",
       "      <td>5.400124e+04</td>\n",
       "      <td>5.968732e+04</td>\n",
       "      <td>2919.955300</td>\n",
       "      <td>1345.040600</td>\n",
       "      <td>3110.885000</td>\n",
       "      <td>11475.893800</td>\n",
       "      <td>1.996570e+04</td>\n",
       "      <td>2.378981e+04</td>\n",
       "    </tr>\n",
       "    <tr>\n",
       "      <th>std</th>\n",
       "      <td>2886.89568</td>\n",
       "      <td>7.575462e+06</td>\n",
       "      <td>7.827330e+06</td>\n",
       "      <td>1.175106e+07</td>\n",
       "      <td>170.470728</td>\n",
       "      <td>4.428619e+11</td>\n",
       "      <td>152.576665</td>\n",
       "      <td>0.254427</td>\n",
       "      <td>1.573700e+05</td>\n",
       "      <td>1.678038e+05</td>\n",
       "      <td>6124.378132</td>\n",
       "      <td>6635.626263</td>\n",
       "      <td>9717.123578</td>\n",
       "      <td>28546.449183</td>\n",
       "      <td>5.144736e+04</td>\n",
       "      <td>7.976889e+04</td>\n",
       "    </tr>\n",
       "    <tr>\n",
       "      <th>min</th>\n",
       "      <td>1.00000</td>\n",
       "      <td>1.000000e+00</td>\n",
       "      <td>1.000000e+00</td>\n",
       "      <td>8.700000e+01</td>\n",
       "      <td>1.000000</td>\n",
       "      <td>1.951703e+08</td>\n",
       "      <td>-1750.000000</td>\n",
       "      <td>2.470000</td>\n",
       "      <td>2.716000e+03</td>\n",
       "      <td>5.510000e+03</td>\n",
       "      <td>3.000000</td>\n",
       "      <td>11.000000</td>\n",
       "      <td>30.000000</td>\n",
       "      <td>323.000000</td>\n",
       "      <td>7.500000e+02</td>\n",
       "      <td>7.540000e+02</td>\n",
       "    </tr>\n",
       "    <tr>\n",
       "      <th>25%</th>\n",
       "      <td>2500.75000</td>\n",
       "      <td>4.627575e+04</td>\n",
       "      <td>4.791175e+04</td>\n",
       "      <td>1.008841e+06</td>\n",
       "      <td>23.000000</td>\n",
       "      <td>9.780316e+12</td>\n",
       "      <td>1990.000000</td>\n",
       "      <td>3.850000</td>\n",
       "      <td>1.356875e+04</td>\n",
       "      <td>1.543875e+04</td>\n",
       "      <td>694.000000</td>\n",
       "      <td>196.000000</td>\n",
       "      <td>656.000000</td>\n",
       "      <td>3112.000000</td>\n",
       "      <td>5.405750e+03</td>\n",
       "      <td>5.334000e+03</td>\n",
       "    </tr>\n",
       "    <tr>\n",
       "      <th>50%</th>\n",
       "      <td>5000.50000</td>\n",
       "      <td>3.949655e+05</td>\n",
       "      <td>4.251235e+05</td>\n",
       "      <td>2.719524e+06</td>\n",
       "      <td>40.000000</td>\n",
       "      <td>9.780452e+12</td>\n",
       "      <td>2004.000000</td>\n",
       "      <td>4.020000</td>\n",
       "      <td>2.115550e+04</td>\n",
       "      <td>2.383250e+04</td>\n",
       "      <td>1402.000000</td>\n",
       "      <td>391.000000</td>\n",
       "      <td>1163.000000</td>\n",
       "      <td>4894.000000</td>\n",
       "      <td>8.269500e+03</td>\n",
       "      <td>8.836000e+03</td>\n",
       "    </tr>\n",
       "    <tr>\n",
       "      <th>75%</th>\n",
       "      <td>7500.25000</td>\n",
       "      <td>9.382225e+06</td>\n",
       "      <td>9.636112e+06</td>\n",
       "      <td>1.451775e+07</td>\n",
       "      <td>67.000000</td>\n",
       "      <td>9.780831e+12</td>\n",
       "      <td>2011.000000</td>\n",
       "      <td>4.180000</td>\n",
       "      <td>4.105350e+04</td>\n",
       "      <td>4.591500e+04</td>\n",
       "      <td>2744.250000</td>\n",
       "      <td>885.000000</td>\n",
       "      <td>2353.250000</td>\n",
       "      <td>9287.000000</td>\n",
       "      <td>1.602350e+04</td>\n",
       "      <td>1.730450e+04</td>\n",
       "    </tr>\n",
       "    <tr>\n",
       "      <th>max</th>\n",
       "      <td>10000.00000</td>\n",
       "      <td>3.328864e+07</td>\n",
       "      <td>3.553423e+07</td>\n",
       "      <td>5.639960e+07</td>\n",
       "      <td>3455.000000</td>\n",
       "      <td>9.790008e+12</td>\n",
       "      <td>2017.000000</td>\n",
       "      <td>4.820000</td>\n",
       "      <td>4.780653e+06</td>\n",
       "      <td>4.942365e+06</td>\n",
       "      <td>155254.000000</td>\n",
       "      <td>456191.000000</td>\n",
       "      <td>436802.000000</td>\n",
       "      <td>793319.000000</td>\n",
       "      <td>1.481305e+06</td>\n",
       "      <td>3.011543e+06</td>\n",
       "    </tr>\n",
       "  </tbody>\n",
       "</table>\n",
       "</div>"
      ],
      "text/plain": [
       "           book_id  goodreads_book_id  best_book_id       work_id  \\\n",
       "count  10000.00000       1.000000e+04  1.000000e+04  1.000000e+04   \n",
       "mean    5000.50000       5.264697e+06  5.471214e+06  8.646183e+06   \n",
       "std     2886.89568       7.575462e+06  7.827330e+06  1.175106e+07   \n",
       "min        1.00000       1.000000e+00  1.000000e+00  8.700000e+01   \n",
       "25%     2500.75000       4.627575e+04  4.791175e+04  1.008841e+06   \n",
       "50%     5000.50000       3.949655e+05  4.251235e+05  2.719524e+06   \n",
       "75%     7500.25000       9.382225e+06  9.636112e+06  1.451775e+07   \n",
       "max    10000.00000       3.328864e+07  3.553423e+07  5.639960e+07   \n",
       "\n",
       "        books_count        isbn13  original_publication_year  average_rating  \\\n",
       "count  10000.000000  9.415000e+03                9979.000000    10000.000000   \n",
       "mean      75.712700  9.755044e+12                1981.987674        4.002191   \n",
       "std      170.470728  4.428619e+11                 152.576665        0.254427   \n",
       "min        1.000000  1.951703e+08               -1750.000000        2.470000   \n",
       "25%       23.000000  9.780316e+12                1990.000000        3.850000   \n",
       "50%       40.000000  9.780452e+12                2004.000000        4.020000   \n",
       "75%       67.000000  9.780831e+12                2011.000000        4.180000   \n",
       "max     3455.000000  9.790008e+12                2017.000000        4.820000   \n",
       "\n",
       "       ratings_count  work_ratings_count  work_text_reviews_count  \\\n",
       "count   1.000000e+04        1.000000e+04             10000.000000   \n",
       "mean    5.400124e+04        5.968732e+04              2919.955300   \n",
       "std     1.573700e+05        1.678038e+05              6124.378132   \n",
       "min     2.716000e+03        5.510000e+03                 3.000000   \n",
       "25%     1.356875e+04        1.543875e+04               694.000000   \n",
       "50%     2.115550e+04        2.383250e+04              1402.000000   \n",
       "75%     4.105350e+04        4.591500e+04              2744.250000   \n",
       "max     4.780653e+06        4.942365e+06            155254.000000   \n",
       "\n",
       "           ratings_1      ratings_2      ratings_3     ratings_4     ratings_5  \n",
       "count   10000.000000   10000.000000   10000.000000  1.000000e+04  1.000000e+04  \n",
       "mean     1345.040600    3110.885000   11475.893800  1.996570e+04  2.378981e+04  \n",
       "std      6635.626263    9717.123578   28546.449183  5.144736e+04  7.976889e+04  \n",
       "min        11.000000      30.000000     323.000000  7.500000e+02  7.540000e+02  \n",
       "25%       196.000000     656.000000    3112.000000  5.405750e+03  5.334000e+03  \n",
       "50%       391.000000    1163.000000    4894.000000  8.269500e+03  8.836000e+03  \n",
       "75%       885.000000    2353.250000    9287.000000  1.602350e+04  1.730450e+04  \n",
       "max    456191.000000  436802.000000  793319.000000  1.481305e+06  3.011543e+06  "
      ]
     },
     "execution_count": 27,
     "metadata": {},
     "output_type": "execute_result"
    }
   ],
   "source": [
    "books.describe()"
   ]
  },
  {
   "cell_type": "markdown",
   "id": "c562c37e",
   "metadata": {},
   "source": [
    "## 결측치 확인"
   ]
  },
  {
   "cell_type": "code",
   "execution_count": 9,
   "id": "54768b4b",
   "metadata": {},
   "outputs": [
    {
     "data": {
      "text/plain": [
       "book_id                         0\n",
       "goodreads_book_id               0\n",
       "best_book_id                    0\n",
       "work_id                         0\n",
       "books_count                     0\n",
       "isbn                          700\n",
       "isbn13                        585\n",
       "authors                         0\n",
       "original_publication_year      21\n",
       "original_title                585\n",
       "title                           0\n",
       "language_code                1084\n",
       "average_rating                  0\n",
       "ratings_count                   0\n",
       "work_ratings_count              0\n",
       "work_text_reviews_count         0\n",
       "ratings_1                       0\n",
       "ratings_2                       0\n",
       "ratings_3                       0\n",
       "ratings_4                       0\n",
       "ratings_5                       0\n",
       "image_url                       0\n",
       "small_image_url                 0\n",
       "dtype: int64"
      ]
     },
     "execution_count": 9,
     "metadata": {},
     "output_type": "execute_result"
    }
   ],
   "source": [
    "books.isna().sum()"
   ]
  },
  {
   "cell_type": "code",
   "execution_count": 16,
   "id": "6f5aa56d",
   "metadata": {},
   "outputs": [
    {
     "data": {
      "image/png": "[encoded data removed]",
      "text/plain": [
       "<Figure size 2500x1000 with 3 Axes>"
      ]
     },
     "metadata": {},
     "output_type": "display_data"
    }
   ],
   "source": [
    "msno.bar(books)\n",
    "plt.show()"
   ]
  },
  {
   "cell_type": "code",
   "execution_count": 17,
   "id": "b0600c05",
   "metadata": {},
   "outputs": [
    {
     "data": {
      "image/png": "[encoded data removed]",
      "text/plain": [
       "<Figure size 2500x1000 with 2 Axes>"
      ]
     },
     "metadata": {},
     "output_type": "display_data"
    }
   ],
   "source": [
    "msno.matrix(books)\n",
    "plt.show()"
   ]
  },
  {
   "cell_type": "code",
   "execution_count": 9,
   "id": "0746fe0b",
   "metadata": {},
   "outputs": [
    {
     "data": {
      "text/plain": [
       "count    9979.000000\n",
       "mean     1981.987674\n",
       "std       152.576665\n",
       "min     -1750.000000\n",
       "25%      1990.000000\n",
       "50%      2004.000000\n",
       "75%      2011.000000\n",
       "max      2017.000000\n",
       "Name: original_publication_year, dtype: float64"
      ]
     },
     "execution_count": 9,
     "metadata": {},
     "output_type": "execute_result"
    }
   ],
   "source": [
    "books['original_publication_year'].describe()"
   ]
  },
  {
   "cell_type": "code",
   "execution_count": 7,
   "id": "afebd93f",
   "metadata": {},
   "outputs": [],
   "source": [
    "## original_publication_year 칼럼 결측치를 9999로 변경\n",
    "books['original_publication_year'].fillna(9999, inplace=True)"
   ]
  },
  {
   "cell_type": "code",
   "execution_count": 8,
   "id": "8427bc0e",
   "metadata": {},
   "outputs": [],
   "source": [
    "# 다른 결측치 있는 열 삭제\n",
    "books = books.dropna(how='any')"
   ]
  },
  {
   "cell_type": "code",
   "execution_count": 13,
   "id": "168221a1",
   "metadata": {},
   "outputs": [
    {
     "data": {
      "text/plain": [
       "book_id                      0\n",
       "goodreads_book_id            0\n",
       "best_book_id                 0\n",
       "work_id                      0\n",
       "books_count                  0\n",
       "isbn                         0\n",
       "isbn13                       0\n",
       "authors                      0\n",
       "original_publication_year    0\n",
       "original_title               0\n",
       "title                        0\n",
       "language_code                0\n",
       "average_rating               0\n",
       "ratings_count                0\n",
       "work_ratings_count           0\n",
       "work_text_reviews_count      0\n",
       "ratings_1                    0\n",
       "ratings_2                    0\n",
       "ratings_3                    0\n",
       "ratings_4                    0\n",
       "ratings_5                    0\n",
       "image_url                    0\n",
       "small_image_url              0\n",
       "dtype: int64"
      ]
     },
     "execution_count": 13,
     "metadata": {},
     "output_type": "execute_result"
    }
   ],
   "source": [
    "books.isna().sum()"
   ]
  },
  {
   "cell_type": "code",
   "execution_count": 10,
   "id": "d3e46b46",
   "metadata": {},
   "outputs": [
    {
     "data": {
      "text/plain": [
       "user_id    0\n",
       "book_id    0\n",
       "rating     0\n",
       "dtype: int64"
      ]
     },
     "execution_count": 10,
     "metadata": {},
     "output_type": "execute_result"
    }
   ],
   "source": [
    "ratings.isna().sum()"
   ]
  },
  {
   "cell_type": "code",
   "execution_count": 11,
   "id": "1e0137a7",
   "metadata": {},
   "outputs": [
    {
     "data": {
      "text/plain": [
       "tag_id      0\n",
       "tag_name    0\n",
       "dtype: int64"
      ]
     },
     "execution_count": 11,
     "metadata": {},
     "output_type": "execute_result"
    }
   ],
   "source": [
    "tags.isna().sum()"
   ]
  },
  {
   "cell_type": "code",
   "execution_count": 8,
   "id": "cb3134c0",
   "metadata": {},
   "outputs": [
    {
     "data": {
      "text/plain": [
       "goodreads_book_id    0\n",
       "tag_id               0\n",
       "count                0\n",
       "dtype: int64"
      ]
     },
     "execution_count": 8,
     "metadata": {},
     "output_type": "execute_result"
    }
   ],
   "source": [
    "book_tags.isna().sum()"
   ]
  },
  {
   "cell_type": "code",
   "execution_count": 12,
   "id": "49e36f78",
   "metadata": {},
   "outputs": [
    {
     "data": {
      "text/plain": [
       "user_id    0\n",
       "book_id    0\n",
       "dtype: int64"
      ]
     },
     "execution_count": 12,
     "metadata": {},
     "output_type": "execute_result"
    }
   ],
   "source": [
    "to_read.isna().sum()"
   ]
  },
  {
   "cell_type": "markdown",
   "id": "84270520",
   "metadata": {},
   "source": [
    "## books 테이블 평점 칼럼 평가"
   ]
  },
  {
   "cell_type": "code",
   "execution_count": 7,
   "id": "6d50a713",
   "metadata": {},
   "outputs": [
    {
     "data": {
      "text/plain": [
       "10000"
      ]
     },
     "execution_count": 7,
     "metadata": {},
     "output_type": "execute_result"
    }
   ],
   "source": [
    "books1 = books.copy()\n",
    "\n",
    "# 총 평점 수 계산\n",
    "books1[\"total_ratings\"] = books1[[\"ratings_1\", \"ratings_2\", \"ratings_3\", \"ratings_4\", \"ratings_5\"]].sum(axis=1)\n",
    "\n",
    "# 평균 평점 계산\n",
    "books1[\"calculated_avg_rating\"] = (\n",
    "    (1 * books1[\"ratings_1\"] +\n",
    "     2 * books1[\"ratings_2\"] +\n",
    "     3 * books1[\"ratings_3\"] +\n",
    "     4 * books1[\"ratings_4\"] +\n",
    "     5 * books1[\"ratings_5\"]) /\n",
    "    books1[\"total_ratings\"]\n",
    ")\n",
    "\n",
    "# 평균 평점 비교\n",
    "books1[\"is_match\"] = books1[\"average_rating\"].round(2) == books1[\"calculated_avg_rating\"].round(2)\n",
    "books1['is_match'].sum()"
   ]
  },
  {
   "cell_type": "markdown",
   "id": "114d09ce",
   "metadata": {},
   "source": [
    "## books 테이블 author열 길이 확인"
   ]
  },
  {
   "cell_type": "code",
   "execution_count": 16,
   "id": "d3a368f3",
   "metadata": {},
   "outputs": [
    {
     "data": {
      "text/plain": [
       "742"
      ]
     },
     "execution_count": 16,
     "metadata": {},
     "output_type": "execute_result"
    }
   ],
   "source": [
    "max_length = books['authors'].apply(lambda x: len(str(x))).max()\n",
    "max_length"
   ]
  },
  {
   "cell_type": "markdown",
   "id": "9e74896c",
   "metadata": {},
   "source": [
    "## 데이터 MySQL에 적재"
   ]
  },
  {
   "cell_type": "code",
   "execution_count": 8,
   "id": "e19da211",
   "metadata": {},
   "outputs": [],
   "source": [
    "import mysql.connector"
   ]
  },
  {
   "cell_type": "code",
   "execution_count": 9,
   "id": "0194225c",
   "metadata": {},
   "outputs": [],
   "source": [
    "host_ip=\"15.168.145.74\"\n",
    "user_id=\"spark_user\"\n",
    "user_password=\"1234\""
   ]
  },
  {
   "cell_type": "code",
   "execution_count": 10,
   "id": "8defb553",
   "metadata": {},
   "outputs": [],
   "source": [
    "connection = mysql.connector.connect(\n",
    "    host=host_ip,\n",
    "    user=user_id,\n",
    "    password=user_password,\n",
    "    charset='utf8mb4'\n",
    ")\n",
    "\n",
    "cursor = connection.cursor()"
   ]
  },
  {
   "cell_type": "code",
   "execution_count": 4,
   "id": "4fe24828",
   "metadata": {},
   "outputs": [],
   "source": [
    "# 데이터베이스 생성\n",
    "cursor.execute(\"CREATE DATABASE IF NOT EXISTS books_db CHARACTER SET utf8mb4 COLLATE utf8mb4_unicode_ci;\")\n",
    "cursor.execute(\"USE books_db;\")\n",
    "\n",
    "\n",
    "# 테이블 생성\n",
    "create_books_table = \"\"\"\n",
    "CREATE TABLE IF NOT EXISTS books (\n",
    "    book_id INT PRIMARY KEY,\n",
    "    goodreads_book_id INT UNIQUE,\n",
    "    title VARCHAR(255),\n",
    "    authors VARCHAR(800),\n",
    "    average_rating FLOAT,\n",
    "    ratings_count INT,\n",
    "    original_publication_year INT,\n",
    "    image_url VARCHAR(255),\n",
    "    small_image_url VARCHAR(255)\n",
    ");\n",
    "\"\"\"\n",
    "create_tags_table = \"\"\"\n",
    "CREATE TABLE IF NOT EXISTS tags (\n",
    "    tag_id INT PRIMARY KEY,\n",
    "    tag_name VARCHAR(255)\n",
    ");\n",
    "\"\"\"\n",
    "create_book_tags_table = \"\"\"\n",
    "CREATE TABLE IF NOT EXISTS book_tags (\n",
    "    goodreads_book_id INT,\n",
    "    tag_id INT,\n",
    "    count INT,\n",
    "    PRIMARY KEY (goodreads_book_id, tag_id),\n",
    "    FOREIGN KEY (goodreads_book_id) REFERENCES books(goodreads_book_id),\n",
    "    FOREIGN KEY (tag_id) REFERENCES tags(tag_id)\n",
    ");\n",
    "\"\"\"\n",
    "create_ratings_table = \"\"\"\n",
    "CREATE TABLE IF NOT EXISTS ratings (\n",
    "    user_id INT,\n",
    "    book_id INT,\n",
    "    rating INT,\n",
    "    PRIMARY KEY (user_id, book_id),\n",
    "    FOREIGN KEY (book_id) REFERENCES books(book_id)\n",
    ");\n",
    "\"\"\"\n",
    "create_to_read_table = \"\"\"\n",
    "CREATE TABLE IF NOT EXISTS to_read (\n",
    "    user_id INT,\n",
    "    book_id INT,\n",
    "    PRIMARY KEY (user_id, book_id),\n",
    "    FOREIGN KEY (book_id) REFERENCES books(book_id)\n",
    ");\n",
    "\"\"\""
   ]
  },
  {
   "cell_type": "code",
   "execution_count": null,
   "id": "eb004a2e",
   "metadata": {},
   "outputs": [],
   "source": [
    "# 테이블 실행\n",
    "cursor.execute(create_books_table)\n",
    "cursor.execute(create_tags_table)\n",
    "cursor.execute(create_book_tags_table)\n",
    "cursor.execute(create_ratings_table)\n",
    "cursor.execute(create_to_read_table)\n",
    "\n",
    "# 데이터 삽입 함수 (배치 처리)\n",
    "def insert_data_in_batches(table_name, data, batch_size=10000):\n",
    "    placeholders = \", \".join([\"%s\"] * len(data.columns))\n",
    "    columns = \", \".join(data.columns)\n",
    "    sql = f\"INSERT IGNORE INTO {table_name} ({columns}) VALUES ({placeholders})\"\n",
    "\n",
    "    # 데이터를 배치 크기로 나눠서 삽입\n",
    "    for i in range(0, len(data), batch_size):\n",
    "        batch = data.iloc[i:i + batch_size]\n",
    "        cursor.executemany(sql, batch.values.tolist())\n",
    "        connection.commit()\n",
    "        print(f\"{i + len(batch)}개 데이터 삽입 완료\")\n",
    "\n",
    "# 데이터 삽입\n",
    "insert_data_in_batches(\"books\", books[['book_id', 'goodreads_book_id', 'title', 'authors', 'average_rating', \n",
    "                                       'ratings_count', 'original_publication_year', 'image_url', 'small_image_url']])\n",
    "insert_data_in_batches(\"tags\", tags, batch_size=5000)\n",
    "insert_data_in_batches(\"book_tags\", book_tags, batch_size=5000)\n",
    "insert_data_in_batches(\"ratings\", ratings, batch_size=5000)\n",
    "insert_data_in_batches(\"to_read\", to_read, batch_size=5000)\n",
    "\n",
    "print(\"모든 데이터가 성공적으로 삽입되었습니다!\")\n",
    "\n",
    "# 연결 종료\n",
    "cursor.close()\n",
    "connection.close()"
   ]
  },
  {
   "cell_type": "markdown",
   "id": "0812683e",
   "metadata": {},
   "source": [
    "## MySQL에서 PySpark로 데이터 로드"
   ]
  },
  {
   "cell_type": "code",
   "execution_count": 11,
   "id": "ef643993",
   "metadata": {},
   "outputs": [],
   "source": [
    "host_ip=\"15.168.145.74\"\n",
    "user_id=\"spark_user\"\n",
    "user_password=\"1234\""
   ]
  },
  {
   "cell_type": "code",
   "execution_count": 12,
   "id": "0ecd6ca6",
   "metadata": {},
   "outputs": [],
   "source": [
    "import os\n",
    "\n",
    "os.environ[\"PYSPARK_SUBMIT_ARGS\"] = \"--jars /usr/local/lib/mysql-connector-java-5.1.49-bin.jar pyspark-shell\""
   ]
  },
  {
   "cell_type": "code",
   "execution_count": 13,
   "id": "2346adec",
   "metadata": {},
   "outputs": [
    {
     "name": "stderr",
     "output_type": "stream",
     "text": [
      "24/12/20 17:28:32 WARN NativeCodeLoader: Unable to load native-hadoop library for your platform... using builtin-java classes where applicable\n",
      "Using Spark's default log4j profile: org/apache/spark/log4j-defaults.properties\n",
      "Setting default log level to \"WARN\".\n",
      "To adjust logging level use sc.setLogLevel(newLevel). For SparkR, use setLogLevel(newLevel).\n",
      "Fri Dec 20 17:28:36 KST 2024 WARN: Establishing SSL connection without server's identity verification is not recommended. According to MySQL 5.5.45+, 5.6.26+ and 5.7.6+ requirements SSL connection must be established by default if explicit option isn't set. For compliance with existing applications not using SSL the verifyServerCertificate property is set to 'false'. You need either to explicitly disable SSL by setting useSSL=false, or set useSSL=true and provide truststore for server certificate verification.\n",
      "Fri Dec 20 17:28:38 KST 2024 WARN: Establishing SSL connection without server's identity verification is not recommended. According to MySQL 5.5.45+, 5.6.26+ and 5.7.6+ requirements SSL connection must be established by default if explicit option isn't set. For compliance with existing applications not using SSL the verifyServerCertificate property is set to 'false'. You need either to explicitly disable SSL by setting useSSL=false, or set useSSL=true and provide truststore for server certificate verification.\n",
      "Fri Dec 20 17:28:38 KST 2024 WARN: Establishing SSL connection without server's identity verification is not recommended. According to MySQL 5.5.45+, 5.6.26+ and 5.7.6+ requirements SSL connection must be established by default if explicit option isn't set. For compliance with existing applications not using SSL the verifyServerCertificate property is set to 'false'. You need either to explicitly disable SSL by setting useSSL=false, or set useSSL=true and provide truststore for server certificate verification.\n",
      "Fri Dec 20 17:28:38 KST 2024 WARN: Establishing SSL connection without server's identity verification is not recommended. According to MySQL 5.5.45+, 5.6.26+ and 5.7.6+ requirements SSL connection must be established by default if explicit option isn't set. For compliance with existing applications not using SSL the verifyServerCertificate property is set to 'false'. You need either to explicitly disable SSL by setting useSSL=false, or set useSSL=true and provide truststore for server certificate verification.\n",
      "Fri Dec 20 17:28:38 KST 2024 WARN: Establishing SSL connection without server's identity verification is not recommended. According to MySQL 5.5.45+, 5.6.26+ and 5.7.6+ requirements SSL connection must be established by default if explicit option isn't set. For compliance with existing applications not using SSL the verifyServerCertificate property is set to 'false'. You need either to explicitly disable SSL by setting useSSL=false, or set useSSL=true and provide truststore for server certificate verification.\n"
     ]
    }
   ],
   "source": [
    "from pyspark.sql import SparkSession\n",
    "\n",
    "spark = SparkSession.builder\\\n",
    "        .appName('mysql-pyspark')\\\n",
    "        .getOrCreate()\n",
    "\n",
    "mysql_url = f\"jdbc:mysql://{host_ip}:3306/books_db\"\n",
    "\n",
    "books_df = spark.read.format(\"jdbc\").options(\n",
    "    url=mysql_url,\n",
    "    driver=\"com.mysql.jdbc.Driver\",\n",
    "    dbtable=\"books\",\n",
    "    user=user_id,\n",
    "    password=user_password\n",
    ").load()\n",
    "\n",
    "tags_df = spark.read.format(\"jdbc\").options(\n",
    "    url=mysql_url,\n",
    "    driver=\"com.mysql.jdbc.Driver\",\n",
    "    dbtable=\"tags\",  \n",
    "    user=user_id,\n",
    "    password=user_password\n",
    ").load()\n",
    "\n",
    "book_tags_df = spark.read.format(\"jdbc\").options(\n",
    "    url=mysql_url,\n",
    "    driver=\"com.mysql.jdbc.Driver\",\n",
    "    dbtable=\"book_tags\",  \n",
    "    user=user_id,\n",
    "    password=user_password\n",
    ").load()\n",
    "\n",
    "ratings_df = spark.read.format(\"jdbc\").options(\n",
    "    url=mysql_url,\n",
    "    driver=\"com.mysql.jdbc.Driver\",\n",
    "    dbtable=\"ratings\",  \n",
    "    user=user_id,\n",
    "    password=user_password\n",
    ").load()\n",
    "\n",
    "to_read_df = spark.read.format(\"jdbc\").options(\n",
    "    url=mysql_url,\n",
    "    driver=\"com.mysql.jdbc.Driver\",\n",
    "    dbtable=\"to_read\",  \n",
    "    user=user_id,\n",
    "    password=user_password\n",
    ").load()"
   ]
  },
  {
   "cell_type": "code",
   "execution_count": 9,
   "id": "2b48ff6a",
   "metadata": {},
   "outputs": [
    {
     "name": "stderr",
     "output_type": "stream",
     "text": [
      "Fri Dec 20 14:56:53 KST 2024 WARN: Establishing SSL connection without server's identity verification is not recommended. According to MySQL 5.5.45+, 5.6.26+ and 5.7.6+ requirements SSL connection must be established by default if explicit option isn't set. For compliance with existing applications not using SSL the verifyServerCertificate property is set to 'false'. You need either to explicitly disable SSL by setting useSSL=false, or set useSSL=true and provide truststore for server certificate verification.\n"
     ]
    },
    {
     "name": "stdout",
     "output_type": "stream",
     "text": [
      "+-------+-----------------+--------------------+--------------------+--------------+-------------+-------------------------+--------------------+--------------------+\n",
      "|book_id|goodreads_book_id|               title|             authors|average_rating|ratings_count|original_publication_year|           image_url|     small_image_url|\n",
      "+-------+-----------------+--------------------+--------------------+--------------+-------------+-------------------------+--------------------+--------------------+\n",
      "|      1|          2767052|The Hunger Games ...|     Suzanne Collins|          4.34|      4780653|                     2008|https://images.gr...|https://images.gr...|\n",
      "|      2|                3|Harry Potter and ...|J.K. Rowling, Mar...|          4.44|      4602479|                     1997|https://images.gr...|https://images.gr...|\n",
      "|      3|            41865|Twilight (Twiligh...|     Stephenie Meyer|          3.57|      3866839|                     2005|https://images.gr...|https://images.gr...|\n",
      "|      4|             2657|To Kill a Mocking...|          Harper Lee|          4.25|      3198671|                     1960|https://images.gr...|https://images.gr...|\n",
      "|      5|             4671|    The Great Gatsby| F. Scott Fitzgerald|          3.89|      2683664|                     1925|https://images.gr...|https://images.gr...|\n",
      "+-------+-----------------+--------------------+--------------------+--------------+-------------+-------------------------+--------------------+--------------------+\n",
      "only showing top 5 rows\n",
      "\n"
     ]
    },
    {
     "name": "stderr",
     "output_type": "stream",
     "text": [
      "\r",
      "                                                                                \r"
     ]
    }
   ],
   "source": [
    "books_df.show(5)"
   ]
  },
  {
   "cell_type": "code",
   "execution_count": 10,
   "id": "5ebb27c5",
   "metadata": {},
   "outputs": [
    {
     "name": "stdout",
     "output_type": "stream",
     "text": [
      "+------+--------+\n",
      "|tag_id|tag_name|\n",
      "+------+--------+\n",
      "|     0|       -|\n",
      "|     1|    --1-|\n",
      "|     2|   --10-|\n",
      "|     3|   --12-|\n",
      "|     4|  --122-|\n",
      "+------+--------+\n",
      "only showing top 5 rows\n",
      "\n"
     ]
    },
    {
     "name": "stderr",
     "output_type": "stream",
     "text": [
      "Fri Dec 20 14:56:54 KST 2024 WARN: Establishing SSL connection without server's identity verification is not recommended. According to MySQL 5.5.45+, 5.6.26+ and 5.7.6+ requirements SSL connection must be established by default if explicit option isn't set. For compliance with existing applications not using SSL the verifyServerCertificate property is set to 'false'. You need either to explicitly disable SSL by setting useSSL=false, or set useSSL=true and provide truststore for server certificate verification.\n"
     ]
    }
   ],
   "source": [
    "tags_df.show(5)"
   ]
  },
  {
   "cell_type": "code",
   "execution_count": 6,
   "id": "96c63769",
   "metadata": {},
   "outputs": [
    {
     "name": "stderr",
     "output_type": "stream",
     "text": [
      "Thu Dec 19 14:44:14 KST 2024 WARN: Establishing SSL connection without server's identity verification is not recommended. According to MySQL 5.5.45+, 5.6.26+ and 5.7.6+ requirements SSL connection must be established by default if explicit option isn't set. For compliance with existing applications not using SSL the verifyServerCertificate property is set to 'false'. You need either to explicitly disable SSL by setting useSSL=false, or set useSSL=true and provide truststore for server certificate verification.\n",
      "[Stage 2:>                                                          (0 + 1) / 1]\r"
     ]
    },
    {
     "name": "stdout",
     "output_type": "stream",
     "text": [
      "+-----------------+------+-----+\n",
      "|goodreads_book_id|tag_id|count|\n",
      "+-----------------+------+-----+\n",
      "|                1|   615|  399|\n",
      "|                1|  1120|  283|\n",
      "|                1|  1128|  828|\n",
      "|                1|  1691| 1742|\n",
      "|                1|  2104| 1022|\n",
      "+-----------------+------+-----+\n",
      "only showing top 5 rows\n",
      "\n"
     ]
    },
    {
     "name": "stderr",
     "output_type": "stream",
     "text": [
      "\r",
      "                                                                                \r"
     ]
    }
   ],
   "source": [
    "book_tags_df.show(5)"
   ]
  },
  {
   "cell_type": "code",
   "execution_count": 7,
   "id": "3e09e39c",
   "metadata": {},
   "outputs": [
    {
     "name": "stderr",
     "output_type": "stream",
     "text": [
      "Thu Dec 19 14:44:20 KST 2024 WARN: Establishing SSL connection without server's identity verification is not recommended. According to MySQL 5.5.45+, 5.6.26+ and 5.7.6+ requirements SSL connection must be established by default if explicit option isn't set. For compliance with existing applications not using SSL the verifyServerCertificate property is set to 'false'. You need either to explicitly disable SSL by setting useSSL=false, or set useSSL=true and provide truststore for server certificate verification.\n",
      "[Stage 3:>                                                          (0 + 1) / 1]\r"
     ]
    },
    {
     "name": "stdout",
     "output_type": "stream",
     "text": [
      "+-------+-------+------+\n",
      "|user_id|book_id|rating|\n",
      "+-------+-------+------+\n",
      "|      1|      4|     5|\n",
      "|      1|     10|     4|\n",
      "|      1|     11|     5|\n",
      "|      1|     13|     4|\n",
      "|      1|     16|     3|\n",
      "+-------+-------+------+\n",
      "only showing top 5 rows\n",
      "\n"
     ]
    },
    {
     "name": "stderr",
     "output_type": "stream",
     "text": [
      "\r",
      "                                                                                \r"
     ]
    }
   ],
   "source": [
    "ratings_df.show(5)"
   ]
  },
  {
   "cell_type": "code",
   "execution_count": 8,
   "id": "ce942b5c",
   "metadata": {},
   "outputs": [
    {
     "name": "stderr",
     "output_type": "stream",
     "text": [
      "Thu Dec 19 14:44:32 KST 2024 WARN: Establishing SSL connection without server's identity verification is not recommended. According to MySQL 5.5.45+, 5.6.26+ and 5.7.6+ requirements SSL connection must be established by default if explicit option isn't set. For compliance with existing applications not using SSL the verifyServerCertificate property is set to 'false'. You need either to explicitly disable SSL by setting useSSL=false, or set useSSL=true and provide truststore for server certificate verification.\n"
     ]
    },
    {
     "name": "stdout",
     "output_type": "stream",
     "text": [
      "+-------+-------+\n",
      "|user_id|book_id|\n",
      "+-------+-------+\n",
      "|     12|      1|\n",
      "|    192|      1|\n",
      "|    202|      1|\n",
      "|    244|      1|\n",
      "|    253|      1|\n",
      "+-------+-------+\n",
      "only showing top 5 rows\n",
      "\n"
     ]
    },
    {
     "name": "stderr",
     "output_type": "stream",
     "text": [
      "\r",
      "[Stage 4:>                                                          (0 + 1) / 1]\r",
      "\r",
      "                                                                                \r"
     ]
    }
   ],
   "source": [
    "to_read_df.show(5)"
   ]
  },
  {
   "cell_type": "markdown",
   "id": "6b9940b9",
   "metadata": {},
   "source": [
    "## PySpark로 데이터 전처리"
   ]
  },
  {
   "cell_type": "code",
   "execution_count": 14,
   "id": "106877b3",
   "metadata": {},
   "outputs": [],
   "source": [
    "from pyspark.sql import functions as F\n",
    "import matplotlib.pyplot as plt\n",
    "import seaborn as sns\n",
    "\n",
    "sns.set_palette('pastel')"
   ]
  },
  {
   "cell_type": "markdown",
   "id": "f35d26b7",
   "metadata": {},
   "source": [
    "### 결측치, 이상치 처리"
   ]
  },
  {
   "cell_type": "code",
   "execution_count": 16,
   "id": "ed108637",
   "metadata": {},
   "outputs": [
    {
     "name": "stdout",
     "output_type": "stream",
     "text": [
      "+-------+-----------------+-----+-------+--------------+-------------+-------------------------+---------+---------------+\n",
      "|book_id|goodreads_book_id|title|authors|average_rating|ratings_count|original_publication_year|image_url|small_image_url|\n",
      "+-------+-----------------+-----+-------+--------------+-------------+-------------------------+---------+---------------+\n",
      "|      0|                0|    0|      0|             0|            0|                        0|        0|              0|\n",
      "+-------+-----------------+-----+-------+--------------+-------------+-------------------------+---------+---------------+\n",
      "\n"
     ]
    },
    {
     "name": "stderr",
     "output_type": "stream",
     "text": [
      "Thu Dec 19 15:43:43 KST 2024 WARN: Establishing SSL connection without server's identity verification is not recommended. According to MySQL 5.5.45+, 5.6.26+ and 5.7.6+ requirements SSL connection must be established by default if explicit option isn't set. For compliance with existing applications not using SSL the verifyServerCertificate property is set to 'false'. You need either to explicitly disable SSL by setting useSSL=false, or set useSSL=true and provide truststore for server certificate verification.\n"
     ]
    }
   ],
   "source": [
    "books_df.select([F.sum(F.col(c).isNull().cast(\"int\")).alias(c) for c in books_df.columns]).show()"
   ]
  },
  {
   "cell_type": "code",
   "execution_count": 17,
   "id": "e31ba39e",
   "metadata": {},
   "outputs": [
    {
     "name": "stdout",
     "output_type": "stream",
     "text": [
      "+-------+-------------------------+\n",
      "|summary|original_publication_year|\n",
      "+-------+-------------------------+\n",
      "|  count|                     7865|\n",
      "|   mean|       1985.3825810553083|\n",
      "| stddev|        258.6722828704945|\n",
      "|    min|                    -1750|\n",
      "|    max|                     9999|\n",
      "+-------+-------------------------+\n",
      "\n"
     ]
    },
    {
     "name": "stderr",
     "output_type": "stream",
     "text": [
      "Thu Dec 19 15:44:18 KST 2024 WARN: Establishing SSL connection without server's identity verification is not recommended. According to MySQL 5.5.45+, 5.6.26+ and 5.7.6+ requirements SSL connection must be established by default if explicit option isn't set. For compliance with existing applications not using SSL the verifyServerCertificate property is set to 'false'. You need either to explicitly disable SSL by setting useSSL=false, or set useSSL=true and provide truststore for server certificate verification.\n"
     ]
    }
   ],
   "source": [
    "books_df.select('original_publication_year').describe().show()"
   ]
  },
  {
   "cell_type": "code",
   "execution_count": 52,
   "id": "135f3537",
   "metadata": {},
   "outputs": [
    {
     "name": "stderr",
     "output_type": "stream",
     "text": [
      "Thu Dec 19 15:58:14 KST 2024 WARN: Establishing SSL connection without server's identity verification is not recommended. According to MySQL 5.5.45+, 5.6.26+ and 5.7.6+ requirements SSL connection must be established by default if explicit option isn't set. For compliance with existing applications not using SSL the verifyServerCertificate property is set to 'false'. You need either to explicitly disable SSL by setting useSSL=false, or set useSSL=true and provide truststore for server certificate verification.\n"
     ]
    },
    {
     "data": {
      "text/plain": [
       "312"
      ]
     },
     "execution_count": 52,
     "metadata": {},
     "output_type": "execute_result"
    }
   ],
   "source": [
    "# original_publication_year 이상치 312개 (4.13%)\n",
    "\n",
    "books_df.filter(\n",
    "    (books_df['original_publication_year'] < 1900) |\n",
    "    (books_df['original_publication_year'] == 9999)).count()"
   ]
  },
  {
   "cell_type": "code",
   "execution_count": 49,
   "id": "d830e3a6",
   "metadata": {},
   "outputs": [],
   "source": [
    "books_df1 = books_df.filter(\n",
    "    (books_df['original_publication_year'] >= 1900) & \n",
    "    (books_df['original_publication_year'] != 9999))"
   ]
  },
  {
   "cell_type": "code",
   "execution_count": 50,
   "id": "e930cfd9",
   "metadata": {},
   "outputs": [
    {
     "name": "stdout",
     "output_type": "stream",
     "text": [
      "+-------+-------------------------+\n",
      "|summary|original_publication_year|\n",
      "+-------+-------------------------+\n",
      "|  count|                     7553|\n",
      "|   mean|       1996.7193168277506|\n",
      "| stddev|       20.957258738033282|\n",
      "|    min|                     1900|\n",
      "|    max|                     2017|\n",
      "+-------+-------------------------+\n",
      "\n"
     ]
    },
    {
     "name": "stderr",
     "output_type": "stream",
     "text": [
      "Thu Dec 19 15:57:30 KST 2024 WARN: Establishing SSL connection without server's identity verification is not recommended. According to MySQL 5.5.45+, 5.6.26+ and 5.7.6+ requirements SSL connection must be established by default if explicit option isn't set. For compliance with existing applications not using SSL the verifyServerCertificate property is set to 'false'. You need either to explicitly disable SSL by setting useSSL=false, or set useSSL=true and provide truststore for server certificate verification.\n"
     ]
    }
   ],
   "source": [
    "books_df1.select('original_publication_year').describe().show()"
   ]
  },
  {
   "cell_type": "code",
   "execution_count": 51,
   "id": "119046c9",
   "metadata": {},
   "outputs": [
    {
     "name": "stderr",
     "output_type": "stream",
     "text": [
      "Thu Dec 19 15:57:39 KST 2024 WARN: Establishing SSL connection without server's identity verification is not recommended. According to MySQL 5.5.45+, 5.6.26+ and 5.7.6+ requirements SSL connection must be established by default if explicit option isn't set. For compliance with existing applications not using SSL the verifyServerCertificate property is set to 'false'. You need either to explicitly disable SSL by setting useSSL=false, or set useSSL=true and provide truststore for server certificate verification.\n"
     ]
    },
    {
     "data": {
      "image/png": "[encoded data removed]",
      "text/plain": [
       "<Figure size 640x480 with 1 Axes>"
      ]
     },
     "metadata": {},
     "output_type": "display_data"
    }
   ],
   "source": [
    "pandas_books_df = books_df1.select('original_publication_year').toPandas()\n",
    "\n",
    "sns.histplot(pandas_books_df['original_publication_year'], bins=50, kde=True)\n",
    "plt.show()"
   ]
  },
  {
   "cell_type": "code",
   "execution_count": 15,
   "id": "cbe8531d",
   "metadata": {},
   "outputs": [],
   "source": [
    "# 이상치가 5%미만이므로 제거\n",
    "books_df = books_df.filter(\n",
    "(books_df['original_publication_year'] >= 1900) &\n",
    "(books_df['original_publication_year'] != 9999))"
   ]
  },
  {
   "cell_type": "markdown",
   "id": "89604dd8",
   "metadata": {},
   "source": [
    "### 중복 있는지 확인"
   ]
  },
  {
   "cell_type": "code",
   "execution_count": 58,
   "id": "5566c547",
   "metadata": {},
   "outputs": [
    {
     "name": "stderr",
     "output_type": "stream",
     "text": [
      "Thu Dec 19 16:20:16 KST 2024 WARN: Establishing SSL connection without server's identity verification is not recommended. According to MySQL 5.5.45+, 5.6.26+ and 5.7.6+ requirements SSL connection must be established by default if explicit option isn't set. For compliance with existing applications not using SSL the verifyServerCertificate property is set to 'false'. You need either to explicitly disable SSL by setting useSSL=false, or set useSSL=true and provide truststore for server certificate verification.\n",
      "24/12/19 16:20:31 WARN TaskMemoryManager: Failed to allocate a page (134217728 bytes), try again.\n",
      "                                                                                \r"
     ]
    },
    {
     "data": {
      "text/plain": [
       "5314320"
      ]
     },
     "execution_count": 58,
     "metadata": {},
     "output_type": "execute_result"
    }
   ],
   "source": [
    "ratings_df.dropDuplicates(subset=['user_id','book_id']).count()"
   ]
  },
  {
   "cell_type": "code",
   "execution_count": 60,
   "id": "c301c5ba",
   "metadata": {},
   "outputs": [
    {
     "name": "stderr",
     "output_type": "stream",
     "text": [
      "Thu Dec 19 16:23:25 KST 2024 WARN: Establishing SSL connection without server's identity verification is not recommended. According to MySQL 5.5.45+, 5.6.26+ and 5.7.6+ requirements SSL connection must be established by default if explicit option isn't set. For compliance with existing applications not using SSL the verifyServerCertificate property is set to 'false'. You need either to explicitly disable SSL by setting useSSL=false, or set useSSL=true and provide truststore for server certificate verification.\n",
      "                                                                                \r"
     ]
    },
    {
     "data": {
      "text/plain": [
       "5314320"
      ]
     },
     "execution_count": 60,
     "metadata": {},
     "output_type": "execute_result"
    }
   ],
   "source": [
    "ratings_df.count()"
   ]
  },
  {
   "cell_type": "code",
   "execution_count": 62,
   "id": "633a4e29",
   "metadata": {},
   "outputs": [
    {
     "name": "stderr",
     "output_type": "stream",
     "text": [
      "Thu Dec 19 16:28:09 KST 2024 WARN: Establishing SSL connection without server's identity verification is not recommended. According to MySQL 5.5.45+, 5.6.26+ and 5.7.6+ requirements SSL connection must be established by default if explicit option isn't set. For compliance with existing applications not using SSL the verifyServerCertificate property is set to 'false'. You need either to explicitly disable SSL by setting useSSL=false, or set useSSL=true and provide truststore for server certificate verification.\n",
      "                                                                                \r"
     ]
    },
    {
     "data": {
      "text/plain": [
       "786492"
      ]
     },
     "execution_count": 62,
     "metadata": {},
     "output_type": "execute_result"
    }
   ],
   "source": [
    "book_tags_df.dropDuplicates(subset=['goodreads_book_id','tag_id']).count()"
   ]
  },
  {
   "cell_type": "code",
   "execution_count": 63,
   "id": "5c723ff2",
   "metadata": {},
   "outputs": [
    {
     "name": "stderr",
     "output_type": "stream",
     "text": [
      "Thu Dec 19 16:28:19 KST 2024 WARN: Establishing SSL connection without server's identity verification is not recommended. According to MySQL 5.5.45+, 5.6.26+ and 5.7.6+ requirements SSL connection must be established by default if explicit option isn't set. For compliance with existing applications not using SSL the verifyServerCertificate property is set to 'false'. You need either to explicitly disable SSL by setting useSSL=false, or set useSSL=true and provide truststore for server certificate verification.\n"
     ]
    },
    {
     "data": {
      "text/plain": [
       "786492"
      ]
     },
     "execution_count": 63,
     "metadata": {},
     "output_type": "execute_result"
    }
   ],
   "source": [
    "book_tags_df.count()"
   ]
  },
  {
   "cell_type": "markdown",
   "id": "7b6909cc",
   "metadata": {},
   "source": [
    "### 평균 평점 시각화"
   ]
  },
  {
   "cell_type": "code",
   "execution_count": 64,
   "id": "bd6f2b2c",
   "metadata": {},
   "outputs": [
    {
     "name": "stderr",
     "output_type": "stream",
     "text": [
      "Thu Dec 19 16:35:36 KST 2024 WARN: Establishing SSL connection without server's identity verification is not recommended. According to MySQL 5.5.45+, 5.6.26+ and 5.7.6+ requirements SSL connection must be established by default if explicit option isn't set. For compliance with existing applications not using SSL the verifyServerCertificate property is set to 'false'. You need either to explicitly disable SSL by setting useSSL=false, or set useSSL=true and provide truststore for server certificate verification.\n"
     ]
    },
    {
     "data": {
      "image/png": "[encoded data removed]",
      "text/plain": [
       "<Figure size 640x480 with 1 Axes>"
      ]
     },
     "metadata": {},
     "output_type": "display_data"
    }
   ],
   "source": [
    "pandas_books_df = books_df.select('average_rating').toPandas()\n",
    "\n",
    "sns.histplot(pandas_books_df['average_rating'], bins=50, kde=True)\n",
    "plt.show()"
   ]
  },
  {
   "cell_type": "markdown",
   "id": "bbc1f6b5",
   "metadata": {},
   "source": [
    "### 평균 평점과 평점 수 상관관계\n",
    "- 평점은 3.5에서 4.5 사이에 주로 분포\n",
    "- 평점 수가 적은 책은 평균 평점의 변동성이 큼\n",
    "- 평점 수가 많을수록 더 신뢰할 수 있는 평균 평점을 가짐\n",
    "- 평점과 평점 수 사이에 강한 상관관계가 없음\n",
    "- 많은 평점을 받았다고 해서 평점이 항상 높은 것은 아님"
   ]
  },
  {
   "cell_type": "code",
   "execution_count": 14,
   "id": "8a17d117",
   "metadata": {},
   "outputs": [
    {
     "name": "stderr",
     "output_type": "stream",
     "text": [
      "Fri Dec 20 09:51:22 KST 2024 WARN: Establishing SSL connection without server's identity verification is not recommended. According to MySQL 5.5.45+, 5.6.26+ and 5.7.6+ requirements SSL connection must be established by default if explicit option isn't set. For compliance with existing applications not using SSL the verifyServerCertificate property is set to 'false'. You need either to explicitly disable SSL by setting useSSL=false, or set useSSL=true and provide truststore for server certificate verification.\n"
     ]
    },
    {
     "data": {
      "image/png": "[encoded data removed]",
      "text/plain": [
       "<Figure size 640x480 with 1 Axes>"
      ]
     },
     "metadata": {},
     "output_type": "display_data"
    }
   ],
   "source": [
    "books_df1 = books_df\n",
    "books_df1 = books_df1.withColumn('log_ratings_count', F.log(F.col('ratings_count')))\n",
    "books_df1_pandas = books_df1.select('log_ratings_count', 'average_rating').toPandas()\n",
    "\n",
    "sns.scatterplot(data=books_df1_pandas, x='log_ratings_count',y='average_rating', alpha=0.5)\n",
    "plt.show()"
   ]
  },
  {
   "cell_type": "markdown",
   "id": "c96af965",
   "metadata": {},
   "source": [
    "### 인기 저자 탑 10"
   ]
  },
  {
   "cell_type": "code",
   "execution_count": 10,
   "id": "f85cf5c4",
   "metadata": {},
   "outputs": [
    {
     "name": "stderr",
     "output_type": "stream",
     "text": [
      "Fri Dec 20 09:44:55 KST 2024 WARN: Establishing SSL connection without server's identity verification is not recommended. According to MySQL 5.5.45+, 5.6.26+ and 5.7.6+ requirements SSL connection must be established by default if explicit option isn't set. For compliance with existing applications not using SSL the verifyServerCertificate property is set to 'false'. You need either to explicitly disable SSL by setting useSSL=false, or set useSSL=true and provide truststore for server certificate verification.\n",
      "/tmp/ipykernel_2766/903857657.py:8: FutureWarning:                              \n",
      "\n",
      "Passing `palette` without assigning `hue` is deprecated and will be removed in v0.14.0. Assign the `y` variable to `hue` and set `legend=False` for the same effect.\n",
      "\n",
      "  sns.barplot(x=top_authors_df['book_count'], y=top_authors_df['authors'], palette='pastel')\n"
     ]
    },
    {
     "data": {
      "image/png": "[encoded data removed]",
      "text/plain": [
       "<Figure size 640x480 with 1 Axes>"
      ]
     },
     "metadata": {},
     "output_type": "display_data"
    }
   ],
   "source": [
    "top_authors = books_df.groupBy('authors')\\\n",
    "    .agg(F.count('*').alias('book_count'))\\\n",
    "    .orderBy(F.col('book_count').desc())\\\n",
    "    .limit(10)\n",
    "\n",
    "top_authors_df = top_authors.toPandas()\n",
    "\n",
    "sns.barplot(x=top_authors_df['book_count'], y=top_authors_df['authors'], palette='pastel')\n",
    "plt.show()"
   ]
  },
  {
   "cell_type": "markdown",
   "id": "e1cdf60d",
   "metadata": {},
   "source": [
    "### 태그\n",
    "- 장르\n",
    "Fiction\n",
    "Fantasy\n",
    "Horror\n",
    "Romance, Romantic\n",
    "Mystery\n",
    "Sci-Fi\n",
    "Series, Sequel\n",
    "Adventure (Abenteuer)\n",
    "Thriller\n",
    "Hero, Avengers\n",
    "E-book\n",
    "Audio-book\n",
    "Comics\n",
    "Kid, Child\n",
    "Art\n",
    "Architecture\n",
    "Cooking, Cook\n",
    "Poetry\n",
    "Health\n",
    "Travel\n",
    "Law\n",
    "Psychology\n",
    "Chemistry\n",
    "Engineering\n",
    "Science\n",
    "Music\n",
    "Biography\n",
    "Business\n",
    "Crime\n",
    "History\n",
    "Religion\n",
    "Sport"
   ]
  },
  {
   "cell_type": "code",
   "execution_count": 65,
   "id": "c3b2b5ef",
   "metadata": {
    "scrolled": true
   },
   "outputs": [
    {
     "name": "stderr",
     "output_type": "stream",
     "text": [
      "Thu Dec 19 16:37:00 KST 2024 WARN: Establishing SSL connection without server's identity verification is not recommended. According to MySQL 5.5.45+, 5.6.26+ and 5.7.6+ requirements SSL connection must be established by default if explicit option isn't set. For compliance with existing applications not using SSL the verifyServerCertificate property is set to 'false'. You need either to explicitly disable SSL by setting useSSL=false, or set useSSL=true and provide truststore for server certificate verification.\n",
      "                                                                                \r"
     ]
    },
    {
     "data": {
      "text/plain": [
       "[Row(tag_name='1000-by-k'),\n",
       " Row(tag_name='1970s'),\n",
       " Row(tag_name='2-5-oitnb-challenge'),\n",
       " Row(tag_name='2010-book-list'),\n",
       " Row(tag_name='2013-book-challenge'),\n",
       " Row(tag_name='2016-read'),\n",
       " Row(tag_name='501-must-read-books'),\n",
       " Row(tag_name='5th-grade'),\n",
       " Row(tag_name='a-e-book'),\n",
       " Row(tag_name='a-shade-of-vampire'),\n",
       " Row(tag_name='a-year-of-reading-the-world'),\n",
       " Row(tag_name='acceptable-fiction'),\n",
       " Row(tag_name='acheron'),\n",
       " Row(tag_name='adam-brown'),\n",
       " Row(tag_name='adult-plays'),\n",
       " Row(tag_name='age-15'),\n",
       " Row(tag_name='anime'),\n",
       " Row(tag_name='annie-dillard'),\n",
       " Row(tag_name='archer-k-a'),\n",
       " Row(tag_name='art'),\n",
       " Row(tag_name='art---architecture'),\n",
       " Row(tag_name='astrid-lindgren'),\n",
       " Row(tag_name='athletes-dancers-etc'),\n",
       " Row(tag_name='audio-book-read'),\n",
       " Row(tag_name='audio-to-listen'),\n",
       " Row(tag_name='benjamin-hoff'),\n",
       " Row(tag_name='bible-translations'),\n",
       " Row(tag_name='biker-mc'),\n",
       " Row(tag_name='bill-willingham'),\n",
       " Row(tag_name='bonobos'),\n",
       " Row(tag_name='books-to-collect'),\n",
       " Row(tag_name='bookshelf'),\n",
       " Row(tag_name='brands'),\n",
       " Row(tag_name='brit-lit'),\n",
       " Row(tag_name='caldecott-winner'),\n",
       " Row(tag_name='carnegie'),\n",
       " Row(tag_name='catch-me'),\n",
       " Row(tag_name='challange-2015'),\n",
       " Row(tag_name='char-gideon-crew'),\n",
       " Row(tag_name='cheyenne'),\n",
       " Row(tag_name='children-s-to-read'),\n",
       " Row(tag_name='christian-fiction-suspense'),\n",
       " Row(tag_name='christian-nonfiction'),\n",
       " Row(tag_name='christian-theology'),\n",
       " Row(tag_name='christian-titles'),\n",
       " Row(tag_name='clean-fiction'),\n",
       " Row(tag_name='cooking-science'),\n",
       " Row(tag_name='cory-doctorow'),\n",
       " Row(tag_name='creativity'),\n",
       " Row(tag_name='didactic'),\n",
       " Row(tag_name='disability-studies'),\n",
       " Row(tag_name='domestic-goddess'),\n",
       " Row(tag_name='dream-hunter'),\n",
       " Row(tag_name='dune-saga'),\n",
       " Row(tag_name='dystopian-post-apocalyptic'),\n",
       " Row(tag_name='elemental-assasin'),\n",
       " Row(tag_name='elizabeth-chandler'),\n",
       " Row(tag_name='emma-roberts-reading-list'),\n",
       " Row(tag_name='fantasy-ya'),\n",
       " Row(tag_name='felix-castor'),\n",
       " Row(tag_name='filipino-lit'),\n",
       " Row(tag_name='film-only'),\n",
       " Row(tag_name='five-little-monkeys'),\n",
       " Row(tag_name='fivestar'),\n",
       " Row(tag_name='for-writers'),\n",
       " Row(tag_name='französische-literatur'),\n",
       " Row(tag_name='freaks'),\n",
       " Row(tag_name='full-day-library'),\n",
       " Row(tag_name='funplunge'),\n",
       " Row(tag_name='gender-sexuality'),\n",
       " Row(tag_name='gilded-age'),\n",
       " Row(tag_name='goosbumps'),\n",
       " Row(tag_name='grant-naylor'),\n",
       " Row(tag_name='great-characters'),\n",
       " Row(tag_name='guernsey'),\n",
       " Row(tag_name='guiltypleasures'),\n",
       " Row(tag_name='hate-love'),\n",
       " Row(tag_name='have-but-not-yet'),\n",
       " Row(tag_name='hci'),\n",
       " Row(tag_name='hellsing'),\n",
       " Row(tag_name='hope'),\n",
       " Row(tag_name='horror-fiction'),\n",
       " Row(tag_name='human-anatomy'),\n",
       " Row(tag_name='in-l'),\n",
       " Row(tag_name='indigenous'),\n",
       " Row(tag_name='inner'),\n",
       " Row(tag_name='interaction'),\n",
       " Row(tag_name='iris-johanson'),\n",
       " Row(tag_name='jane-werner-watson'),\n",
       " Row(tag_name='january-2016'),\n",
       " Row(tag_name='jessica-darling'),\n",
       " Row(tag_name='joseph-boyden'),\n",
       " Row(tag_name='kapow'),\n",
       " Row(tag_name='kid-s-books'),\n",
       " Row(tag_name='kids-ya'),\n",
       " Row(tag_name='knowledge-management'),\n",
       " Row(tag_name='lamott'),\n",
       " Row(tag_name='late-antiquity'),\n",
       " Row(tag_name='law-enforcement'),\n",
       " Row(tag_name='letteratura-americana'),\n",
       " Row(tag_name='librarian'),\n",
       " Row(tag_name='library-science'),\n",
       " Row(tag_name='lifeguards'),\n",
       " Row(tag_name='literature-poetry'),\n",
       " Row(tag_name='male-lead'),\n",
       " Row(tag_name='marxism'),\n",
       " Row(tag_name='maryjanice'),\n",
       " Row(tag_name='mccarthyism'),\n",
       " Row(tag_name='mccourt'),\n",
       " Row(tag_name='medieval-lit'),\n",
       " Row(tag_name='most-anticipated-2015'),\n",
       " Row(tag_name='murder-investigation-fiction'),\n",
       " Row(tag_name='native-america'),\n",
       " Row(tag_name='newbery-award-books'),\n",
       " Row(tag_name='not-reviewed'),\n",
       " Row(tag_name='old-tbr'),\n",
       " Row(tag_name='one-room-school'),\n",
       " Row(tag_name='one-singular-sensation'),\n",
       " Row(tag_name='online'),\n",
       " Row(tag_name='own-but-unread'),\n",
       " Row(tag_name='owned-in-library'),\n",
       " Row(tag_name='painters'),\n",
       " Row(tag_name='paramedics'),\n",
       " Row(tag_name='patton'),\n",
       " Row(tag_name='phillip-marlowe'),\n",
       " Row(tag_name='philosophy-psychology'),\n",
       " Row(tag_name='poetry'),\n",
       " Row(tag_name='priority'),\n",
       " Row(tag_name='public-health'),\n",
       " Row(tag_name='rachel-renèe-russell'),\n",
       " Row(tag_name='random-childhood'),\n",
       " Row(tag_name='read-in-high-school'),\n",
       " Row(tag_name='read-in-sixth-grade'),\n",
       " Row(tag_name='read-nf-books'),\n",
       " Row(tag_name='sadomasochism'),\n",
       " Row(tag_name='sagar'),\n",
       " Row(tag_name='sales-books'),\n",
       " Row(tag_name='set-aside-for-now'),\n",
       " Row(tag_name='sf-space-opera'),\n",
       " Row(tag_name='sff-to-read'),\n",
       " Row(tag_name='shelfie-eligible-books'),\n",
       " Row(tag_name='short-story-collection'),\n",
       " Row(tag_name='sophocles'),\n",
       " Row(tag_name='spellmans'),\n",
       " Row(tag_name='started-but-not-finished'),\n",
       " Row(tag_name='stephen-king'),\n",
       " Row(tag_name='storybundle'),\n",
       " Row(tag_name='séries'),\n",
       " Row(tag_name='tatiana-de-rosnay'),\n",
       " Row(tag_name='the-future'),\n",
       " Row(tag_name='the-penderwicks'),\n",
       " Row(tag_name='the-wheel-of-time-series'),\n",
       " Row(tag_name='to-read-bio'),\n",
       " Row(tag_name='tomie-depaola'),\n",
       " Row(tag_name='tr-nf-sports'),\n",
       " Row(tag_name='trail'),\n",
       " Row(tag_name='travel'),\n",
       " Row(tag_name='traveling'),\n",
       " Row(tag_name='tvandmovies'),\n",
       " Row(tag_name='uncategorized'),\n",
       " Row(tag_name='università'),\n",
       " Row(tag_name='viktorijine-knjige'),\n",
       " Row(tag_name='virals-series'),\n",
       " Row(tag_name='vladimir-nabokov'),\n",
       " Row(tag_name='wayne-dyer'),\n",
       " Row(tag_name='when-i-was-young'),\n",
       " Row(tag_name='wild-cards'),\n",
       " Row(tag_name='wild-ones'),\n",
       " Row(tag_name='wmc'),\n",
       " Row(tag_name='work-reading'),\n",
       " Row(tag_name='ya-kids'),\n",
       " Row(tag_name='ya-romance'),\n",
       " Row(tag_name='إيم'),\n",
       " Row(tag_name='رمان-تاریخی'),\n",
       " Row(tag_name='مجموعات-قصصية'),\n",
       " Row(tag_name='1001-books-to-read'),\n",
       " Row(tag_name='2005-reads'),\n",
       " Row(tag_name='2017-goal'),\n",
       " Row(tag_name='2017-movies'),\n",
       " Row(tag_name='3-fiction'),\n",
       " Row(tag_name='32-books-that-will-actually-change'),\n",
       " Row(tag_name='800'),\n",
       " Row(tag_name='8th-grade-semester-2'),\n",
       " Row(tag_name='a-d'),\n",
       " Row(tag_name='abenteuer'),\n",
       " Row(tag_name='absurd'),\n",
       " Row(tag_name='actresses'),\n",
       " Row(tag_name='adult-literature'),\n",
       " Row(tag_name='african-lit'),\n",
       " Row(tag_name='agent-pendergast-series'),\n",
       " Row(tag_name='alan-richardson'),\n",
       " Row(tag_name='ally-condie'),\n",
       " Row(tag_name='and-believing-in-the-possible'),\n",
       " Row(tag_name='anita-blake-vampire-hunter-series'),\n",
       " Row(tag_name='anna-carey'),\n",
       " Row(tag_name='assassination-of-president'),\n",
       " Row(tag_name='best-kept-secret'),\n",
       " Row(tag_name='beverages'),\n",
       " Row(tag_name='biography-to-read'),\n",
       " Row(tag_name='body-psych'),\n",
       " Row(tag_name='bone'),\n",
       " Row(tag_name='book-club-read'),\n",
       " Row(tag_name='books-that-made-way-to-cinema'),\n",
       " Row(tag_name='books-to-read-in-your-twenties'),\n",
       " Row(tag_name='boys-over-flowers'),\n",
       " Row(tag_name='built-to-last'),\n",
       " Row(tag_name='bulimia'),\n",
       " Row(tag_name='business-read'),\n",
       " Row(tag_name='calibre-library'),\n",
       " Row(tag_name='calvin'),\n",
       " Row(tag_name='carrie-fisher'),\n",
       " Row(tag_name='cassandra-clare-books'),\n",
       " Row(tag_name='cellar-box-34'),\n",
       " Row(tag_name='chick-books'),\n",
       " Row(tag_name='child-young-adult'),\n",
       " Row(tag_name='childhood-favourites'),\n",
       " Row(tag_name='children-nonfiction'),\n",
       " Row(tag_name='children-s-lit-350'),\n",
       " Row(tag_name='chinese-cinderella'),\n",
       " Row(tag_name='classic-mystery'),\n",
       " Row(tag_name='clifford-the-big-red-dog'),\n",
       " Row(tag_name='comics-graphic'),\n",
       " Row(tag_name='cook-books'),\n",
       " Row(tag_name='coretta-scott-king-winner'),\n",
       " Row(tag_name='could-not-finish'),\n",
       " Row(tag_name='cousin-o-dwyers-trilogy'),\n",
       " Row(tag_name='creativity-writing'),\n",
       " Row(tag_name='crocodiles'),\n",
       " Row(tag_name='d-i-d'),\n",
       " Row(tag_name='d-j-molles'),\n",
       " Row(tag_name='dan-wells'),\n",
       " Row(tag_name='danielle-steele'),\n",
       " Row(tag_name='dark-divine-series'),\n",
       " Row(tag_name='dc-supers'),\n",
       " Row(tag_name='diary-of-a-wimpy-kid-dog-days'),\n",
       " Row(tag_name='dominican-republic'),\n",
       " Row(tag_name='dystopian-sci-fi'),\n",
       " Row(tag_name='edge-of-eternity'),\n",
       " Row(tag_name='epub-list'),\n",
       " Row(tag_name='ex-heroes'),\n",
       " Row(tag_name='fan-fiction'),\n",
       " Row(tag_name='fatma'),\n",
       " Row(tag_name='favorite-children-s-books'),\n",
       " Row(tag_name='filosófia'),\n",
       " Row(tag_name='finland'),\n",
       " Row(tag_name='full-moon-o-sagashite'),\n",
       " Row(tag_name='gelezen-in-2017'),\n",
       " Row(tag_name='graham-greene'),\n",
       " Row(tag_name='graphic-novels-picture-books'),\n",
       " Row(tag_name='grisham'),\n",
       " Row(tag_name='hardy'),\n",
       " Row(tag_name='have-list'),\n",
       " Row(tag_name='hugo-novels'),\n",
       " Row(tag_name='humorous-mystery'),\n",
       " Row(tag_name='jane-jameson'),\n",
       " Row(tag_name='japan-lit'),\n",
       " Row(tag_name='jennifer-chiaverini'),\n",
       " Row(tag_name='katherine-swynford'),\n",
       " Row(tag_name='kathryn-dance'),\n",
       " Row(tag_name='kelly-corrigan'),\n",
       " Row(tag_name='kiwi'),\n",
       " Row(tag_name='lacey-weatherford'),\n",
       " Row(tag_name='left-unfinished'),\n",
       " Row(tag_name='libreria'),\n",
       " Row(tag_name='lincoln-child'),\n",
       " Row(tag_name='lisi-harrison'),\n",
       " Row(tag_name='literary-disco'),\n",
       " Row(tag_name='lovecraft-h-p'),\n",
       " Row(tag_name='lucy'),\n",
       " Row(tag_name='mafia'),\n",
       " Row(tag_name='man-booker-2016'),\n",
       " Row(tag_name='manga-i-ve-read'),\n",
       " Row(tag_name='marriage-books'),\n",
       " Row(tag_name='mehta'),\n",
       " Row(tag_name='melanie-watt'),\n",
       " Row(tag_name='meluha'),\n",
       " Row(tag_name='metropolitan-opera'),\n",
       " Row(tag_name='milik-sendiri'),\n",
       " Row(tag_name='mj-arlidge'),\n",
       " Row(tag_name='national-book-award-winner'),\n",
       " Row(tag_name='necromancer'),\n",
       " Row(tag_name='need-to-buy'),\n",
       " Row(tag_name='neurosurgery'),\n",
       " Row(tag_name='nonfiction-language'),\n",
       " Row(tag_name='nookbooks'),\n",
       " Row(tag_name='not-my-thing'),\n",
       " Row(tag_name='occult'),\n",
       " Row(tag_name='on-the-nature-of-things'),\n",
       " Row(tag_name='operation'),\n",
       " Row(tag_name='p-cornwell'),\n",
       " Row(tag_name='personal-library-to-read'),\n",
       " Row(tag_name='peter-hedges'),\n",
       " Row(tag_name='pets-animals'),\n",
       " Row(tag_name='pharmaceuticals'),\n",
       " Row(tag_name='philology'),\n",
       " Row(tag_name='photograph'),\n",
       " Row(tag_name='physical-books'),\n",
       " Row(tag_name='play-script'),\n",
       " Row(tag_name='play-to-my-strengths'),\n",
       " Row(tag_name='poetry-american'),\n",
       " Row(tag_name='pop-psychology'),\n",
       " Row(tag_name='positive'),\n",
       " Row(tag_name='pregnancy-birth'),\n",
       " Row(tag_name='principle-centered-leadership'),\n",
       " Row(tag_name='qaeda'),\n",
       " Row(tag_name='ranger-s-apprentice'),\n",
       " Row(tag_name='ray-bradbury'),\n",
       " Row(tag_name='re-read-for-review'),\n",
       " Row(tag_name='rice-anne'),\n",
       " Row(tag_name='scandanavian-crime'),\n",
       " Row(tag_name='sci-fi-comedy'),\n",
       " Row(tag_name='scifi'),\n",
       " Row(tag_name='sebastian-barry'),\n",
       " Row(tag_name='selection-series'),\n",
       " Row(tag_name='self-help-motivational-read'),\n",
       " Row(tag_name='sequel'),\n",
       " Row(tag_name='serier'),\n",
       " Row(tag_name='series-richard-jury'),\n",
       " Row(tag_name='seuss-and-friends'),\n",
       " Row(tag_name='sibert-medal'),\n",
       " Row(tag_name='sigma'),\n",
       " Row(tag_name='smiley-jane'),\n",
       " Row(tag_name='sonya-sones'),\n",
       " Row(tag_name='sounder'),\n",
       " Row(tag_name='southern-humor'),\n",
       " Row(tag_name='superhero-novels'),\n",
       " Row(tag_name='ted-dekker'),\n",
       " Row(tag_name='teen-fantasy'),\n",
       " Row(tag_name='teen-pregnancy'),\n",
       " Row(tag_name='television'),\n",
       " Row(tag_name='the-joker'),\n",
       " Row(tag_name='the-library-of-ridge-and-michelle'),\n",
       " Row(tag_name='the-vampire-diaries-series'),\n",
       " Row(tag_name='the-zombie-room'),\n",
       " Row(tag_name='theme-yummy'),\n",
       " Row(tag_name='time-100-nonfiction'),\n",
       " Row(tag_name='to-read-asap'),\n",
       " Row(tag_name='to-read-hopefully-before-i-die'),\n",
       " Row(tag_name='to-read-professional'),\n",
       " Row(tag_name='ukrainian-literature'),\n",
       " Row(tag_name='weirdo'),\n",
       " Row(tag_name='white-rabbit-chronicles'),\n",
       " Row(tag_name='world-fantasy-award'),\n",
       " Row(tag_name='y-food-health'),\n",
       " Row(tag_name='ya-12'),\n",
       " Row(tag_name='Перечитка'),\n",
       " Row(tag_name='классика'),\n",
       " Row(tag_name='أدب-لاتيني'),\n",
       " Row(tag_name='إستعارة'),\n",
       " Row(tag_name='الشعر-والادب-العربي'),\n",
       " Row(tag_name='باولو-كويلهو'),\n",
       " Row(tag_name='تطوير-الذات'),\n",
       " Row(tag_name='روايات-فحسب'),\n",
       " Row(tag_name='روايات-مترجمه'),\n",
       " Row(tag_name='صلاح-جاهين'),\n",
       " Row(tag_name='كتب-ساخرة'),\n",
       " Row(tag_name='1001-books-to-read-before-i-die'),\n",
       " Row(tag_name='2016-book-club'),\n",
       " Row(tag_name='2017-shelf'),\n",
       " Row(tag_name='_non-series-04-06'),\n",
       " Row(tag_name='aar-top-100'),\n",
       " Row(tag_name='ages-0-2'),\n",
       " Row(tag_name='ahmed-khaled-toufiq'),\n",
       " Row(tag_name='ahmed-khaled-twfik'),\n",
       " Row(tag_name='aiw'),\n",
       " Row(tag_name='amitav-ghosh'),\n",
       " Row(tag_name='ancient-egypt-and-rome'),\n",
       " Row(tag_name='andrews-ilona'),\n",
       " Row(tag_name='ann-leary'),\n",
       " Row(tag_name='art-comics'),\n",
       " Row(tag_name='australia'),\n",
       " Row(tag_name='avengers'),\n",
       " Row(tag_name='beatles-books'),\n",
       " Row(tag_name='before-2014'),\n",
       " Row(tag_name='best-reading'),\n",
       " Row(tag_name='biker-boys'),\n",
       " Row(tag_name='blind-side'),\n",
       " Row(tag_name='bond-markets'),\n",
       " Row(tag_name='books-i-have-read-this-year'),\n",
       " Row(tag_name='brett'),\n",
       " Row(tag_name='canine-unit'),\n",
       " Row(tag_name='chemistry'),\n",
       " Row(tag_name='chennai'),\n",
       " Row(tag_name='childhood-treasures'),\n",
       " Row(tag_name='chocolat'),\n",
       " Row(tag_name='christopher-pike'),\n",
       " Row(tag_name='cia'),\n",
       " Row(tag_name='clive-barker'),\n",
       " Row(tag_name='comics-manga-graphic-novels'),\n",
       " Row(tag_name='conspiracy-fiction'),\n",
       " Row(tag_name='cook'),\n",
       " Row(tag_name='cousins'),\n",
       " Row(tag_name='d-baldacci'),\n",
       " Row(tag_name='disaster'),\n",
       " Row(tag_name='dnd'),\n",
       " Row(tag_name='doctrine'),\n",
       " Row(tag_name='dr-suess'),\n",
       " Row(tag_name='dumpster-baby'),\n",
       " Row(tag_name='earths-children'),\n",
       " Row(tag_name='eggers'),\n",
       " Row(tag_name='encyclopedia-brown'),\n",
       " Row(tag_name='erotica-romance'),\n",
       " Row(tag_name='fae-psychics-elementals'),\n",
       " Row(tag_name='fiction-literary'),\n",
       " Row(tag_name='fiction-literature'),\n",
       " Row(tag_name='film-studies'),\n",
       " Row(tag_name='genre_sort'),\n",
       " Row(tag_name='global-terrorism'),\n",
       " Row(tag_name='gothic-novels'),\n",
       " Row(tag_name='graphic-novels-and-trade-paperbacks'),\n",
       " Row(tag_name='greece'),\n",
       " Row(tag_name='greece-and-rome'),\n",
       " Row(tag_name='green-mile'),\n",
       " Row(tag_name='greenland'),\n",
       " Row(tag_name='growth'),\n",
       " Row(tag_name='halfblood-chronicles'),\n",
       " Row(tag_name='harry'),\n",
       " Row(tag_name='health-read'),\n",
       " Row(tag_name='hockey'),\n",
       " Row(tag_name='holocaust-lit'),\n",
       " Row(tag_name='hutu'),\n",
       " Row(tag_name='if-is-stay-collection'),\n",
       " Row(tag_name='illness-books'),\n",
       " Row(tag_name='impulse-series'),\n",
       " Row(tag_name='joe-haldeman'),\n",
       " Row(tag_name='joe-pike-elvis-cole'),\n",
       " Row(tag_name='jojo-moyés'),\n",
       " Row(tag_name='jostein-gaarder'),\n",
       " Row(tag_name='jsgoomer'),\n",
       " Row(tag_name='jude-devereaux'),\n",
       " Row(tag_name='julio-verne'),\n",
       " Row(tag_name='kazantzakis'),\n",
       " Row(tag_name='kenzie'),\n",
       " Row(tag_name='kitty-norville'),\n",
       " Row(tag_name='landover'),\n",
       " Row(tag_name='lies'),\n",
       " Row(tag_name='loozianne'),\n",
       " Row(tag_name='lords'),\n",
       " Row(tag_name='lyndon-johnson'),\n",
       " Row(tag_name='magic-users'),\n",
       " Row(tag_name='magnus-chase-and-the-gods-of-asgard'),\n",
       " Row(tag_name='manga-comic'),\n",
       " Row(tag_name='master-commander'),\n",
       " Row(tag_name='medical-books'),\n",
       " Row(tag_name='mickey-haller-series'),\n",
       " Row(tag_name='monkeys-infinite-booklist'),\n",
       " Row(tag_name='more-favs-but-less-all-time'),\n",
       " Row(tag_name='mughal'),\n",
       " Row(tag_name='my_library'),\n",
       " Row(tag_name='mystery-adventure-thrillers'),\n",
       " Row(tag_name='natural-health'),\n",
       " Row(tag_name='new-books-for-children'),\n",
       " Row(tag_name='new-york-city'),\n",
       " Row(tag_name='newton'),\n",
       " Row(tag_name='no-audio'),\n",
       " Row(tag_name='non-fiction-picture-books'),\n",
       " Row(tag_name='non-fiction-religion'),\n",
       " Row(tag_name='not-yet-released'),\n",
       " Row(tag_name='novel-metropop'),\n",
       " Row(tag_name='o-malley'),\n",
       " Row(tag_name='own-physical-copy'),\n",
       " Row(tag_name='paige-laurelin'),\n",
       " Row(tag_name='patterson--james'),\n",
       " Row(tag_name='paused-and-not-intending-to-resume'),\n",
       " Row(tag_name='physical-book'),\n",
       " Row(tag_name='plane'),\n",
       " Row(tag_name='plot-disaster'),\n",
       " Row(tag_name='poststructuralism'),\n",
       " Row(tag_name='powerpoint'),\n",
       " Row(tag_name='princess-elizabeth'),\n",
       " Row(tag_name='read-6-10-times'),\n",
       " Row(tag_name='read-series'),\n",
       " Row(tag_name='readsoullit'),\n",
       " Row(tag_name='reality-fiction'),\n",
       " Row(tag_name='renee-knight'),\n",
       " Row(tag_name='retriever'),\n",
       " Row(tag_name='rishel'),\n",
       " Row(tag_name='romantic-comedy'),\n",
       " Row(tag_name='royally-sucked'),\n",
       " Row(tag_name='science-and-math'),\n",
       " Row(tag_name='science-content'),\n",
       " Row(tag_name='scott-kat'),\n",
       " Row(tag_name='self-help-business'),\n",
       " Row(tag_name='self-injury'),\n",
       " Row(tag_name='senatorial'),\n",
       " Row(tag_name='series-halo'),\n",
       " Row(tag_name='sociology-psychology'),\n",
       " Row(tag_name='srividya'),\n",
       " Row(tag_name='susan-beth-pfeffer'),\n",
       " Row(tag_name='tedd-arnold'),\n",
       " Row(tag_name='terrorists'),\n",
       " Row(tag_name='the-gruffalo'),\n",
       " Row(tag_name='thuis'),\n",
       " Row(tag_name='to-read-book'),\n",
       " Row(tag_name='to-read-to-kids'),\n",
       " Row(tag_name='typical-romance-but-good'),\n",
       " Row(tag_name='urban-planning'),\n",
       " Row(tag_name='vegetables'),\n",
       " Row(tag_name='warren-buffets-list'),\n",
       " Row(tag_name='watch'),\n",
       " Row(tag_name='work-stuff'),\n",
       " Row(tag_name='worldview'),\n",
       " Row(tag_name='ya-graphic-novels'),\n",
       " Row(tag_name='zzz-to-read-retell-adapt-etc'),\n",
       " Row(tag_name='المزبلة'),\n",
       " Row(tag_name='حول-العالم-في-200-يوم'),\n",
       " Row(tag_name='رباعيات-صلاح-جاهين'),\n",
       " Row(tag_name='محمد-السالم'),\n",
       " Row(tag_name='نور-عبد-المجيد'),\n",
       " Row(tag_name='2014-reads'),\n",
       " Row(tag_name='7'),\n",
       " Row(tag_name='a-g-riddle'),\n",
       " Row(tag_name='a-girl-detective'),\n",
       " Row(tag_name='a-year-of-books'),\n",
       " Row(tag_name='adolescencia'),\n",
       " Row(tag_name='adult-non-fiction'),\n",
       " Row(tag_name='ali-novak'),\n",
       " Row(tag_name='amy-efaw'),\n",
       " Row(tag_name='animal-welfare'),\n",
       " Row(tag_name='anorexia'),\n",
       " Row(tag_name='anti'),\n",
       " Row(tag_name='anti-corporatism'),\n",
       " Row(tag_name='ap-lit'),\n",
       " Row(tag_name='arte-fumetto-graphic-novel_'),\n",
       " Row(tag_name='arthur-conan-doyle'),\n",
       " Row(tag_name='aussortiert'),\n",
       " Row(tag_name='billgates'),\n",
       " Row(tag_name='billy-s'),\n",
       " Row(tag_name='biographies-memoirs\\u200e'),\n",
       " Row(tag_name='biography'),\n",
       " Row(tag_name='book-project'),\n",
       " Row(tag_name='books-about-book-clubs'),\n",
       " Row(tag_name='books-for-me'),\n",
       " Row(tag_name='books-i-read-as-a-kid'),\n",
       " Row(tag_name='brigham-young'),\n",
       " Row(tag_name='chance-karen'),\n",
       " Row(tag_name='character'),\n",
       " Row(tag_name='child-raising'),\n",
       " Row(tag_name='children-book'),\n",
       " Row(tag_name='children-s-books'),\n",
       " Row(tag_name='choice-awards-2012'),\n",
       " Row(tag_name='christian-inspiration'),\n",
       " Row(tag_name='christian-walk'),\n",
       " Row(tag_name='classical-music'),\n",
       " Row(tag_name='cliffhangers'),\n",
       " Row(tag_name='comics-manga-and-graphic-novels'),\n",
       " Row(tag_name='complete-the-series'),\n",
       " Row(tag_name='cookbooks-to-own'),\n",
       " Row(tag_name='cornwell-p'),\n",
       " Row(tag_name='countries'),\n",
       " Row(tag_name='cultural-canada'),\n",
       " Row(tag_name='dark-elements'),\n",
       " Row(tag_name='darren-shan-series'),\n",
       " Row(tag_name='dc-stuff'),\n",
       " Row(tag_name='donny-dhirgantoro'),\n",
       " Row(tag_name='e-jerome-dickey'),\n",
       " Row(tag_name='egyptian-literature'),\n",
       " Row(tag_name='emily-dickinson'),\n",
       " Row(tag_name='en'),\n",
       " Row(tag_name='enders-game'),\n",
       " Row(tag_name='eragon'),\n",
       " Row(tag_name='faith-spiritual-matters'),\n",
       " Row(tag_name='farm'),\n",
       " Row(tag_name='farseer'),\n",
       " Row(tag_name='favorite-sci-fi'),\n",
       " Row(tag_name='favorites-4-5-stars'),\n",
       " Row(tag_name='fic'),\n",
       " Row(tag_name='fiction-older-than-2008'),\n",
       " Row(tag_name='film'),\n",
       " Row(tag_name='flowers'),\n",
       " Row(tag_name='food-and-drink-cookbooks'),\n",
       " Row(tag_name='funny-mystery'),\n",
       " Row(tag_name='girls-in-love'),\n",
       " Row(tag_name='gn-manga'),\n",
       " Row(tag_name='good-fiction'),\n",
       " Row(tag_name='great-ideas'),\n",
       " Row(tag_name='grimm-s-fairy-tales'),\n",
       " Row(tag_name='gymnastics'),\n",
       " Row(tag_name='h-p-mallory'),\n",
       " Row(tag_name='harbison'),\n",
       " Row(tag_name='hugo-awards-2017'),\n",
       " Row(tag_name='in-libreria'),\n",
       " Row(tag_name='interstellar'),\n",
       " Row(tag_name='israeli-secret-service'),\n",
       " Row(tag_name='jason-bourne'),\n",
       " Row(tag_name='jeff-s-books'),\n",
       " Row(tag_name='kent-family'),\n",
       " Row(tag_name='kinley-bookshelf'),\n",
       " Row(tag_name='laurence-rees'),\n",
       " Row(tag_name='law-related'),\n",
       " Row(tag_name='lawyers-in-love'),\n",
       " Row(tag_name='le-carre-john'),\n",
       " Row(tag_name='lektury'),\n",
       " Row(tag_name='lgbt-lit'),\n",
       " Row(tag_name='lillian-jackson-braun'),\n",
       " Row(tag_name='literatura-polska'),\n",
       " Row(tag_name='littérature-russe'),\n",
       " Row(tag_name='local-authors'),\n",
       " Row(tag_name='m-pierce'),\n",
       " Row(tag_name='manga-favorites'),\n",
       " Row(tag_name='marriage-issues'),\n",
       " Row(tag_name='maximum-ride-books'),\n",
       " Row(tag_name='maybe-later'),\n",
       " Row(tag_name='mba-books'),\n",
       " Row(tag_name='meteorology'),\n",
       " Row(tag_name='mideast'),\n",
       " Row(tag_name='military-history-fiction'),\n",
       " Row(tag_name='multiple-personality'),\n",
       " Row(tag_name='music-related'),\n",
       " Row(tag_name='mystery-read'),\n",
       " Row(tag_name='need-for-collection'),\n",
       " Row(tag_name='nev'),\n",
       " Row(tag_name='nicky-charles'),\n",
       " Row(tag_name='no-ficcion'),\n",
       " Row(tag_name='nomnom'),\n",
       " Row(tag_name='non-fiction-other'),\n",
       " Row(tag_name='not-finished-yet'),\n",
       " Row(tag_name='not-the-lower-48'),\n",
       " Row(tag_name='oakland'),\n",
       " Row(tag_name='on-library-list'),\n",
       " Row(tag_name='ook-voorgelezen-kringboek'),\n",
       " Row(tag_name='other-nonfiction'),\n",
       " Row(tag_name='own-voices'),\n",
       " Row(tag_name='parks'),\n",
       " Row(tag_name='partition-1947'),\n",
       " Row(tag_name='past-life-regression'),\n",
       " Row(tag_name='patterson-nypd'),\n",
       " Row(tag_name='pc-cast'),\n",
       " Row(tag_name='perspective'),\n",
       " Row(tag_name='peter-pan'),\n",
       " Row(tag_name='philip-k-dick'),\n",
       " Row(tag_name='picture-books'),\n",
       " Row(tag_name='portugal'),\n",
       " Row(tag_name='posthumous'),\n",
       " Row(tag_name='pregnancy-birth-parenting'),\n",
       " Row(tag_name='providence'),\n",
       " Row(tag_name='read-more-than-once'),\n",
       " Row(tag_name='reading-challenge-2015'),\n",
       " Row(tag_name='real-life-adventure'),\n",
       " Row(tag_name='recommended-unpurchased'),\n",
       " Row(tag_name='roadside'),\n",
       " Row(tag_name='romantic'),\n",
       " Row(tag_name='russell-gary'),\n",
       " Row(tag_name='sandman'),\n",
       " Row(tag_name='saratoga'),\n",
       " Row(tag_name='saturday-night-live'),\n",
       " Row(tag_name='saw-movie'),\n",
       " Row(tag_name='science-and-engineering'),\n",
       " Row(tag_name='scifi-to-read'),\n",
       " Row(tag_name='self_help'),\n",
       " Row(tag_name='sex-and-gender'),\n",
       " Row(tag_name='slow'),\n",
       " Row(tag_name='southie'),\n",
       " Row(tag_name='space-opéra'),\n",
       " Row(tag_name='sports-football'),\n",
       " Row(tag_name='star-wars-to-read'),\n",
       " Row(tag_name='still-to-buy'),\n",
       " Row(tag_name='stories-books-to-contemplate'),\n",
       " Row(tag_name='suicide'),\n",
       " Row(tag_name='summer-reading-2012'),\n",
       " Row(tag_name='summer-reads'),\n",
       " Row(tag_name='surf'),\n",
       " Row(tag_name='teacher-books'),\n",
       " Row(tag_name='the-lorien-legacies'),\n",
       " Row(tag_name='the-phantom-of-the-opera'),\n",
       " Row(tag_name='tite-kubo'),\n",
       " Row(tag_name='to-read-dont-own'),\n",
       " Row(tag_name='to-read-owned-ebooks'),\n",
       " Row(tag_name='trenton-read'),\n",
       " Row(tag_name='tri'),\n",
       " Row(tag_name='twlight'),\n",
       " Row(tag_name='u-s'),\n",
       " Row(tag_name='undoc1streads'),\n",
       " Row(tag_name='university-reads'),\n",
       " Row(tag_name='valley'),\n",
       " Row(tag_name='wishlist-indonesian'),\n",
       " Row(tag_name='wolfe'),\n",
       " Row(tag_name='الاسود'),\n",
       " Row(tag_name='بوكر'),\n",
       " Row(tag_name='دكتور-مصطفى-محمود'),\n",
       " Row(tag_name='شعر-بالعامية'),\n",
       " Row(tag_name='كتب-لازم-اشتريها'),\n",
       " Row(tag_name='مجموعة_قصصية'),\n",
       " Row(tag_name='مجموعه-شعر'),\n",
       " Row(tag_name='کودک-و-نوجوان'),\n",
       " Row(tag_name='2013-release'),\n",
       " Row(tag_name='2014-2015-school-year'),\n",
       " Row(tag_name='2016-hub-reading-challenge'),\n",
       " Row(tag_name='2nd-chance'),\n",
       " Row(tag_name='300-400-pages'),\n",
       " Row(tag_name='7-9-'),\n",
       " Row(tag_name='academy'),\n",
       " Row(tag_name='ah-library'),\n",
       " Row(tag_name='al-capone'),\n",
       " Row(tag_name='alan-lightman'),\n",
       " Row(tag_name='amazing-grace'),\n",
       " Row(tag_name='american-foreign-policy'),\n",
       " Row(tag_name='ami-mckay'),\n",
       " Row(tag_name='an-ongoing-project'),\n",
       " Row(tag_name='andré-agassi'),\n",
       " Row(tag_name='anne-bronte'),\n",
       " Row(tag_name='art-draw-paint'),\n",
       " Row(tag_name='asian-american-authors'),\n",
       " Row(tag_name='audiobook'),\n",
       " Row(tag_name='autographed-book'),\n",
       " Row(tag_name='billionaires'),\n",
       " Row(tag_name='books-in-a-series'),\n",
       " Row(tag_name='books-own-not-yet-read'),\n",
       " Row(tag_name='books-that-became-movies'),\n",
       " Row(tag_name='booktopia-2014'),\n",
       " Row(tag_name='brad'),\n",
       " Row(tag_name='butterflies'),\n",
       " Row(tag_name='che'),\n",
       " Row(tag_name='childrens-read'),\n",
       " Row(tag_name='coaches'),\n",
       " Row(tag_name='cookbook-i-own'),\n",
       " Row(tag_name='cookbooks-to-buy'),\n",
       " Row(tag_name='cressida-cowell'),\n",
       " Row(tag_name='culper-ring'),\n",
       " Row(tag_name='cultuur'),\n",
       " Row(tag_name='darth-paper'),\n",
       " Row(tag_name='deborah-rodeigues'),\n",
       " Row(tag_name='don-t-have'),\n",
       " Row(tag_name='dowling'),\n",
       " Row(tag_name='dragon-fantasy'),\n",
       " Row(tag_name='east-central-europe'),\n",
       " Row(tag_name='elizabeth-haydon'),\n",
       " Row(tag_name='english-language'),\n",
       " Row(tag_name='environmental-history'),\n",
       " Row(tag_name='espanha'),\n",
       " Row(tag_name='evil'),\n",
       " Row(tag_name='faith-builder'),\n",
       " Row(tag_name='fantasy-and-sci-fi'),\n",
       " Row(tag_name='fantasy-fiction'),\n",
       " Row(tag_name='fav-sf-opera'),\n",
       " Row(tag_name='favorite-books-of-childhood'),\n",
       " Row(tag_name='fiction-canadian'),\n",
       " Row(tag_name='finding-me'),\n",
       " Row(tag_name='first-week-of-school'),\n",
       " Row(tag_name='forgotten-relms'),\n",
       " Row(tag_name='formic-wars'),\n",
       " Row(tag_name='futurology'),\n",
       " Row(tag_name='g-horror'),\n",
       " Row(tag_name='goldy'),\n",
       " Row(tag_name='gossip-girl-series'),\n",
       " Row(tag_name='grade-2-4'),\n",
       " Row(tag_name='great-graphic-novels'),\n",
       " Row(tag_name='grit-lit'),\n",
       " Row(tag_name='hard-back'),\n",
       " Row(tag_name='heap'),\n",
       " Row(tag_name='hearn-lian'),\n",
       " Row(tag_name='hegel'),\n",
       " Row(tag_name='henry-s-book-shelf'),\n",
       " Row(tag_name='higher-existence'),\n",
       " Row(tag_name='holmes'),\n",
       " Row(tag_name='honor-harrington-series'),\n",
       " Row(tag_name='howard-pyle'),\n",
       " Row(tag_name='i-dont-know-anymore'),\n",
       " Row(tag_name='indian-wars'),\n",
       " Row(tag_name='inspired-list'),\n",
       " Row(tag_name='iranian-americans'),\n",
       " Row(tag_name='israel'),\n",
       " Row(tag_name='jeffco'),\n",
       " Row(tag_name='katherine-allred'),\n",
       " Row(tag_name='kid-lawyer'),\n",
       " Row(tag_name='killer'),\n",
       " Row(tag_name='kindergarten-library'),\n",
       " Row(tag_name='laureate'),\n",
       " Row(tag_name='lendable-kindle'),\n",
       " Row(tag_name='lili-s-lifetime-reads'),\n",
       " Row(tag_name='making-connections'),\n",
       " Row(tag_name='manga-to-buy'),\n",
       " Row(tag_name='margaret-mitchell'),\n",
       " Row(tag_name='meg'),\n",
       " Row(tag_name='mj'),\n",
       " Row(tag_name='motorcycle'),\n",
       " Row(tag_name='mystery-agatha-christie'),\n",
       " Row(tag_name='native-lit'),\n",
       " Row(tag_name='naval-fiction'),\n",
       " Row(tag_name='need-released'),\n",
       " Row(tag_name='nelson-de-mille'),\n",
       " Row(tag_name='nls-bard'),\n",
       " Row(tag_name='nora-roberts-series'),\n",
       " Row(tag_name='old-man-s-war-series'),\n",
       " Row(tag_name='olivia-s-books'),\n",
       " Row(tag_name='on-art'),\n",
       " Row(tag_name='oorlog'),\n",
       " Row(tag_name='orthodoxy'),\n",
       " Row(tag_name='owns-physical-copy'),\n",
       " Row(tag_name='paranormal-witches'),\n",
       " Row(tag_name='pendientes-releer'),\n",
       " Row(tag_name='philosophy-self-help-psychology'),\n",
       " Row(tag_name='pi'),\n",
       " Row(tag_name='play-by-play'),\n",
       " Row(tag_name='plays-poetry'),\n",
       " Row(tag_name='poems-prose-and-essays-to-be-read'),\n",
       " Row(tag_name='pramoedya-ananta-toer'),\n",
       " Row(tag_name='pre-k'),\n",
       " Row(tag_name='presidential-election'),\n",
       " Row(tag_name='prof-dev'),\n",
       " Row(tag_name='ready'),\n",
       " Row(tag_name='religious-text'),\n",
       " Row(tag_name='robb-j-d'),\n",
       " Row(tag_name='robertson'),\n",
       " Row(tag_name='rory-gilmore'),\n",
       " Row(tag_name='scandinavian-mysteries'),\n",
       " Row(tag_name='scarred-hero'),\n",
       " Row(tag_name='scary'),\n",
       " Row(tag_name='school-assigned'),\n",
       " Row(tag_name='school-programme'),\n",
       " Row(tag_name='scify'),\n",
       " Row(tag_name='seema'),\n",
       " Row(tag_name='seventh-grade'),\n",
       " Row(tag_name='showalter-gena'),\n",
       " Row(tag_name='sister-s-grimm'),\n",
       " Row(tag_name='ss'),\n",
       " Row(tag_name='sword-laser'),\n",
       " Row(tag_name='the-best-books'),\n",
       " Row(tag_name='the-burg-series'),\n",
       " Row(tag_name='the-cinder-spires'),\n",
       " Row(tag_name='the-lion-king'),\n",
       " Row(tag_name='the-miraculous-journey-of-edward-tu'),\n",
       " Row(tag_name='theory-and-criticism'),\n",
       " Row(tag_name='tibetan-buddhism'),\n",
       " Row(tag_name='to-read-contemporary'),\n",
       " Row(tag_name='to-shelve'),\n",
       " Row(tag_name='tolkien-lewis'),\n",
       " Row(tag_name='top-recommendations'),\n",
       " Row(tag_name='traffic'),\n",
       " Row(tag_name='trauma'),\n",
       " Row(tag_name='turow'),\n",
       " Row(tag_name='uk-ireland'),\n",
       " Row(tag_name='ukraine'),\n",
       " Row(tag_name='us-navy'),\n",
       " Row(tag_name='van'),\n",
       " Row(tag_name='wall'),\n",
       " Row(tag_name='web-2-0'),\n",
       " Row(tag_name='wolverine'),\n",
       " Row(tag_name='zeeke'),\n",
       " Row(tag_name='أدب-رعب'),\n",
       " Row(tag_name='اعلى-خمسة'),\n",
       " Row(tag_name='كخة-يابابا'),\n",
       " Row(tag_name='للمضغ-السريع'),\n",
       " Row(tag_name='1987'),\n",
       " Row(tag_name='9-12-and-teen'),\n",
       " Row(tag_name='a-song-of-fire-and-ice'),\n",
       " Row(tag_name='abandoned-oil-rigs'),\n",
       " Row(tag_name='advisory-2011-2012'),\n",
       " Row(tag_name='ag-young-adult'),\n",
       " Row(tag_name='andy-brazil'),\n",
       " Row(tag_name='angstrom-'),\n",
       " Row(tag_name='ann-mccaffrey'),\n",
       " Row(tag_name='argentine'),\n",
       " Row(tag_name='art-history-fiction'),\n",
       " Row(tag_name='artes'),\n",
       " Row(tag_name='bibel'),\n",
       " Row(tag_name='bibles-adult'),\n",
       " Row(tag_name='big-nate-on-a-roll'),\n",
       " Row(tag_name='biographies-of-women'),\n",
       " Row(tag_name='bob-ong-1'),\n",
       " Row(tag_name='book-clubs'),\n",
       " Row(tag_name='books-for-teaching'),\n",
       " Row(tag_name='books-read-for-school'),\n",
       " Row(tag_name='books-read-in-2009'),\n",
       " Row(tag_name='burpo-todd'),\n",
       " Row(tag_name='canadian-history'),\n",
       " Row(tag_name='category-romance'),\n",
       " Row(tag_name='cc'),\n",
       " Row(tag_name='child-rearing'),\n",
       " Row(tag_name='children-and-young-adult'),\n",
       " Row(tag_name='children-ya'),\n",
       " Row(tag_name='christina-schwarz'),\n",
       " Row(tag_name='chronicles-of-ancient-darkness'),\n",
       " Row(tag_name='classicos'),\n",
       " Row(tag_name='cognitive-science'),\n",
       " Row(tag_name='comicmanga'),\n",
       " Row(tag_name='contempor\\u200bary'),\n",
       " Row(tag_name='cookbook-baking'),\n",
       " Row(tag_name='cowhands'),\n",
       " Row(tag_name='crowdsourcing'),\n",
       " Row(tag_name='diary-of-a-wimpy-kid-hard-luck'),\n",
       " Row(tag_name='dnr-cheat-openrel-marriesother-all'),\n",
       " Row(tag_name='done-read'),\n",
       " Row(tag_name='donnelly'),\n",
       " Row(tag_name='drama-humane'),\n",
       " Row(tag_name='ellroy'),\n",
       " Row(tag_name='ember'),\n",
       " Row(tag_name='emily-snow'),\n",
       " Row(tag_name='esoterismo'),\n",
       " Row(tag_name='fables-folktales'),\n",
       " Row(tag_name='fairy-and-folk-tales'),\n",
       " Row(tag_name='faith-in-god'),\n",
       " Row(tag_name='fantasy-alternative-world'),\n",
       " Row(tag_name='fantasy-supernatural'),\n",
       " Row(tag_name='fathers-amp-sons'),\n",
       " Row(tag_name='favoritebooks'),\n",
       " Row(tag_name='feminist-reading-list'),\n",
       " Row(tag_name='fiction-indonesian'),\n",
       " Row(tag_name='fiction-mystery-crime'),\n",
       " Row(tag_name='fiction-to-read'),\n",
       " Row(tag_name='filipino-stories'),\n",
       " Row(tag_name='fire-and-thorns'),\n",
       " Row(tag_name='fireproof'),\n",
       " Row(tag_name='fish-in-a-tree'),\n",
       " Row(tag_name='forgottenrealms'),\n",
       " Row(tag_name='france-related'),\n",
       " Row(tag_name='from-one-childhood-to-another'),\n",
       " Row(tag_name='gentleman-bastard'),\n",
       " Row(tag_name='gifted-children'),\n",
       " Row(tag_name='goss-family-library'),\n",
       " Row(tag_name='graceling-realm'),\n",
       " Row(tag_name='great-literature'),\n",
       " Row(tag_name='groups'),\n",
       " Row(tag_name='guy-de-maupassant'),\n",
       " Row(tag_name='havana'),\n",
       " Row(tag_name='he-chose-the-nails'),\n",
       " Row(tag_name='hot-guys'),\n",
       " Row(tag_name='hpl'),\n",
       " Row(tag_name='hulks'),\n",
       " Row(tag_name='if-you-liked-diary-of-a-wimpy-kid'),\n",
       " Row(tag_name='immigrant-experience'),\n",
       " Row(tag_name='in-my-possession'),\n",
       " Row(tag_name='jacqueline-carey'),\n",
       " Row(tag_name='james-herriot'),\n",
       " Row(tag_name='james-potter-series'),\n",
       " Row(tag_name='joe-hill'),\n",
       " Row(tag_name='john-green'),\n",
       " Row(tag_name='kathleen-e-woodiwiss'),\n",
       " Row(tag_name='kent-haruf'),\n",
       " Row(tag_name='kid-shelf'),\n",
       " Row(tag_name='kütüphanem'),\n",
       " Row(tag_name='la-biblioteca-de-sebastian'),\n",
       " Row(tag_name='lauren-groff'),\n",
       " Row(tag_name='lds-historical-fiction'),\n",
       " Row(tag_name='lesbian'),\n",
       " Row(tag_name='lizzy-and-diesel-series'),\n",
       " Row(tag_name='longitude'),\n",
       " Row(tag_name='magic-kingdom-of-landover-series'),\n",
       " Row(tag_name='man-booker-prize'),\n",
       " Row(tag_name='manga-hellsing'),\n",
       " Row(tag_name='mankell'),\n",
       " Row(tag_name='mary-downing-hahn'),\n",
       " Row(tag_name='may-december'),\n",
       " Row(tag_name='mcdonald-john-d'),\n",
       " Row(tag_name='messed-up'),\n",
       " Row(tag_name='middle-east-fiction'),\n",
       " Row(tag_name='middle-east-north-africa'),\n",
       " Row(tag_name='mo-willems'),\n",
       " Row(tag_name='modern-library-top-100-novels'),\n",
       " Row(tag_name='mormon-doctrine'),\n",
       " Row(tag_name='movie-books'),\n",
       " Row(tag_name='mudbug'),\n",
       " Row(tag_name='muslim-world'),\n",
       " Row(tag_name='nigeria'),\n",
       " Row(tag_name='non-fiction-design'),\n",
       " Row(tag_name='nonfic-biography'),\n",
       " Row(tag_name='nook-lendable'),\n",
       " Row(tag_name='old-hollywood'),\n",
       " Row(tag_name='on-my-sheft'),\n",
       " Row(tag_name='outdoor-adventure'),\n",
       " Row(tag_name='overcoming-obstacles'),\n",
       " Row(tag_name='p-g-wodehouse'),\n",
       " Row(tag_name='parasites'),\n",
       " Row(tag_name='parenting-to-read'),\n",
       " Row(tag_name='pause'),\n",
       " Row(tag_name='peach-pit'),\n",
       " Row(tag_name='peanuts'),\n",
       " Row(tag_name='pera'),\n",
       " Row(tag_name='peter-brett'),\n",
       " Row(tag_name='philosophy-of-religion'),\n",
       " Row(tag_name='phobias'),\n",
       " Row(tag_name='plays-and-poetry'),\n",
       " Row(tag_name='porto-editora'),\n",
       " Row(tag_name='pratchett-gaiman'),\n",
       " Row(tag_name='pre-teen'),\n",
       " Row(tag_name='puerto-rico'),\n",
       " Row(tag_name='quest'),\n",
       " Row(tag_name='quiltbag'),\n",
       " Row(tag_name='raymond-fiest'),\n",
       " Row(tag_name='raymond-khoury'),\n",
       " Row(tag_name='read-harder-challenge-2016'),\n",
       " Row(tag_name='read-in-czech'),\n",
       " Row(tag_name='read-middle-school-etc'),\n",
       " Row(tag_name='recipes-and-cookbooks'),\n",
       " Row(tag_name='reinos-olvidados'),\n",
       " Row(tag_name='rejected'),\n",
       " Row(tag_name='reston'),\n",
       " Row(tag_name='robert-greene'),\n",
       " Row(tag_name='robie'),\n",
       " Row(tag_name='rory-gilmore-s-reading-challenge'),\n",
       " Row(tag_name='san-pedro-laguna-kabalikatmagsaysay'),\n",
       " Row(tag_name='schneider-family-award'),\n",
       " Row(tag_name='sci-fi-fantasy-to-read'),\n",
       " Row(tag_name='sequel-to-a-time-to-kill'),\n",
       " Row(tag_name='sequels-series'),\n",
       " Row(tag_name='series-night-angel'),\n",
       " Row(tag_name='sexy-romance'),\n",
       " Row(tag_name='shadowhunter-academy'),\n",
       " Row(tag_name='sharpe-s'),\n",
       " Row(tag_name='shawn-library'),\n",
       " ...]"
      ]
     },
     "execution_count": 65,
     "metadata": {},
     "output_type": "execute_result"
    }
   ],
   "source": [
    "tags_df.select('tag_name').distinct().collect()"
   ]
  },
  {
   "cell_type": "code",
   "execution_count": 6,
   "id": "05adeef0",
   "metadata": {
    "scrolled": true
   },
   "outputs": [
    {
     "name": "stderr",
     "output_type": "stream",
     "text": [
      "Fri Dec 20 10:42:29 KST 2024 WARN: Establishing SSL connection without server's identity verification is not recommended. According to MySQL 5.5.45+, 5.6.26+ and 5.7.6+ requirements SSL connection must be established by default if explicit option isn't set. For compliance with existing applications not using SSL the verifyServerCertificate property is set to 'false'. You need either to explicitly disable SSL by setting useSSL=false, or set useSSL=true and provide truststore for server certificate verification.\n",
      "                                                                                \r"
     ]
    },
    {
     "name": "stdout",
     "output_type": "stream",
     "text": [
      "+------+--------------------+\n",
      "|tag_id|            tag_name|\n",
      "+------+--------------------+\n",
      "|    98|          02-fantasy|\n",
      "|   119|     05-high-fantasy|\n",
      "|   124|   07-modern-fantasy|\n",
      "|   950|   22-modern-fantasy|\n",
      "|  1139|          50-fantasy|\n",
      "|  1315|           a-fantasy|\n",
      "|  1654|       adult-fantasy|\n",
      "|  1700|adventure-nonfantasy|\n",
      "|  2050|alien-fiction-fan...|\n",
      "|  2183| alternative-fantasy|\n",
      "|  2554|      animal-fantasy|\n",
      "|  2820|        arab-fantasy|\n",
      "|  3227|       asian-fantasy|\n",
      "|  4310|best-audio-epic-f...|\n",
      "|  4333|        best-fantasy|\n",
      "|  4334|  best-fantasy-books|\n",
      "|  4335| best-fantasy-series|\n",
      "|  5133|     books-fantasy-7|\n",
      "|  5134|     books-fantasy-8|\n",
      "|  6873|    children-fantasy|\n",
      "+------+--------------------+\n",
      "only showing top 20 rows\n",
      "\n"
     ]
    }
   ],
   "source": [
    "tags_df.filter(tags_df['tag_name'].like('%fantasy%')).show()"
   ]
  },
  {
   "cell_type": "markdown",
   "id": "0a1280fe",
   "metadata": {},
   "source": [
    "## 태그 전처리\n"
   ]
  },
  {
   "cell_type": "code",
   "execution_count": 16,
   "id": "b3f9d324",
   "metadata": {},
   "outputs": [],
   "source": [
    "from pyspark.sql.functions import udf\n",
    "from pyspark.sql.types import StringType"
   ]
  },
  {
   "cell_type": "code",
   "execution_count": 17,
   "id": "4426cf44",
   "metadata": {},
   "outputs": [
    {
     "name": "stderr",
     "output_type": "stream",
     "text": [
      "\r",
      "[Stage 0:>                                                          (0 + 1) / 1]\r",
      "Fri Dec 20 17:28:57 KST 2024 WARN: Establishing SSL connection without server's identity verification is not recommended. According to MySQL 5.5.45+, 5.6.26+ and 5.7.6+ requirements SSL connection must be established by default if explicit option isn't set. For compliance with existing applications not using SSL the verifyServerCertificate property is set to 'false'. You need either to explicitly disable SSL by setting useSSL=false, or set useSSL=true and provide truststore for server certificate verification.\n"
     ]
    },
    {
     "name": "stdout",
     "output_type": "stream",
     "text": [
      "+------+--------+-----+\n",
      "|tag_id|tag_name|genre|\n",
      "+------+--------+-----+\n",
      "|     0|       -|other|\n",
      "|     1|    --1-|other|\n",
      "|     2|   --10-|other|\n",
      "|     3|   --12-|other|\n",
      "|     4|  --122-|other|\n",
      "+------+--------+-----+\n",
      "only showing top 5 rows\n",
      "\n"
     ]
    },
    {
     "name": "stderr",
     "output_type": "stream",
     "text": [
      "\r",
      "[Stage 0:===========================================================(1 + 0) / 1]\r",
      "\r",
      "                                                                                \r"
     ]
    }
   ],
   "source": [
    "# tags_df에 genre열 추가\n",
    "tags_df.createOrReplaceTempView(\"tags\")\n",
    "\n",
    "query = \"\"\"\n",
    "SELECT tag_id, tag_name, \n",
    "       CASE\n",
    "           WHEN tag_name LIKE '%fiction%' THEN 'fiction'\n",
    "           WHEN tag_name LIKE '%fantasy%' THEN 'fantasy'\n",
    "           WHEN tag_name LIKE '%horror%' THEN 'horror'\n",
    "           WHEN tag_name LIKE '%romance%' OR tag_name LIKE '%romantic%' THEN 'romance'\n",
    "           WHEN tag_name LIKE '%mystery%' THEN 'mystery'\n",
    "           WHEN tag_name LIKE '%sci-fi%' THEN 'sci-fi'\n",
    "           WHEN tag_name LIKE '%series%' OR tag_name LIKE '%sequel%' THEN 'series'\n",
    "           WHEN tag_name LIKE '%adventure%' OR tag_name LIKE '%abenteuer%' THEN 'adventure'\n",
    "           WHEN tag_name LIKE '%thriller%' THEN 'thriller'\n",
    "           WHEN tag_name LIKE '%hero%' THEN 'hero'\n",
    "           WHEN tag_name LIKE '%e-book%' THEN 'e-book'\n",
    "           WHEN tag_name LIKE '%audio-book%' THEN 'audio-book'\n",
    "           WHEN tag_name LIKE '%comics%' THEN 'comics'\n",
    "           WHEN tag_name LIKE '%kid%' OR tag_name LIKE '%child%' THEN 'child'\n",
    "           WHEN tag_name LIKE '%art%' THEN 'art'\n",
    "           WHEN tag_name LIKE '%architecture%' THEN 'architecture'\n",
    "           WHEN tag_name LIKE '%cooking%' OR tag_name LIKE '%cook%' THEN 'cooking'\n",
    "           WHEN tag_name LIKE '%poetry%' THEN 'poetry'\n",
    "           WHEN tag_name LIKE '%health%' THEN 'health'\n",
    "           WHEN tag_name LIKE '%travel%' THEN 'travel'\n",
    "           WHEN tag_name LIKE '%law%' THEN 'law'\n",
    "           WHEN tag_name LIKE '%psychology%' THEN 'psychology'\n",
    "           WHEN tag_name LIKE '%chemistry%' THEN 'chemistry'\n",
    "           WHEN tag_name LIKE '%engineering%' THEN 'engineering'\n",
    "           WHEN tag_name LIKE '%science%' THEN 'science'\n",
    "           WHEN tag_name LIKE '%music%' THEN 'music'\n",
    "           WHEN tag_name LIKE '%biography%' THEN 'biography'\n",
    "           WHEN tag_name LIKE '%business%' THEN 'business'\n",
    "           WHEN tag_name LIKE '%crime%' THEN 'crime'\n",
    "           WHEN tag_name LIKE '%history%' THEN 'history'\n",
    "           WHEN tag_name LIKE '%religion%' THEN 'religion'\n",
    "           WHEN tag_name LIKE '%sport%' THEN 'sport'\n",
    "           ELSE 'other'\n",
    "       END as genre\n",
    "FROM tags\n",
    "\"\"\"\n",
    "\n",
    "tags_df = spark.sql(query)\n",
    "tags_df.show(5)"
   ]
  },
  {
   "cell_type": "code",
   "execution_count": 8,
   "id": "1dd50e04",
   "metadata": {
    "scrolled": true
   },
   "outputs": [
    {
     "name": "stdout",
     "output_type": "stream",
     "text": [
      "+------+--------------------+----------+\n",
      "|tag_id|            tag_name|     genre|\n",
      "+------+--------------------+----------+\n",
      "|     0|                   -|     other|\n",
      "|     1|                --1-|     other|\n",
      "|     2|               --10-|     other|\n",
      "|     3|               --12-|     other|\n",
      "|     4|              --122-|     other|\n",
      "|     5|              --166-|     other|\n",
      "|     6|               --17-|     other|\n",
      "|     7|               --19-|     other|\n",
      "|     8|                --2-|     other|\n",
      "|     9|              --258-|     other|\n",
      "|    10|                --3-|     other|\n",
      "|    11|               --33-|     other|\n",
      "|    12|                --4-|     other|\n",
      "|    13|                --5-|     other|\n",
      "|    14|               --51-|     other|\n",
      "|    15|                --6-|     other|\n",
      "|    16|               --62-|     other|\n",
      "|    17|                --8-|     other|\n",
      "|    18|               --99-|     other|\n",
      "|    19|--available-at-ra...|     other|\n",
      "|    20|             -2001--|     other|\n",
      "|    21|            -calif--|     other|\n",
      "|    22|              -d-c--|     other|\n",
      "|    23|               -dean|     other|\n",
      "|    24|           -england-|     other|\n",
      "|    25|            -fiction|   fiction|\n",
      "|    26|          -fictional|   fiction|\n",
      "|    27|         -fictitious|     other|\n",
      "|    28|          -football-|     other|\n",
      "|    29|             -george|     other|\n",
      "|    30|                -gr-|     other|\n",
      "|    31|            -history|   history|\n",
      "|    32|          -imaginary|     other|\n",
      "|    33|             -italy-|     other|\n",
      "|    34|               -la--|     other|\n",
      "|    35|                -los|     other|\n",
      "|    36|             -mass--|     other|\n",
      "|    37|            -murder-|     other|\n",
      "|    38|              -n-y--|     other|\n",
      "|    39|        -non-poetry-|    poetry|\n",
      "|    40|         -performing|     other|\n",
      "|    41|               -post|     other|\n",
      "|    42|        -psychology-|psychology|\n",
      "|    43|               -read|     other|\n",
      "|    44|             -single|     other|\n",
      "|    45|           -specific|     other|\n",
      "|    46|         -television|     other|\n",
      "|    47|                   0|     other|\n",
      "|    48|    0-0-0-0cant-find|     other|\n",
      "|    49|           0-0-bingo|     other|\n",
      "+------+--------------------+----------+\n",
      "only showing top 50 rows\n",
      "\n"
     ]
    },
    {
     "name": "stderr",
     "output_type": "stream",
     "text": [
      "Fri Dec 20 13:47:10 KST 2024 WARN: Establishing SSL connection without server's identity verification is not recommended. According to MySQL 5.5.45+, 5.6.26+ and 5.7.6+ requirements SSL connection must be established by default if explicit option isn't set. For compliance with existing applications not using SSL the verifyServerCertificate property is set to 'false'. You need either to explicitly disable SSL by setting useSSL=false, or set useSSL=true and provide truststore for server certificate verification.\n"
     ]
    }
   ],
   "source": [
    "tags_df.show(50)"
   ]
  },
  {
   "cell_type": "code",
   "execution_count": 18,
   "id": "5b013d5c",
   "metadata": {},
   "outputs": [
    {
     "name": "stderr",
     "output_type": "stream",
     "text": [
      "Fri Dec 20 17:28:58 KST 2024 WARN: Establishing SSL connection without server's identity verification is not recommended. According to MySQL 5.5.45+, 5.6.26+ and 5.7.6+ requirements SSL connection must be established by default if explicit option isn't set. For compliance with existing applications not using SSL the verifyServerCertificate property is set to 'false'. You need either to explicitly disable SSL by setting useSSL=false, or set useSSL=true and provide truststore for server certificate verification.\n",
      "[Stage 2:=========================================>             (150 + 3) / 200]\r"
     ]
    },
    {
     "name": "stdout",
     "output_type": "stream",
     "text": [
      "+------------+-----+\n",
      "|       genre|count|\n",
      "+------------+-----+\n",
      "|       other|28650|\n",
      "|      series|  930|\n",
      "|     fiction|  826|\n",
      "|         art|  625|\n",
      "|       child|  520|\n",
      "|     fantasy|  269|\n",
      "|      e-book|  259|\n",
      "|     cooking|  253|\n",
      "|     romance|  217|\n",
      "|     history|  211|\n",
      "|      comics|  154|\n",
      "|     mystery|  151|\n",
      "|    thriller|  107|\n",
      "|      horror|   95|\n",
      "|     science|   95|\n",
      "|        hero|   91|\n",
      "|    business|   91|\n",
      "|      poetry|   81|\n",
      "|   biography|   68|\n",
      "|    religion|   67|\n",
      "|      health|   62|\n",
      "|      sci-fi|   59|\n",
      "|  psychology|   58|\n",
      "|       crime|   57|\n",
      "|       music|   54|\n",
      "|      travel|   53|\n",
      "|   adventure|   45|\n",
      "|       sport|   42|\n",
      "|         law|   41|\n",
      "| engineering|    8|\n",
      "|architecture|    5|\n",
      "|  audio-book|    5|\n",
      "|   chemistry|    3|\n",
      "+------------+-----+\n",
      "\n"
     ]
    },
    {
     "name": "stderr",
     "output_type": "stream",
     "text": [
      "\r",
      "[Stage 2:==================================================>    (183 + 2) / 200]\r",
      "\r",
      "                                                                                \r"
     ]
    }
   ],
   "source": [
    "tags_df.createOrReplaceTempView(\"tags\")\n",
    "\n",
    "# 장르별 빈도수 계산 쿼리\n",
    "query = \"\"\"\n",
    "SELECT genre, COUNT(*) as count\n",
    "FROM tags\n",
    "GROUP BY genre\n",
    "ORDER BY count DESC\n",
    "\"\"\"\n",
    "\n",
    "# 쿼리 실행\n",
    "tags_df_genre_count = spark.sql(query)\n",
    "\n",
    "# 결과 출력\n",
    "tags_df_genre_count.show(40)"
   ]
  },
  {
   "cell_type": "code",
   "execution_count": 10,
   "id": "77737da8",
   "metadata": {},
   "outputs": [
    {
     "name": "stdout",
     "output_type": "stream",
     "text": [
      "+------+--------+-----+\n",
      "|tag_id|tag_name|genre|\n",
      "+------+--------+-----+\n",
      "|     0|       -|other|\n",
      "|     1|    --1-|other|\n",
      "|     2|   --10-|other|\n",
      "|     3|   --12-|other|\n",
      "|     4|  --122-|other|\n",
      "+------+--------+-----+\n",
      "only showing top 5 rows\n",
      "\n"
     ]
    },
    {
     "name": "stderr",
     "output_type": "stream",
     "text": [
      "Fri Dec 20 13:47:21 KST 2024 WARN: Establishing SSL connection without server's identity verification is not recommended. According to MySQL 5.5.45+, 5.6.26+ and 5.7.6+ requirements SSL connection must be established by default if explicit option isn't set. For compliance with existing applications not using SSL the verifyServerCertificate property is set to 'false'. You need either to explicitly disable SSL by setting useSSL=false, or set useSSL=true and provide truststore for server certificate verification.\n"
     ]
    }
   ],
   "source": [
    "tags_df.show(5)"
   ]
  },
  {
   "cell_type": "code",
   "execution_count": 13,
   "id": "21cac1e2",
   "metadata": {},
   "outputs": [
    {
     "name": "stderr",
     "output_type": "stream",
     "text": [
      "Fri Dec 20 13:18:01 KST 2024 WARN: Establishing SSL connection without server's identity verification is not recommended. According to MySQL 5.5.45+, 5.6.26+ and 5.7.6+ requirements SSL connection must be established by default if explicit option isn't set. For compliance with existing applications not using SSL the verifyServerCertificate property is set to 'false'. You need either to explicitly disable SSL by setting useSSL=false, or set useSSL=true and provide truststore for server certificate verification.\n",
      "[Stage 18:>                                                         (0 + 1) / 1]\r"
     ]
    },
    {
     "name": "stdout",
     "output_type": "stream",
     "text": [
      "+-----------------+------+-----+\n",
      "|goodreads_book_id|tag_id|count|\n",
      "+-----------------+------+-----+\n",
      "|                1|   615|  399|\n",
      "|                1|  1120|  283|\n",
      "|                1|  1128|  828|\n",
      "|                1|  1691| 1742|\n",
      "|                1|  2104| 1022|\n",
      "+-----------------+------+-----+\n",
      "only showing top 5 rows\n",
      "\n"
     ]
    },
    {
     "name": "stderr",
     "output_type": "stream",
     "text": [
      "\r",
      "                                                                                \r"
     ]
    }
   ],
   "source": [
    "book_tags_df.show(5)"
   ]
  },
  {
   "cell_type": "code",
   "execution_count": 14,
   "id": "4818da6c",
   "metadata": {},
   "outputs": [
    {
     "name": "stderr",
     "output_type": "stream",
     "text": [
      "Fri Dec 20 13:18:09 KST 2024 WARN: Establishing SSL connection without server's identity verification is not recommended. According to MySQL 5.5.45+, 5.6.26+ and 5.7.6+ requirements SSL connection must be established by default if explicit option isn't set. For compliance with existing applications not using SSL the verifyServerCertificate property is set to 'false'. You need either to explicitly disable SSL by setting useSSL=false, or set useSSL=true and provide truststore for server certificate verification.\n",
      "[Stage 19:>                                                         (0 + 1) / 1]\r"
     ]
    },
    {
     "name": "stdout",
     "output_type": "stream",
     "text": [
      "+-------+-------+------+\n",
      "|user_id|book_id|rating|\n",
      "+-------+-------+------+\n",
      "|      1|      4|     5|\n",
      "|      1|     10|     4|\n",
      "|      1|     11|     5|\n",
      "|      1|     13|     4|\n",
      "|      1|     16|     3|\n",
      "+-------+-------+------+\n",
      "only showing top 5 rows\n",
      "\n"
     ]
    },
    {
     "name": "stderr",
     "output_type": "stream",
     "text": [
      "\r",
      "                                                                                \r"
     ]
    }
   ],
   "source": [
    "ratings_df.show(5)"
   ]
  },
  {
   "cell_type": "code",
   "execution_count": 15,
   "id": "25706e90",
   "metadata": {},
   "outputs": [
    {
     "name": "stderr",
     "output_type": "stream",
     "text": [
      "Fri Dec 20 13:18:19 KST 2024 WARN: Establishing SSL connection without server's identity verification is not recommended. According to MySQL 5.5.45+, 5.6.26+ and 5.7.6+ requirements SSL connection must be established by default if explicit option isn't set. For compliance with existing applications not using SSL the verifyServerCertificate property is set to 'false'. You need either to explicitly disable SSL by setting useSSL=false, or set useSSL=true and provide truststore for server certificate verification.\n",
      "                                                                                \r"
     ]
    },
    {
     "name": "stdout",
     "output_type": "stream",
     "text": [
      "+-------+-------+\n",
      "|user_id|book_id|\n",
      "+-------+-------+\n",
      "|     12|      1|\n",
      "|    192|      1|\n",
      "|    202|      1|\n",
      "|    244|      1|\n",
      "|    253|      1|\n",
      "+-------+-------+\n",
      "only showing top 5 rows\n",
      "\n"
     ]
    }
   ],
   "source": [
    "to_read_df.show(5)"
   ]
  },
  {
   "cell_type": "code",
   "execution_count": 16,
   "id": "7b4151c9",
   "metadata": {},
   "outputs": [
    {
     "name": "stdout",
     "output_type": "stream",
     "text": [
      "+-------+-----------------+--------------------+--------------------+--------------+-------------+-------------------------+--------------------+--------------------+\n",
      "|book_id|goodreads_book_id|               title|             authors|average_rating|ratings_count|original_publication_year|           image_url|     small_image_url|\n",
      "+-------+-----------------+--------------------+--------------------+--------------+-------------+-------------------------+--------------------+--------------------+\n",
      "|      1|          2767052|The Hunger Games ...|     Suzanne Collins|          4.34|      4780653|                     2008|https://images.gr...|https://images.gr...|\n",
      "|      2|                3|Harry Potter and ...|J.K. Rowling, Mar...|          4.44|      4602479|                     1997|https://images.gr...|https://images.gr...|\n",
      "|      3|            41865|Twilight (Twiligh...|     Stephenie Meyer|          3.57|      3866839|                     2005|https://images.gr...|https://images.gr...|\n",
      "|      4|             2657|To Kill a Mocking...|          Harper Lee|          4.25|      3198671|                     1960|https://images.gr...|https://images.gr...|\n",
      "|      5|             4671|    The Great Gatsby| F. Scott Fitzgerald|          3.89|      2683664|                     1925|https://images.gr...|https://images.gr...|\n",
      "+-------+-----------------+--------------------+--------------------+--------------+-------------+-------------------------+--------------------+--------------------+\n",
      "only showing top 5 rows\n",
      "\n"
     ]
    },
    {
     "name": "stderr",
     "output_type": "stream",
     "text": [
      "Fri Dec 20 13:18:27 KST 2024 WARN: Establishing SSL connection without server's identity verification is not recommended. According to MySQL 5.5.45+, 5.6.26+ and 5.7.6+ requirements SSL connection must be established by default if explicit option isn't set. For compliance with existing applications not using SSL the verifyServerCertificate property is set to 'false'. You need either to explicitly disable SSL by setting useSSL=false, or set useSSL=true and provide truststore for server certificate verification.\n"
     ]
    }
   ],
   "source": [
    "books_df.show(5)"
   ]
  },
  {
   "cell_type": "markdown",
   "id": "0164dafc",
   "metadata": {},
   "source": [
    "## 테이블 조인"
   ]
  },
  {
   "cell_type": "code",
   "execution_count": 19,
   "id": "3db887d2",
   "metadata": {
    "scrolled": true
   },
   "outputs": [
    {
     "name": "stderr",
     "output_type": "stream",
     "text": [
      "Fri Dec 20 17:29:03 KST 2024 WARN: Establishing SSL connection without server's identity verification is not recommended. According to MySQL 5.5.45+, 5.6.26+ and 5.7.6+ requirements SSL connection must be established by default if explicit option isn't set. For compliance with existing applications not using SSL the verifyServerCertificate property is set to 'false'. You need either to explicitly disable SSL by setting useSSL=false, or set useSSL=true and provide truststore for server certificate verification.\n",
      "Fri Dec 20 17:29:03 KST 2024 WARN: Establishing SSL connection without server's identity verification is not recommended. According to MySQL 5.5.45+, 5.6.26+ and 5.7.6+ requirements SSL connection must be established by default if explicit option isn't set. For compliance with existing applications not using SSL the verifyServerCertificate property is set to 'false'. You need either to explicitly disable SSL by setting useSSL=false, or set useSSL=true and provide truststore for server certificate verification.\n",
      "[Stage 4:>                                                          (0 + 1) / 1]\r"
     ]
    },
    {
     "name": "stdout",
     "output_type": "stream",
     "text": [
      "+-----------------+-----+\n",
      "|goodreads_book_id|genre|\n",
      "+-----------------+-----+\n",
      "|             4660|other|\n",
      "|            22584|other|\n",
      "|            29187|other|\n",
      "|            32628|other|\n",
      "|            99461|other|\n",
      "+-----------------+-----+\n",
      "only showing top 5 rows\n",
      "\n"
     ]
    },
    {
     "name": "stderr",
     "output_type": "stream",
     "text": [
      "\r",
      "                                                                                \r"
     ]
    }
   ],
   "source": [
    "# tags_df와 book_tags_df 조인\n",
    "joined_df = book_tags_df.join(tags_df, on=\"tag_id\", how=\"inner\")\\\n",
    "    .select('goodreads_book_id', 'genre')\n",
    "joined_df.show(5)"
   ]
  },
  {
   "cell_type": "code",
   "execution_count": 20,
   "id": "a5e47955",
   "metadata": {},
   "outputs": [
    {
     "name": "stderr",
     "output_type": "stream",
     "text": [
      "Fri Dec 20 17:29:06 KST 2024 WARN: Establishing SSL connection without server's identity verification is not recommended. According to MySQL 5.5.45+, 5.6.26+ and 5.7.6+ requirements SSL connection must be established by default if explicit option isn't set. For compliance with existing applications not using SSL the verifyServerCertificate property is set to 'false'. You need either to explicitly disable SSL by setting useSSL=false, or set useSSL=true and provide truststore for server certificate verification.\n",
      "Fri Dec 20 17:29:06 KST 2024 WARN: Establishing SSL connection without server's identity verification is not recommended. According to MySQL 5.5.45+, 5.6.26+ and 5.7.6+ requirements SSL connection must be established by default if explicit option isn't set. For compliance with existing applications not using SSL the verifyServerCertificate property is set to 'false'. You need either to explicitly disable SSL by setting useSSL=false, or set useSSL=true and provide truststore for server certificate verification.\n",
      "Fri Dec 20 17:29:06 KST 2024 WARN: Establishing SSL connection without server's identity verification is not recommended. According to MySQL 5.5.45+, 5.6.26+ and 5.7.6+ requirements SSL connection must be established by default if explicit option isn't set. For compliance with existing applications not using SSL the verifyServerCertificate property is set to 'false'. You need either to explicitly disable SSL by setting useSSL=false, or set useSSL=true and provide truststore for server certificate verification.\n",
      "[Stage 10:===================================================>  (189 + 2) / 200]\r"
     ]
    },
    {
     "name": "stdout",
     "output_type": "stream",
     "text": [
      "+-------+--------------------+--------------------+--------------+-------+\n",
      "|book_id|               title|             authors|average_rating|  genre|\n",
      "+-------+--------------------+--------------------+--------------+-------+\n",
      "|   1375|Me and Earl and t...|       Jesse Andrews|          3.58| e-book|\n",
      "|   9564|SilverFin (Young ...|      Charlie Higson|           3.8|  crime|\n",
      "|   3086|Fables and Reflec...|Neil Gaiman, Brya...|          4.45| series|\n",
      "|   2411|The Winds of War ...|         Herman Wouk|          4.36|fiction|\n",
      "|    754|   Half Broke Horses|     Jeannette Walls|          4.05|fiction|\n",
      "+-------+--------------------+--------------------+--------------+-------+\n",
      "only showing top 5 rows\n",
      "\n"
     ]
    },
    {
     "name": "stderr",
     "output_type": "stream",
     "text": [
      "\r",
      "[Stage 10:=====================================================>(197 + 2) / 200]\r",
      "\r",
      "                                                                                \r"
     ]
    }
   ],
   "source": [
    "# books_df 조인\n",
    "final_joined_df = joined_df.join(books_df, on=\"goodreads_book_id\", how=\"inner\") \\\n",
    "    .select('book_id', 'title', 'authors', 'average_rating', 'genre') \\\n",
    "    .distinct()\n",
    "\n",
    "final_joined_df.show(5)"
   ]
  },
  {
   "cell_type": "code",
   "execution_count": 21,
   "id": "53490167",
   "metadata": {
    "scrolled": true
   },
   "outputs": [
    {
     "name": "stderr",
     "output_type": "stream",
     "text": [
      "Fri Dec 20 17:29:21 KST 2024 WARN: Establishing SSL connection without server's identity verification is not recommended. According to MySQL 5.5.45+, 5.6.26+ and 5.7.6+ requirements SSL connection must be established by default if explicit option isn't set. For compliance with existing applications not using SSL the verifyServerCertificate property is set to 'false'. You need either to explicitly disable SSL by setting useSSL=false, or set useSSL=true and provide truststore for server certificate verification.\n",
      "Fri Dec 20 17:29:21 KST 2024 WARN: Establishing SSL connection without server's identity verification is not recommended. According to MySQL 5.5.45+, 5.6.26+ and 5.7.6+ requirements SSL connection must be established by default if explicit option isn't set. For compliance with existing applications not using SSL the verifyServerCertificate property is set to 'false'. You need either to explicitly disable SSL by setting useSSL=false, or set useSSL=true and provide truststore for server certificate verification.\n",
      "Fri Dec 20 17:29:22 KST 2024 WARN: Establishing SSL connection without server's identity verification is not recommended. According to MySQL 5.5.45+, 5.6.26+ and 5.7.6+ requirements SSL connection must be established by default if explicit option isn't set. For compliance with existing applications not using SSL the verifyServerCertificate property is set to 'false'. You need either to explicitly disable SSL by setting useSSL=false, or set useSSL=true and provide truststore for server certificate verification.\n",
      "Fri Dec 20 17:29:25 KST 2024 WARN: Establishing SSL connection without server's identity verification is not recommended. According to MySQL 5.5.45+, 5.6.26+ and 5.7.6+ requirements SSL connection must be established by default if explicit option isn't set. For compliance with existing applications not using SSL the verifyServerCertificate property is set to 'false'. You need either to explicitly disable SSL by setting useSSL=false, or set useSSL=true and provide truststore for server certificate verification.\n",
      "[Stage 18:===================================================>  (191 + 2) / 200]\r"
     ]
    },
    {
     "name": "stdout",
     "output_type": "stream",
     "text": [
      "+-------+-------+--------------------+------+---------------+--------------+-------+\n",
      "|user_id|book_id|               title|rating|        authors|average_rating|  genre|\n",
      "+-------+-------+--------------------+------+---------------+--------------+-------+\n",
      "|      1|    148|Girl with a Pearl...|     3|Tracy Chevalier|          3.85|history|\n",
      "|     10|    148|Girl with a Pearl...|     3|Tracy Chevalier|          3.85|history|\n",
      "|     15|    148|Girl with a Pearl...|     4|Tracy Chevalier|          3.85|history|\n",
      "|     24|    148|Girl with a Pearl...|     3|Tracy Chevalier|          3.85|history|\n",
      "|     30|    148|Girl with a Pearl...|     2|Tracy Chevalier|          3.85|history|\n",
      "+-------+-------+--------------------+------+---------------+--------------+-------+\n",
      "only showing top 5 rows\n",
      "\n"
     ]
    },
    {
     "name": "stderr",
     "output_type": "stream",
     "text": [
      "\r",
      "                                                                                \r"
     ]
    }
   ],
   "source": [
    "# ratings_df와 조인\n",
    "# user_id, book_id, title, rating, authors, average_rating, genre\n",
    "joined_df = final_joined_df.join(ratings_df, on=\"book_id\", how=\"inner\")\\\n",
    "    .select('user_id', 'book_id', 'title', 'rating','authors', 'average_rating', 'genre')\n",
    "joined_df.show(5)"
   ]
  },
  {
   "cell_type": "markdown",
   "id": "a78f8efa",
   "metadata": {},
   "source": [
    "## ALS 모델링"
   ]
  },
  {
   "cell_type": "code",
   "execution_count": 22,
   "id": "af5bc2e8",
   "metadata": {},
   "outputs": [],
   "source": [
    "from pyspark.ml.evaluation import RegressionEvaluator\n",
    "from pyspark.ml.recommendation import ALS"
   ]
  },
  {
   "cell_type": "code",
   "execution_count": 23,
   "id": "742039ed",
   "metadata": {},
   "outputs": [
    {
     "name": "stderr",
     "output_type": "stream",
     "text": [
      "Fri Dec 20 17:30:43 KST 2024 WARN: Establishing SSL connection without server's identity verification is not recommended. According to MySQL 5.5.45+, 5.6.26+ and 5.7.6+ requirements SSL connection must be established by default if explicit option isn't set. For compliance with existing applications not using SSL the verifyServerCertificate property is set to 'false'. You need either to explicitly disable SSL by setting useSSL=false, or set useSSL=true and provide truststore for server certificate verification.\n",
      "Fri Dec 20 17:30:43 KST 2024 WARN: Establishing SSL connection without server's identity verification is not recommended. According to MySQL 5.5.45+, 5.6.26+ and 5.7.6+ requirements SSL connection must be established by default if explicit option isn't set. For compliance with existing applications not using SSL the verifyServerCertificate property is set to 'false'. You need either to explicitly disable SSL by setting useSSL=false, or set useSSL=true and provide truststore for server certificate verification.\n",
      "Fri Dec 20 17:30:43 KST 2024 WARN: Establishing SSL connection without server's identity verification is not recommended. According to MySQL 5.5.45+, 5.6.26+ and 5.7.6+ requirements SSL connection must be established by default if explicit option isn't set. For compliance with existing applications not using SSL the verifyServerCertificate property is set to 'false'. You need either to explicitly disable SSL by setting useSSL=false, or set useSSL=true and provide truststore for server certificate verification.\n",
      "Fri Dec 20 17:30:43 KST 2024 WARN: Establishing SSL connection without server's identity verification is not recommended. According to MySQL 5.5.45+, 5.6.26+ and 5.7.6+ requirements SSL connection must be established by default if explicit option isn't set. For compliance with existing applications not using SSL the verifyServerCertificate property is set to 'false'. You need either to explicitly disable SSL by setting useSSL=false, or set useSSL=true and provide truststore for server certificate verification.\n",
      "24/12/20 17:34:46 WARN MemoryStore: Not enough space to cache rdd_164_158 in memory! (computed 4.3 MiB so far)\n",
      "24/12/20 17:34:46 WARN BlockManager: Persisting block rdd_164_158 to disk instead.\n",
      "24/12/20 17:34:46 WARN MemoryStore: Not enough space to cache rdd_164_159 in memory! (computed 4.3 MiB so far)\n",
      "24/12/20 17:34:46 WARN BlockManager: Persisting block rdd_164_159 to disk instead.\n",
      "24/12/20 17:34:46 WARN MemoryStore: Not enough space to cache rdd_164_158 in memory! (computed 4.3 MiB so far)\n",
      "24/12/20 17:34:47 WARN MemoryStore: Not enough space to cache rdd_164_160 in memory! (computed 4.3 MiB so far)\n",
      "24/12/20 17:34:47 WARN BlockManager: Persisting block rdd_164_160 to disk instead.\n",
      "24/12/20 17:34:47 WARN MemoryStore: Not enough space to cache rdd_164_160 in memory! (computed 4.3 MiB so far)\n",
      "24/12/20 17:34:47 WARN MemoryStore: Failed to reserve initial memory threshold of 1024.0 KiB for computing block rdd_164_161 in memory.\n",
      "24/12/20 17:34:47 WARN MemoryStore: Not enough space to cache rdd_164_161 in memory! (computed 384.0 B so far)\n",
      "24/12/20 17:34:47 WARN BlockManager: Persisting block rdd_164_161 to disk instead.\n",
      "24/12/20 17:34:47 WARN MemoryStore: Failed to reserve initial memory threshold of 1024.0 KiB for computing block rdd_164_161 in memory.\n",
      "24/12/20 17:34:47 WARN MemoryStore: Not enough space to cache rdd_164_161 in memory! (computed 384.0 B so far)\n",
      "24/12/20 17:34:47 WARN MemoryStore: Not enough space to cache rdd_164_163 in memory! (computed 4.3 MiB so far)\n",
      "24/12/20 17:34:47 WARN BlockManager: Persisting block rdd_164_163 to disk instead.\n",
      "24/12/20 17:34:47 WARN MemoryStore: Failed to reserve initial memory threshold of 1024.0 KiB for computing block rdd_164_165 in memory.\n",
      "24/12/20 17:34:47 WARN MemoryStore: Not enough space to cache rdd_164_165 in memory! (computed 384.0 B so far)\n",
      "24/12/20 17:34:47 WARN BlockManager: Persisting block rdd_164_165 to disk instead.\n",
      "24/12/20 17:34:47 WARN MemoryStore: Not enough space to cache rdd_164_163 in memory! (computed 4.3 MiB so far)\n",
      "24/12/20 17:34:47 WARN MemoryStore: Failed to reserve initial memory threshold of 1024.0 KiB for computing block rdd_164_165 in memory.\n",
      "24/12/20 17:34:47 WARN MemoryStore: Not enough space to cache rdd_164_165 in memory! (computed 384.0 B so far)\n",
      "24/12/20 17:34:47 WARN MemoryStore: Failed to reserve initial memory threshold of 1024.0 KiB for computing block rdd_164_174 in memory.\n",
      "24/12/20 17:34:47 WARN MemoryStore: Not enough space to cache rdd_164_174 in memory! (computed 384.0 B so far)\n",
      "24/12/20 17:34:47 WARN BlockManager: Persisting block rdd_164_174 to disk instead.\n",
      "24/12/20 17:34:47 WARN MemoryStore: Not enough space to cache rdd_164_166 in memory! (computed 4.5 MiB so far)\n",
      "24/12/20 17:34:47 WARN BlockManager: Persisting block rdd_164_166 to disk instead.\n",
      "24/12/20 17:34:47 WARN MemoryStore: Failed to reserve initial memory threshold of 1024.0 KiB for computing block rdd_164_174 in memory.\n",
      "24/12/20 17:34:47 WARN MemoryStore: Not enough space to cache rdd_164_166 in memory! (computed 4.5 MiB so far)\n",
      "24/12/20 17:34:47 WARN MemoryStore: Not enough space to cache rdd_164_174 in memory! (computed 384.0 B so far)\n",
      "24/12/20 17:34:47 WARN MemoryStore: Not enough space to cache rdd_164_178 in memory! (computed 4.6 MiB so far)\n",
      "24/12/20 17:34:47 WARN BlockManager: Persisting block rdd_164_178 to disk instead.\n",
      "24/12/20 17:34:47 WARN MemoryStore: Not enough space to cache rdd_164_178 in memory! (computed 4.6 MiB so far)\n",
      "24/12/20 17:34:47 WARN MemoryStore: Not enough space to cache rdd_164_183 in memory! (computed 4.2 MiB so far)\n",
      "24/12/20 17:34:47 WARN BlockManager: Persisting block rdd_164_183 to disk instead.\n",
      "24/12/20 17:34:48 WARN MemoryStore: Not enough space to cache rdd_164_186 in memory! (computed 4.4 MiB so far)\n",
      "24/12/20 17:34:48 WARN BlockManager: Persisting block rdd_164_186 to disk instead.\n",
      "24/12/20 17:34:48 WARN MemoryStore: Not enough space to cache rdd_164_186 in memory! (computed 4.4 MiB so far)\n",
      "24/12/20 17:34:48 WARN MemoryStore: Failed to reserve initial memory threshold of 1024.0 KiB for computing block rdd_164_191 in memory.\n",
      "24/12/20 17:34:48 WARN MemoryStore: Not enough space to cache rdd_164_191 in memory! (computed 384.0 B so far)\n",
      "24/12/20 17:34:48 WARN BlockManager: Persisting block rdd_164_191 to disk instead.\n",
      "24/12/20 17:34:48 WARN MemoryStore: Not enough space to cache rdd_164_191 in memory! (computed 4.4 MiB so far)\n",
      "24/12/20 17:34:48 WARN MemoryStore: Not enough space to cache rdd_164_192 in memory! (computed 4.3 MiB so far)\n",
      "24/12/20 17:34:48 WARN BlockManager: Persisting block rdd_164_192 to disk instead.\n",
      "24/12/20 17:34:48 WARN MemoryStore: Not enough space to cache rdd_164_193 in memory! (computed 4.6 MiB so far)\n",
      "24/12/20 17:34:48 WARN BlockManager: Persisting block rdd_164_193 to disk instead.\n",
      "24/12/20 17:34:48 WARN MemoryStore: Not enough space to cache rdd_164_193 in memory! (computed 4.6 MiB so far)\n",
      "24/12/20 17:34:48 WARN MemoryStore: Failed to reserve initial memory threshold of 1024.0 KiB for computing block rdd_164_196 in memory.\n",
      "24/12/20 17:34:48 WARN MemoryStore: Not enough space to cache rdd_164_196 in memory! (computed 384.0 B so far)\n",
      "24/12/20 17:34:48 WARN BlockManager: Persisting block rdd_164_196 to disk instead.\n",
      "24/12/20 17:34:48 WARN MemoryStore: Not enough space to cache rdd_164_196 in memory! (computed 4.4 MiB so far)\n",
      "24/12/20 17:34:48 WARN MemoryStore: Failed to reserve initial memory threshold of 1024.0 KiB for computing block rdd_164_197 in memory.\n",
      "24/12/20 17:34:48 WARN MemoryStore: Not enough space to cache rdd_164_197 in memory! (computed 384.0 B so far)\n",
      "24/12/20 17:34:48 WARN BlockManager: Persisting block rdd_164_197 to disk instead.\n",
      "24/12/20 17:34:48 WARN MemoryStore: Failed to reserve initial memory threshold of 1024.0 KiB for computing block rdd_164_12 in memory.\n",
      "24/12/20 17:34:48 WARN MemoryStore: Not enough space to cache rdd_164_12 in memory! (computed 384.0 B so far)\n",
      "24/12/20 17:34:48 WARN BlockManager: Persisting block rdd_164_12 to disk instead.\n",
      "24/12/20 17:34:48 WARN MemoryStore: Not enough space to cache rdd_164_197 in memory! (computed 4.5 MiB so far)\n",
      "24/12/20 17:34:48 WARN MemoryStore: Failed to reserve initial memory threshold of 1024.0 KiB for computing block rdd_164_12 in memory.\n",
      "24/12/20 17:34:48 WARN MemoryStore: Not enough space to cache rdd_164_12 in memory! (computed 384.0 B so far)\n",
      "24/12/20 17:34:48 WARN MemoryStore: Failed to reserve initial memory threshold of 1024.0 KiB for computing block rdd_164_13 in memory.\n",
      "24/12/20 17:34:48 WARN MemoryStore: Not enough space to cache rdd_164_13 in memory! (computed 384.0 B so far)\n",
      "24/12/20 17:34:48 WARN BlockManager: Persisting block rdd_164_13 to disk instead.\n",
      "24/12/20 17:34:48 WARN MemoryStore: Failed to reserve initial memory threshold of 1024.0 KiB for computing block rdd_164_13 in memory.\n",
      "24/12/20 17:34:48 WARN MemoryStore: Not enough space to cache rdd_164_13 in memory! (computed 384.0 B so far)\n",
      "24/12/20 17:34:48 WARN MemoryStore: Failed to reserve initial memory threshold of 1024.0 KiB for computing block rdd_164_14 in memory.\n",
      "24/12/20 17:34:48 WARN MemoryStore: Not enough space to cache rdd_164_14 in memory! (computed 384.0 B so far)\n",
      "24/12/20 17:34:48 WARN BlockManager: Persisting block rdd_164_14 to disk instead.\n",
      "24/12/20 17:34:48 WARN MemoryStore: Failed to reserve initial memory threshold of 1024.0 KiB for computing block rdd_164_14 in memory.\n",
      "24/12/20 17:34:48 WARN MemoryStore: Not enough space to cache rdd_164_14 in memory! (computed 384.0 B so far)\n"
     ]
    },
    {
     "name": "stderr",
     "output_type": "stream",
     "text": [
      "24/12/20 17:34:48 WARN MemoryStore: Failed to reserve initial memory threshold of 1024.0 KiB for computing block rdd_164_15 in memory.\n",
      "24/12/20 17:34:48 WARN MemoryStore: Not enough space to cache rdd_164_15 in memory! (computed 384.0 B so far)\n",
      "24/12/20 17:34:48 WARN BlockManager: Persisting block rdd_164_15 to disk instead.\n",
      "24/12/20 17:34:48 WARN MemoryStore: Failed to reserve initial memory threshold of 1024.0 KiB for computing block rdd_164_15 in memory.\n",
      "24/12/20 17:34:48 WARN MemoryStore: Not enough space to cache rdd_164_15 in memory! (computed 384.0 B so far)\n",
      "24/12/20 17:34:48 WARN MemoryStore: Failed to reserve initial memory threshold of 1024.0 KiB for computing block rdd_164_16 in memory.\n",
      "24/12/20 17:34:48 WARN MemoryStore: Not enough space to cache rdd_164_16 in memory! (computed 384.0 B so far)\n",
      "24/12/20 17:34:48 WARN BlockManager: Persisting block rdd_164_16 to disk instead.\n",
      "24/12/20 17:34:48 WARN MemoryStore: Failed to reserve initial memory threshold of 1024.0 KiB for computing block rdd_164_16 in memory.\n",
      "24/12/20 17:34:48 WARN MemoryStore: Not enough space to cache rdd_164_16 in memory! (computed 384.0 B so far)\n",
      "24/12/20 17:34:48 WARN MemoryStore: Failed to reserve initial memory threshold of 1024.0 KiB for computing block rdd_164_17 in memory.\n",
      "24/12/20 17:34:48 WARN MemoryStore: Not enough space to cache rdd_164_17 in memory! (computed 384.0 B so far)\n",
      "24/12/20 17:34:48 WARN BlockManager: Persisting block rdd_164_17 to disk instead.\n",
      "24/12/20 17:34:48 WARN MemoryStore: Failed to reserve initial memory threshold of 1024.0 KiB for computing block rdd_164_17 in memory.\n",
      "24/12/20 17:34:48 WARN MemoryStore: Not enough space to cache rdd_164_17 in memory! (computed 384.0 B so far)\n",
      "24/12/20 17:34:48 WARN MemoryStore: Failed to reserve initial memory threshold of 1024.0 KiB for computing block rdd_164_18 in memory.\n",
      "24/12/20 17:34:48 WARN MemoryStore: Not enough space to cache rdd_164_18 in memory! (computed 384.0 B so far)\n",
      "24/12/20 17:34:48 WARN BlockManager: Persisting block rdd_164_18 to disk instead.\n",
      "24/12/20 17:34:48 WARN MemoryStore: Failed to reserve initial memory threshold of 1024.0 KiB for computing block rdd_164_18 in memory.\n",
      "24/12/20 17:34:48 WARN MemoryStore: Not enough space to cache rdd_164_18 in memory! (computed 384.0 B so far)\n",
      "24/12/20 17:34:48 WARN MemoryStore: Failed to reserve initial memory threshold of 1024.0 KiB for computing block rdd_164_19 in memory.\n",
      "24/12/20 17:34:48 WARN MemoryStore: Not enough space to cache rdd_164_19 in memory! (computed 384.0 B so far)\n",
      "24/12/20 17:34:48 WARN BlockManager: Persisting block rdd_164_19 to disk instead.\n",
      "24/12/20 17:34:48 WARN MemoryStore: Failed to reserve initial memory threshold of 1024.0 KiB for computing block rdd_164_19 in memory.\n",
      "24/12/20 17:34:48 WARN MemoryStore: Not enough space to cache rdd_164_19 in memory! (computed 384.0 B so far)\n",
      "24/12/20 17:34:49 WARN MemoryStore: Failed to reserve initial memory threshold of 1024.0 KiB for computing block rdd_164_82 in memory.\n",
      "24/12/20 17:34:49 WARN MemoryStore: Not enough space to cache rdd_164_82 in memory! (computed 384.0 B so far)\n",
      "24/12/20 17:34:49 WARN BlockManager: Persisting block rdd_164_82 to disk instead.\n",
      "24/12/20 17:34:49 WARN MemoryStore: Failed to reserve initial memory threshold of 1024.0 KiB for computing block rdd_164_82 in memory.\n",
      "24/12/20 17:34:49 WARN MemoryStore: Not enough space to cache rdd_164_82 in memory! (computed 384.0 B so far)\n",
      "24/12/20 17:35:20 WARN MemoryStore: Not enough space to cache rdd_164_147 in memory! (computed 4.3 MiB so far)\n",
      "24/12/20 17:35:20 WARN MemoryStore: Not enough space to cache rdd_164_148 in memory! (computed 4.3 MiB so far)\n",
      "24/12/20 17:35:20 WARN MemoryStore: Not enough space to cache rdd_164_150 in memory! (computed 4.5 MiB so far)\n",
      "24/12/20 17:35:20 WARN MemoryStore: Not enough space to cache rdd_164_154 in memory! (computed 4.4 MiB so far)\n",
      "24/12/20 17:35:20 WARN MemoryStore: Not enough space to cache rdd_164_158 in memory! (computed 4.3 MiB so far)\n",
      "24/12/20 17:35:20 WARN MemoryStore: Not enough space to cache rdd_164_160 in memory! (computed 4.3 MiB so far)\n",
      "24/12/20 17:35:20 WARN MemoryStore: Not enough space to cache rdd_164_163 in memory! (computed 4.3 MiB so far)\n",
      "24/12/20 17:35:20 WARN MemoryStore: Not enough space to cache rdd_164_161 in memory! (computed 4.5 MiB so far)\n",
      "24/12/20 17:35:20 WARN MemoryStore: Not enough space to cache rdd_164_165 in memory! (computed 4.3 MiB so far)\n",
      "24/12/20 17:35:20 WARN MemoryStore: Not enough space to cache rdd_164_166 in memory! (computed 4.5 MiB so far)\n",
      "24/12/20 17:35:20 WARN MemoryStore: Not enough space to cache rdd_164_174 in memory! (computed 4.4 MiB so far)\n",
      "24/12/20 17:35:20 WARN MemoryStore: Not enough space to cache rdd_164_178 in memory! (computed 4.6 MiB so far)\n",
      "24/12/20 17:35:20 WARN MemoryStore: Not enough space to cache rdd_164_186 in memory! (computed 4.4 MiB so far)\n",
      "24/12/20 17:35:21 WARN MemoryStore: Not enough space to cache rdd_164_191 in memory! (computed 4.4 MiB so far)\n",
      "24/12/20 17:35:21 WARN MemoryStore: Not enough space to cache rdd_164_193 in memory! (computed 4.6 MiB so far)\n",
      "24/12/20 17:35:21 WARN MemoryStore: Not enough space to cache rdd_164_196 in memory! (computed 4.4 MiB so far)\n",
      "24/12/20 17:35:21 WARN MemoryStore: Not enough space to cache rdd_164_197 in memory! (computed 4.5 MiB so far)\n",
      "24/12/20 17:35:28 WARN BLAS: Failed to load implementation from: com.github.fommil.netlib.NativeSystemBLAS\n",
      "24/12/20 17:35:28 WARN BLAS: Failed to load implementation from: com.github.fommil.netlib.NativeRefBLAS\n",
      "24/12/20 17:35:29 WARN LAPACK: Failed to load implementation from: com.github.fommil.netlib.NativeSystemLAPACK\n",
      "24/12/20 17:35:29 WARN LAPACK: Failed to load implementation from: com.github.fommil.netlib.NativeRefLAPACK\n",
      "Fri Dec 20 17:37:22 KST 2024 WARN: Establishing SSL connection without server's identity verification is not recommended. According to MySQL 5.5.45+, 5.6.26+ and 5.7.6+ requirements SSL connection must be established by default if explicit option isn't set. For compliance with existing applications not using SSL the verifyServerCertificate property is set to 'false'. You need either to explicitly disable SSL by setting useSSL=false, or set useSSL=true and provide truststore for server certificate verification.\n",
      "Fri Dec 20 17:37:22 KST 2024 WARN: Establishing SSL connection without server's identity verification is not recommended. According to MySQL 5.5.45+, 5.6.26+ and 5.7.6+ requirements SSL connection must be established by default if explicit option isn't set. For compliance with existing applications not using SSL the verifyServerCertificate property is set to 'false'. You need either to explicitly disable SSL by setting useSSL=false, or set useSSL=true and provide truststore for server certificate verification.\n",
      "Fri Dec 20 17:37:22 KST 2024 WARN: Establishing SSL connection without server's identity verification is not recommended. According to MySQL 5.5.45+, 5.6.26+ and 5.7.6+ requirements SSL connection must be established by default if explicit option isn't set. For compliance with existing applications not using SSL the verifyServerCertificate property is set to 'false'. You need either to explicitly disable SSL by setting useSSL=false, or set useSSL=true and provide truststore for server certificate verification.\n",
      "Fri Dec 20 17:37:22 KST 2024 WARN: Establishing SSL connection without server's identity verification is not recommended. According to MySQL 5.5.45+, 5.6.26+ and 5.7.6+ requirements SSL connection must be established by default if explicit option isn't set. For compliance with existing applications not using SSL the verifyServerCertificate property is set to 'false'. You need either to explicitly disable SSL by setting useSSL=false, or set useSSL=true and provide truststore for server certificate verification.\n",
      "[Stage 150:====================================================>(199 + 1) / 200]\r"
     ]
    },
    {
     "name": "stdout",
     "output_type": "stream",
     "text": [
      "Root-mean-square error = 0.7640719700762676\n"
     ]
    },
    {
     "name": "stderr",
     "output_type": "stream",
     "text": [
      "\r",
      "                                                                                \r"
     ]
    }
   ],
   "source": [
    "als_data = joined_df.select('user_id', 'book_id', 'rating')\n",
    "\n",
    "als = ALS(userCol='user_id', itemCol='book_id', ratingCol='rating', coldStartStrategy='drop')\n",
    "model = als.fit(als_data)\n",
    "predictions = model.transform(als_data)\n",
    "evaluator = RegressionEvaluator(metricName=\"rmse\", labelCol=\"rating\", predictionCol=\"prediction\")\n",
    "rmse = evaluator.evaluate(predictions)\n",
    "print(f\"Root-mean-square error = {rmse}\")"
   ]
  },
  {
   "cell_type": "code",
   "execution_count": 24,
   "id": "08d72baa",
   "metadata": {},
   "outputs": [
    {
     "name": "stderr",
     "output_type": "stream",
     "text": [
      "[Stage 182:====================================================> (98 + 2) / 100]\r"
     ]
    },
    {
     "name": "stdout",
     "output_type": "stream",
     "text": [
      "+-------+--------------------+\n",
      "|user_id|     recommendations|\n",
      "+-------+--------------------+\n",
      "|    148|[{6920, 4.328791}...|\n",
      "|    463|[{6920, 4.036493}...|\n",
      "|    471|[{8548, 4.4452477...|\n",
      "|    496|[{9942, 4.85534},...|\n",
      "|    833|[{3628, 4.5126524...|\n",
      "|   1088|[{3628, 4.6276484...|\n",
      "|   1238|[{9479, 4.318389}...|\n",
      "|   1342|[{3628, 4.5034027...|\n",
      "|   1580|[{3628, 4.7228737...|\n",
      "|   1591|[{6920, 4.826029}...|\n",
      "|   1645|[{9842, 4.4711795...|\n",
      "|   1829|[{3628, 4.6880302...|\n",
      "|   1959|[{422, 3.3805532}...|\n",
      "|   2122|[{8233, 3.7499032...|\n",
      "|   2142|[{3628, 4.891313}...|\n",
      "|   2366|[{862, 5.322742},...|\n",
      "|   2659|[{422, 4.387258},...|\n",
      "|   2866|[{3628, 5.054083}...|\n",
      "|   3175|[{3628, 4.879301}...|\n",
      "|   3749|[{6920, 3.942501}...|\n",
      "+-------+--------------------+\n",
      "only showing top 20 rows\n",
      "\n"
     ]
    },
    {
     "name": "stderr",
     "output_type": "stream",
     "text": [
      "\r",
      "                                                                                \r"
     ]
    }
   ],
   "source": [
    "# 각 사용자에게 10개의 추천 책\n",
    "user_recommendations = model.recommendForAllUsers(10)\n",
    "user_recommendations.show()"
   ]
  },
  {
   "cell_type": "code",
   "execution_count": 25,
   "id": "4fb3f281",
   "metadata": {},
   "outputs": [
    {
     "name": "stderr",
     "output_type": "stream",
     "text": [
      "[Stage 214:====================================================> (98 + 2) / 100]\r"
     ]
    },
    {
     "name": "stdout",
     "output_type": "stream",
     "text": [
      "+-------+-------+---------+\n",
      "|user_id|book_id|   rating|\n",
      "+-------+-------+---------+\n",
      "|    148|   6920| 4.328791|\n",
      "|    148|   3628|4.3245955|\n",
      "|    148|   9566|  4.31228|\n",
      "|    148|   6590|4.3107533|\n",
      "|    148|   9842|4.3046684|\n",
      "|    148|   5207|4.2375093|\n",
      "|    148|   5580| 4.226124|\n",
      "|    148|   4483|4.2235036|\n",
      "|    148|   3491|  4.21586|\n",
      "|    148|   9569|4.2117405|\n",
      "|    463|   6920| 4.036493|\n",
      "|    463|   3628|4.0014787|\n",
      "|    463|    862|3.9918337|\n",
      "|    463|   6590|3.9849045|\n",
      "|    463|   9566| 3.960197|\n",
      "|    463|   4483|3.9366229|\n",
      "|    463|   6361|3.9354556|\n",
      "|    463|   5580|3.9320674|\n",
      "|    463|   1788|3.9093568|\n",
      "|    463|   7254| 3.901614|\n",
      "+-------+-------+---------+\n",
      "only showing top 20 rows\n",
      "\n"
     ]
    },
    {
     "name": "stderr",
     "output_type": "stream",
     "text": [
      "\r",
      "                                                                                \r"
     ]
    }
   ],
   "source": [
    "user_recommendations_exploded = user_recommendations.withColumn(\"exploded\", F.explode(\"recommendations\"))\n",
    "user_recommendations_exploded = user_recommendations_exploded.select(\"user_id\", \"exploded.*\")\n",
    "user_recommendations_exploded.show()"
   ]
  },
  {
   "cell_type": "code",
   "execution_count": 29,
   "id": "278a889a",
   "metadata": {
    "scrolled": true
   },
   "outputs": [
    {
     "name": "stderr",
     "output_type": "stream",
     "text": [
      "Fri Dec 20 17:47:47 KST 2024 WARN: Establishing SSL connection without server's identity verification is not recommended. According to MySQL 5.5.45+, 5.6.26+ and 5.7.6+ requirements SSL connection must be established by default if explicit option isn't set. For compliance with existing applications not using SSL the verifyServerCertificate property is set to 'false'. You need either to explicitly disable SSL by setting useSSL=false, or set useSSL=true and provide truststore for server certificate verification.\n",
      "Fri Dec 20 17:47:47 KST 2024 WARN: Establishing SSL connection without server's identity verification is not recommended. According to MySQL 5.5.45+, 5.6.26+ and 5.7.6+ requirements SSL connection must be established by default if explicit option isn't set. For compliance with existing applications not using SSL the verifyServerCertificate property is set to 'false'. You need either to explicitly disable SSL by setting useSSL=false, or set useSSL=true and provide truststore for server certificate verification.\n",
      "Fri Dec 20 17:47:47 KST 2024 WARN: Establishing SSL connection without server's identity verification is not recommended. According to MySQL 5.5.45+, 5.6.26+ and 5.7.6+ requirements SSL connection must be established by default if explicit option isn't set. For compliance with existing applications not using SSL the verifyServerCertificate property is set to 'false'. You need either to explicitly disable SSL by setting useSSL=false, or set useSSL=true and provide truststore for server certificate verification.\n",
      "[Stage 321:===================================================> (195 + 2) / 200]\r"
     ]
    },
    {
     "name": "stdout",
     "output_type": "stream",
     "text": [
      "+-------+-------+---------+----------------------------------+--------------+--------------+----------+\n",
      "|user_id|book_id|rating   |title                             |authors       |average_rating|genre     |\n",
      "+-------+-------+---------+----------------------------------+--------------+--------------+----------+\n",
      "|18407  |463    |4.450994 |Dragonfly in Amber (Outlander, #2)|Diana Gabaldon|4.31          |other     |\n",
      "|18407  |463    |4.450994 |Dragonfly in Amber (Outlander, #2)|Diana Gabaldon|4.31          |fiction   |\n",
      "|18407  |463    |4.450994 |Dragonfly in Amber (Outlander, #2)|Diana Gabaldon|4.31          |series    |\n",
      "|18407  |463    |4.450994 |Dragonfly in Amber (Outlander, #2)|Diana Gabaldon|4.31          |audio-book|\n",
      "|18407  |463    |4.450994 |Dragonfly in Amber (Outlander, #2)|Diana Gabaldon|4.31          |adventure |\n",
      "|18407  |463    |4.450994 |Dragonfly in Amber (Outlander, #2)|Diana Gabaldon|4.31          |sci-fi    |\n",
      "|18407  |463    |4.450994 |Dragonfly in Amber (Outlander, #2)|Diana Gabaldon|4.31          |travel    |\n",
      "|18407  |463    |4.450994 |Dragonfly in Amber (Outlander, #2)|Diana Gabaldon|4.31          |history   |\n",
      "|18407  |463    |4.450994 |Dragonfly in Amber (Outlander, #2)|Diana Gabaldon|4.31          |e-book    |\n",
      "|18407  |463    |4.450994 |Dragonfly in Amber (Outlander, #2)|Diana Gabaldon|4.31          |fantasy   |\n",
      "|18407  |463    |4.450994 |Dragonfly in Amber (Outlander, #2)|Diana Gabaldon|4.31          |romance   |\n",
      "|49205  |463    |4.1465764|Dragonfly in Amber (Outlander, #2)|Diana Gabaldon|4.31          |other     |\n",
      "|49205  |463    |4.1465764|Dragonfly in Amber (Outlander, #2)|Diana Gabaldon|4.31          |fiction   |\n",
      "|49205  |463    |4.1465764|Dragonfly in Amber (Outlander, #2)|Diana Gabaldon|4.31          |series    |\n",
      "|49205  |463    |4.1465764|Dragonfly in Amber (Outlander, #2)|Diana Gabaldon|4.31          |audio-book|\n",
      "|49205  |463    |4.1465764|Dragonfly in Amber (Outlander, #2)|Diana Gabaldon|4.31          |adventure |\n",
      "|49205  |463    |4.1465764|Dragonfly in Amber (Outlander, #2)|Diana Gabaldon|4.31          |sci-fi    |\n",
      "|49205  |463    |4.1465764|Dragonfly in Amber (Outlander, #2)|Diana Gabaldon|4.31          |travel    |\n",
      "|49205  |463    |4.1465764|Dragonfly in Amber (Outlander, #2)|Diana Gabaldon|4.31          |history   |\n",
      "|49205  |463    |4.1465764|Dragonfly in Amber (Outlander, #2)|Diana Gabaldon|4.31          |e-book    |\n",
      "+-------+-------+---------+----------------------------------+--------------+--------------+----------+\n",
      "only showing top 20 rows\n",
      "\n"
     ]
    },
    {
     "name": "stderr",
     "output_type": "stream",
     "text": [
      "\r",
      "[Stage 321:====================================================>(198 + 2) / 200]\r",
      "\r",
      "                                                                                \r"
     ]
    }
   ],
   "source": [
    "recommendations_with_details = user_recommendations_exploded.join(\n",
    "    final_joined_df.select(\"book_id\", \"title\", \"authors\", \"average_rating\", \"genre\"),\n",
    "    on=\"book_id\",\n",
    "    how=\"left\"\n",
    ")\n",
    "\n",
    "recommendations_with_details.select(\n",
    "    \"user_id\", \"book_id\", \"rating\", \"title\", \"authors\", \"average_rating\", \"genre\"\n",
    ").show(truncate=False)"
   ]
  },
  {
   "cell_type": "code",
   "execution_count": 30,
   "id": "f43d04d3",
   "metadata": {
    "scrolled": true
   },
   "outputs": [
    {
     "name": "stderr",
     "output_type": "stream",
     "text": [
      "Fri Dec 20 17:48:47 KST 2024 WARN: Establishing SSL connection without server's identity verification is not recommended. According to MySQL 5.5.45+, 5.6.26+ and 5.7.6+ requirements SSL connection must be established by default if explicit option isn't set. For compliance with existing applications not using SSL the verifyServerCertificate property is set to 'false'. You need either to explicitly disable SSL by setting useSSL=false, or set useSSL=true and provide truststore for server certificate verification.\n",
      "Fri Dec 20 17:48:47 KST 2024 WARN: Establishing SSL connection without server's identity verification is not recommended. According to MySQL 5.5.45+, 5.6.26+ and 5.7.6+ requirements SSL connection must be established by default if explicit option isn't set. For compliance with existing applications not using SSL the verifyServerCertificate property is set to 'false'. You need either to explicitly disable SSL by setting useSSL=false, or set useSSL=true and provide truststore for server certificate verification.\n",
      "Fri Dec 20 17:48:47 KST 2024 WARN: Establishing SSL connection without server's identity verification is not recommended. According to MySQL 5.5.45+, 5.6.26+ and 5.7.6+ requirements SSL connection must be established by default if explicit option isn't set. For compliance with existing applications not using SSL the verifyServerCertificate property is set to 'false'. You need either to explicitly disable SSL by setting useSSL=false, or set useSSL=true and provide truststore for server certificate verification.\n",
      "[Stage 360:===================================================> (195 + 2) / 200]\r"
     ]
    },
    {
     "name": "stdout",
     "output_type": "stream",
     "text": [
      "+-------+-------+---------+--------------------+---------------+--------------+-------+\n",
      "|book_id|user_id|   rating|               title|        authors|average_rating|  genre|\n",
      "+-------+-------+---------+--------------------+---------------+--------------+-------+\n",
      "|    463|  18407| 4.450994|Dragonfly in Ambe...| Diana Gabaldon|          4.31|fantasy|\n",
      "|    463|  49205|4.1465764|Dragonfly in Ambe...| Diana Gabaldon|          4.31|fantasy|\n",
      "|    463|  17428|4.5934134|Dragonfly in Ambe...| Diana Gabaldon|          4.31|fantasy|\n",
      "|    463|  43130|4.4352274|Dragonfly in Ambe...| Diana Gabaldon|          4.31|fantasy|\n",
      "|    463|  43962| 3.085431|Dragonfly in Ambe...| Diana Gabaldon|          4.31|fantasy|\n",
      "|    463|   7548|4.0639377|Dragonfly in Ambe...| Diana Gabaldon|          4.31|fantasy|\n",
      "|    463|  31994|4.1646085|Dragonfly in Ambe...| Diana Gabaldon|          4.31|fantasy|\n",
      "|    463|  30608| 4.214723|Dragonfly in Ambe...| Diana Gabaldon|          4.31|fantasy|\n",
      "|   1342|   9900|5.1828184|Night Watch (Disc...|Terry Pratchett|          4.47|fantasy|\n",
      "|   1342|  22097| 4.181769|Night Watch (Disc...|Terry Pratchett|          4.47|fantasy|\n",
      "|   1342|  19868|3.8097923|Night Watch (Disc...|Terry Pratchett|          4.47|fantasy|\n",
      "|   1342|  22307|4.8919687|Night Watch (Disc...|Terry Pratchett|          4.47|fantasy|\n",
      "|   1342|  46130|4.2084794|Night Watch (Disc...|Terry Pratchett|          4.47|fantasy|\n",
      "|   1342|  31438|  4.41425|Night Watch (Disc...|Terry Pratchett|          4.47|fantasy|\n",
      "|   1342|  36547| 4.319979|Night Watch (Disc...|Terry Pratchett|          4.47|fantasy|\n",
      "|   1342|  18540|4.8370485|Night Watch (Disc...|Terry Pratchett|          4.47|fantasy|\n",
      "|   1342|  33091| 4.197289|Night Watch (Disc...|Terry Pratchett|          4.47|fantasy|\n",
      "|   1342|    353| 4.713815|Night Watch (Disc...|Terry Pratchett|          4.47|fantasy|\n",
      "|   1342|  42655| 4.451484|Night Watch (Disc...|Terry Pratchett|          4.47|fantasy|\n",
      "|   1342|  28916|4.2530637|Night Watch (Disc...|Terry Pratchett|          4.47|fantasy|\n",
      "+-------+-------+---------+--------------------+---------------+--------------+-------+\n",
      "only showing top 20 rows\n",
      "\n"
     ]
    },
    {
     "name": "stderr",
     "output_type": "stream",
     "text": [
      "\r",
      "                                                                                \r"
     ]
    }
   ],
   "source": [
    "recommendations_with_details.filter(F.col(\"genre\") == \"fantasy\").show()"
   ]
  },
  {
   "cell_type": "code",
   "execution_count": null,
   "id": "9fdd9c99",
   "metadata": {},
   "outputs": [],
   "source": []
  }
 ],
 "metadata": {
  "kernelspec": {
   "display_name": "Python (spark_start)",
   "language": "python",
   "name": "spark_start"
  },
  "language_info": {
   "codemirror_mode": {
    "name": "ipython",
    "version": 3
   },
   "file_extension": ".py",
   "mimetype": "text/x-python",
   "name": "python",
   "nbconvert_exporter": "python",
   "pygments_lexer": "ipython3",
   "version": "3.8.20"
  }
 },
 "nbformat": 4,
 "nbformat_minor": 5
}
